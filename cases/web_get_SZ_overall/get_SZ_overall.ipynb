{
 "cells": [
  {
   "cell_type": "markdown",
   "id": "1258ecbc",
   "metadata": {},
   "source": [
    "# 实时获取上海证券交易所市场总览数据\n",
    "\n",
    "- URL: <https://www.sse.com.cn/market/view/>\n",
    "- [ChatGPT](https://chatgpt.com/share/68367a94-77a4-8005-8b42-d4862d345757)"
   ]
  },
  {
   "cell_type": "code",
   "execution_count": null,
   "id": "b6017cfa",
   "metadata": {},
   "outputs": [
    {
     "name": "stdout",
     "output_type": "stream",
     "text": [
      "Working Directory: D:\\Github\\ds\\cases\\web_get_SZ_overall\\data\n"
     ]
    }
   ],
   "source": [
    "# 文件路径设定{tag}\n",
    "# Note：进行后续分析之前，请先执行本 Cell 中的代码，以确保所有路径正确设置。\n",
    "\n",
    "import os\n",
    "import sys\n",
    "import warnings\n",
    "warnings.filterwarnings(\"ignore\")\n",
    "\n",
    "# 设置根目录\n",
    "path = r'D:\\Github\\ds\\cases\\web_get_SZ_overall'\n",
    "os.chdir(path)\n",
    "\n",
    "# Folders \n",
    "data_folder = os.path.join(path, 'data')       # 原始数据存放目录\n",
    "data_clean_folder = os.path.join(path, 'data_clean')  # 清洗后的数据存放目录\n",
    "\n",
    "# 创建数据目录\n",
    "if not os.path.exists(data_folder):\n",
    "    os.makedirs(data_folder)\n",
    "if not os.path.exists(data_clean_folder):\n",
    "    os.makedirs(data_clean_folder)\n",
    "\n",
    "# 数据文件路径\n",
    "os.chdir(data_folder)\n",
    "print('Working Directory:', os.getcwd())"
   ]
  },
  {
   "cell_type": "code",
   "execution_count": 26,
   "id": "090893fc",
   "metadata": {},
   "outputs": [
    {
     "name": "stdout",
     "output_type": "stream",
     "text": [
      "数据以 Excel 格式返回\n",
      "数据已保存为 sse_market_overview.xlsx 和 .csv\n",
      "\n",
      "数据预览：\n",
      "\n",
      "             分类  数量(只)    总市值(亿元)   流通市值(亿元)   成交额(亿元)\n",
      "0            股票   2323  525495.49  499102.27   3954.55\n",
      "1           主板A   1693  458682.92  446821.09   3278.25\n",
      "2           主板B     43     944.55     695.84      1.32\n",
      "3           科创板    587   65868.02   51585.34    674.98\n",
      "4           优先股     31    7599.43    7599.43      3.64\n",
      "5            债券  32897  180125.91  180121.86   1104.75\n",
      "6           政府债  12353   29915.06   29915.06    206.33\n",
      "7           信用债  20544  150210.85   150206.8    898.43\n",
      "8            基金    851   31239.85   30520.76   1502.74\n",
      "9           ETF    689   29830.46   29830.46   1497.76\n",
      "10          LOF    118      87.44      87.44      1.49\n",
      "11  基础设施公募REITs     44    1321.95     602.86      3.48\n",
      "12           期权      5          -          -     17.50\n",
      "13           回购     45          -          -  23293.63\n",
      "14           其他     45          -          -     24.50\n"
     ]
    }
   ],
   "source": [
    "import pandas as pd\n",
    "import requests\n",
    "from io import BytesIO\n",
    "from datetime import datetime, timedelta\n",
    "\n",
    "# === 1. 配置参数 ===\n",
    "# 设定为前一个有效交易日（假设昨天为有效交易日，可根据实际情况调整）\n",
    "today = datetime.today()\n",
    "date = (today - timedelta(days=1)).strftime(\"%Y-%m-%d\")\n",
    "\n",
    "\n",
    "# === 2. 构建请求参数 ===\n",
    "url = (\n",
    "    \"https://query.sse.com.cn/commonExcelDd.do?\"\n",
    "    f\"sqlId=COMMON_SSE_SJ_SCGM_C&isPagination=false&TRADE_DATE={date}\"\n",
    ")\n",
    "headers = {\n",
    "    \"User-Agent\": \"Mozilla/5.0\",\n",
    "    \"Referer\": \"https://www.sse.com.cn/market/view/\",\n",
    "}\n",
    "\n",
    "# === 3. 发起请求 ===\n",
    "response = requests.get(url, headers=headers)\n",
    "content_type = response.headers.get('Content-Type', '')\n",
    "\n",
    "# === 4. 判断格式并读取 ===\n",
    "if response.status_code == 200:\n",
    "    try:\n",
    "        # 尝试读取 Excel 格式\n",
    "        if 'application/vnd.ms-excel' in content_type or 'application/octet-stream' in content_type \\\n",
    "           or response.content[:2] == b'\\xD0\\xCF':  # xls\n",
    "            df = pd.read_excel(BytesIO(response.content))\n",
    "            print(\"数据以 Excel 格式返回\")\n",
    "        else:\n",
    "            # 尝试读取 CSV 格式\n",
    "            df = pd.read_csv(BytesIO(response.content), encoding=\"gbk\")\n",
    "            print(\"数据以 CSV 格式返回\")\n",
    "\n",
    "        # === 5. 保存数据 ===\n",
    "        df.to_excel(f\"sse_market_overview.xlsx\", index=False)\n",
    "        df.to_csv(f\"sse_market_overview.csv\", index=False, encoding=\"gbk\")\n",
    "        print(f\"数据已保存为 sse_market_overview.xlsx 和 .csv\")\n",
    "    except Exception as e:\n",
    "        print(\"读取数据文件时发生错误：\", e)\n",
    "else:\n",
    "    print(\"下载失败，状态码：\", response.status_code)\n",
    "\n",
    "print(\"\\n数据预览：\\n\")\n",
    "print(df.head(30))"
   ]
  }
 ],
 "metadata": {
  "kernelspec": {
   "display_name": "base",
   "language": "python",
   "name": "python3"
  },
  "language_info": {
   "codemirror_mode": {
    "name": "ipython",
    "version": 3
   },
   "file_extension": ".py",
   "mimetype": "text/x-python",
   "name": "python",
   "nbconvert_exporter": "python",
   "pygments_lexer": "ipython3",
   "version": "3.12.7"
  }
 },
 "nbformat": 4,
 "nbformat_minor": 5
}
