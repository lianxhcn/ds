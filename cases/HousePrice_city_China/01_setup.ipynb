{
 "cells": [
  {
   "cell_type": "markdown",
   "id": "712f4381",
   "metadata": {},
   "source": [
    "# 简介"
   ]
  },
  {
   "cell_type": "markdown",
   "id": "9e02b66e",
   "metadata": {},
   "source": [
    "> 提示词：创建项目文件夹结构  \n",
    ">\n",
    "> 在当前路径下产生 data_raw, data_clean, output 文件夹，并生成三个新变量用于存储这些文件夹对应的路径"
   ]
  },
  {
   "cell_type": "code",
   "execution_count": 13,
   "id": "a78e01f5",
   "metadata": {},
   "outputs": [
    {
     "name": "stdout",
     "output_type": "stream",
     "text": [
      " HousePrice_city_China  - 3 dirs 2 files\n",
      "     data_clean  - 0 dirs 0 files\n",
      "     data_raw  - 0 dirs 0 files\n",
      "     output  - 0 dirs 0 files\n"
     ]
    }
   ],
   "source": [
    "import os\n",
    "import dir_tree\n",
    "\n",
    "data_raw = os.path.abspath('data_raw')\n",
    "data_clean = os.path.abspath('data_clean')\n",
    "output = os.path.abspath('output')\n",
    "\n",
    "os.makedirs(data_raw, exist_ok=True)\n",
    "os.makedirs(data_clean, exist_ok=True)\n",
    "os.makedirs(output, exist_ok=True)\n",
    "\n",
    "# 项目文件夹目录\n",
    "project_dir = os.path.abspath('.')\n",
    "project_dir\n",
    "\n",
    "dir_tree.tree(project_dir)  # 显示当前目录树"
   ]
  },
  {
   "cell_type": "markdown",
   "id": "dc3ff570",
   "metadata": {},
   "source": [
    "## 下载数据\n",
    "\n",
    "### 数据来源\n",
    "- Soure: [国家统计局](https://data.stats.gov.cn/easyquery.htm?cn=E0105)\n",
    "\n",
    "![](https://fig-lianxh.oss-cn-shenzhen.aliyuncs.com/20250522112600.png)"
   ]
  }
 ],
 "metadata": {
  "kernelspec": {
   "display_name": "base",
   "language": "python",
   "name": "python3"
  },
  "language_info": {
   "codemirror_mode": {
    "name": "ipython",
    "version": 3
   },
   "file_extension": ".py",
   "mimetype": "text/x-python",
   "name": "python",
   "nbconvert_exporter": "python",
   "pygments_lexer": "ipython3",
   "version": "3.12.7"
  }
 },
 "nbformat": 4,
 "nbformat_minor": 5
}
