{
 "cells": [
  {
   "cell_type": "markdown",
   "id": "da7fcf3e",
   "metadata": {},
   "source": [
    "\n",
    "参考：\n",
    "- Johansson, R., 2024, Numerical Python: Scientific Computing and Data Science Applications with Numpy, SciPy and Matplotlib. Apress Berkeley, CA. [Link](https://link.springer.com/book/10.1007/979-8-8688-0413-7), [PDF](https://link.springer.com/content/pdf/10.1007/979-8-8688-0413-7.pdf) (需要用校园 ID 登录), [github](https://github.com/Apress/Numerical-Python-3rd-ed/fork)\n",
    "  - Python 入门，绘图，科学计算，偏微分方程，统计和机器学习初步\n",
    "  - CHAPTER 4 Plotting and Visualization, 介绍绘图的基本元素. "
   ]
  }
 ],
 "metadata": {
  "language_info": {
   "name": "python"
  }
 },
 "nbformat": 4,
 "nbformat_minor": 5
}
