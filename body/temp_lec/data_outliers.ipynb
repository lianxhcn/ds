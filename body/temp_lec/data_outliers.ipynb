{
 "cells": [
  {
   "cell_type": "markdown",
   "id": "3bd1d13a",
   "metadata": {},
   "source": [
    "- [Outlier!!! The Silent Killer](https://www.kaggle.com/code/nareshbhat/outlier-the-silent-killer/notebook)\n",
    "  - Lecture\n",
    "  - 使用了多个经典数据集：house prices、titanic、iris\n",
    "  - 介绍了多种异常值检测方法"
   ]
  }
 ],
 "metadata": {
  "language_info": {
   "name": "python"
  }
 },
 "nbformat": 4,
 "nbformat_minor": 5
}
