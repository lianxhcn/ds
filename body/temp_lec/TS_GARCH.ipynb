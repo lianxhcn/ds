{
 "cells": [
  {
   "cell_type": "markdown",
   "id": "038e8e2f",
   "metadata": {},
   "source": [
    "# GARCH 模型\n",
    "\n",
    "- [arch package](https://bashtage.github.io/arch/index.html)\n",
    "\n"
   ]
  }
 ],
 "metadata": {
  "language_info": {
   "name": "python"
  }
 },
 "nbformat": 4,
 "nbformat_minor": 5
}
