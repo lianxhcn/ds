{
 "cells": [
  {
   "cell_type": "markdown",
   "id": "d39efaad",
   "metadata": {},
   "source": [
    "# Python：语法解析-面向对象编程\n",
    "\n",
    "> “Python 是一门面向对象的编程语言”  \n",
    "\n",
    "## 简介\n",
    "\n",
    "本章的目的不是教你编程，而是为了让你更好地理解 Python 的语法规则。\n",
    "\n",
    "对于初学 Python 的人而言，“Python 是一门面向对象的编程 (OOP) 语言” 这样的表述想必并不陌生。然而，“面向对象”究竟是什么，尤其是“对象”的概念，却常常让人摸不着头脑。以众多 Stata 老用户为例，当他们初次见到下面这段代码时，往往会陷入困惑："
   ]
  },
  {
   "cell_type": "code",
   "execution_count": null,
   "id": "ac573a78",
   "metadata": {},
   "outputs": [
    {
     "name": "stdout",
     "output_type": "stream",
     "text": [
      "                            OLS Regression Results                            \n",
      "==============================================================================\n",
      "Dep. Variable:                    mpg   R-squared:                       0.753\n",
      "Model:                            OLS   Adj. R-squared:                  0.745\n",
      "Method:                 Least Squares   F-statistic:                     91.38\n",
      "Date:                Sat, 24 May 2025   Prob (F-statistic):           1.29e-10\n",
      "Time:                        01:31:42   Log-Likelihood:                -80.015\n",
      "No. Observations:                  32   AIC:                             164.0\n",
      "Df Residuals:                      30   BIC:                             167.0\n",
      "Df Model:                           1                                         \n",
      "Covariance Type:            nonrobust                                         \n",
      "==============================================================================\n",
      "                 coef    std err          t      P>|t|      [0.025      0.975]\n",
      "------------------------------------------------------------------------------\n",
      "const         37.2851      1.878     19.858      0.000      33.450      41.120\n",
      "wt            -5.3445      0.559     -9.559      0.000      -6.486      -4.203\n",
      "==============================================================================\n",
      "Omnibus:                        2.988   Durbin-Watson:                   1.252\n",
      "Prob(Omnibus):                  0.225   Jarque-Bera (JB):                2.399\n",
      "Skew:                           0.668   Prob(JB):                        0.301\n",
      "Kurtosis:                       2.877   Cond. No.                         12.7\n",
      "==============================================================================\n",
      "\n",
      "Notes:\n",
      "[1] Standard Errors assume that the covariance matrix of the errors is correctly specified.\n"
     ]
    }
   ],
   "source": [
    "import statsmodels.api as sm\n",
    "import pandas as pd\n",
    "\n",
    "# 加载示例数据\n",
    "mtcars = sm.datasets.get_rdataset('mtcars', 'datasets').data\n",
    "\n",
    "# 模型 1\n",
    "X1 = mtcars[['wt']]\n",
    "X1 = sm.add_constant(X1)\n",
    "y = mtcars['mpg']\n",
    "model1 = sm.OLS(y, X1).fit()\n",
    "print(model1.summary())\n"
   ]
  },
  {
   "cell_type": "markdown",
   "id": "0f20991e",
   "metadata": {},
   "source": [
    "\n",
    "\n",
    "在 `mtcars = sm.datasets.get_rdataset('mtcars', 'datasets').data` 这条语句中，呈现出 `sm.A.B().C` 的形式。初学者不免产生如下疑问：\n",
    "\n",
    "- 这里面哪些是函数 (function)？\n",
    "- 哪些是方法 (method)？\n",
    "- 哪些又是对象的属性呢？\n",
    "- 需要学习哪些概念才能搞清楚这些语句的编写规则？\n",
    "\n",
    "同样令人费解的语句还有 `model1 = sm.OLS(y, X1).fit()`。\n",
    "\n",
    "上述问题其实是近两年 Python 学习者普遍面临的困惑。有了 AI 助手（如豆包、Copilot 等），很多人得以快速上手 Python。但好景不长，大家很快就会遭遇瓶颈。面对 AI 自动生成的代码，自己往往一知半解，基本不具备调试和修改代码的能力。这就导致在使用 Python 一段时间后，自身编写代码的能力始终难以显著提升，还总是花费大量时间进行调试，从而无法集中精力思考更高级的问题。\n",
    "\n",
    "为此，本文将详细介绍 Python 面向对象编程的核心概念，帮你深入理解 Python 代码的逻辑和结构关系，进而提升编写 Python 代码的能力。接下来，我们就将逐步解答上述代码中的疑问。\n",
    "\n"
   ]
  },
  {
   "cell_type": "markdown",
   "id": "0a33db8c",
   "metadata": {},
   "source": [
    "## 类 v.s 对象：直观解释\n",
    "\n",
    ">**解读 1 - 填写表格**：空白表是「类」，填好的表式「对象 (实例)」\n",
    "\n",
    "我们经常需要填写纸质或电子表格：去医院看病、网上购物、或者参加婚礼需要回复 RSVP。**表格**就是一种标准化的方式，方便他人或机构收集你的信息。不同的表格关注的信息各不相同：你会在医生的表格上填写敏感的健康状况，而婚礼邀请回复表格则关注你会带几位嘉宾 —— 这两种信息互不相干。\n",
    "\n",
    "在 Python 中，**class**（类）、**type**（类型）、**data type**（数据类型）这些术语基本等价。可以按照如下逻辑来理解：\n",
    "\n",
    "- 可以把**类**看作是 Python **对象**（也称为「实例」）的**模板 (blueprint)**；\n",
    "- 对象则是具体的数据实体，代表某个「名词」（可以是医院里的病人、网上的购物订单、婚礼的嘉宾等等）。\n",
    "- **类**就像是一张空白表格模板，而**对象**就是基于这个模板，实际填写了数据的具体表格。\n",
    "\n",
    "比如，下图中的 RSVP 回复表格就是类的一个例子，而具体填写好的 RSVP 回执，就是一个对象：\n",
    "\n",
    "![](https://fig-lianxh.oss-cn-shenzhen.aliyuncs.com/20250509083144.png)\n",
    "\n",
    "Source：[15 Object-Oriented Programming and Classes](https://inventwithpython.com/beyond/chapter15.html)\n",
    "\n",
    "\n",
    "&emsp;\n",
    "\n",
    ">**另一种类比**：电子表格（Excel）\n",
    "\n",
    "你还可以把类和对象类比为电子表格（比如 Excel），如下图所示。表格的**列名**就类似于类（定义了每个属性），而表格的每一**行**就相当于一个具体对象（包含具体的数据）。\n",
    "\n",
    "![](https://fig-lianxh.oss-cn-shenzhen.aliyuncs.com/20250509083406.png)\n",
    "\n",
    "下面，我们做详细介绍。\n",
    "\n",
    "## 类、对象、封装、继承和多态\n",
    "\n",
    "### 类（Class）\n",
    "\n",
    "类是对象的模板，它定义了对象的属性和方法，可将其视为一种自定义的数据类型。以 `Person` 类为例：\n",
    "\n"
   ]
  },
  {
   "cell_type": "code",
   "execution_count": null,
   "id": "dcfc2c06",
   "metadata": {},
   "outputs": [],
   "source": [
    "class Person:\n",
    "    def __init__(self, name, age):\n",
    "        self.name = name\n",
    "        self.age = age\n",
    "\n",
    "    def introduce(self):\n",
    "        print(f\"我叫 {self.name}，今年 {self.age} 岁。\")\n",
    "        "
   ]
  },
  {
   "cell_type": "markdown",
   "id": "16cca23f",
   "metadata": {},
   "source": [
    "\n",
    "`Person` 类包含两个函数，分别是 `__init__()` 和 `introduce()`。前者用于定义「对象的**属性**」，后者用于定义「对象的**方法**」。具体说明如下：\n",
    "\n",
    "- `__init__()` 是一个特殊的函数，称为「构造函数」。它的作用是在创建类的对象时，初始化 **对象的属性**。在这个例子里，`__init__()` 定义了 `Person` 类的两个属性，即 `name` 和 `age`。\n",
    "- `introduce()` 函数定义了 `Person` 类的一个**方法**，其功能是打印出对象的 `name` 和 `age` 信息。\n",
    "\n",
    "这里要着重说明一下 `self` 这个参数。在 Python 的类中，`self` 是一个约定俗成的参数名，它代表类的实例对象本身。当你调用类的方法时，Python 会自动将调用该方法的对象作为第一个参数传递给 `self`。借助 `self`，方法能够访问和修改对象的属性。\n",
    "\n",
    "例如，在 `__init__()` 方法里，`self.name = name` 这一操作把传入的 `name` 参数值赋给了对象的 `name` 属性；在 `introduce()` 方法中，`self.name` 和 `self.age` 用于获取对象的 `name` 和 `age` 属性值。\n",
    "\n",
    "### 对象（Object）\n",
    "\n",
    "对象是类的实例。通过类能够创建多个不同的对象，每个对象都有自己独立的属性值。例如：\n",
    "\n"
   ]
  },
  {
   "cell_type": "code",
   "execution_count": null,
   "id": "998604ed",
   "metadata": {},
   "outputs": [
    {
     "name": "stdout",
     "output_type": "stream",
     "text": [
      "张三\n",
      "李四\n",
      "我叫 张三，今年 20 岁。\n",
      "我叫 李四，今年 25 岁。\n"
     ]
    }
   ],
   "source": [
    "p1 = Person(\"张三\", 20)\n",
    "p2 = Person(\"李四\", 25)\n",
    "\n",
    "print(p1.name)  # 输出: 张三\n",
    "print(p2.name)  # 输出: 李四\n",
    "\n",
    "p1.introduce()  # 输出: 我叫 张三，今年 20 岁。\n",
    "p2.introduce()  # 输出: 我叫 李四，今年 25 岁。\n"
   ]
  },
  {
   "cell_type": "markdown",
   "id": "866110a4",
   "metadata": {},
   "source": [
    "此例中，`p1` 和 `p2` 是 `Person` 类的两个不同对象。`p1.name` 的值是 \"张三\"，`p2.name` 的值是 \"李四\"，这体现了不同对象的属性可以有不同的值。\n",
    "\n"
   ]
  },
  {
   "cell_type": "markdown",
   "id": "204ed8f6",
   "metadata": {},
   "source": [
    "### 封装（Encapsulation）\n",
    "\n",
    "封装是面向对象编程的一个重要特性，它指的是将数据（属性）和操作数据的方法捆绑在一起，并且对外部隐藏对象的内部实现细节。封装的作用主要体现在以下几个方面：\n",
    "\n",
    "- **数据保护**：防止外部代码直接访问和修改对象的属性，从而避免数据被意外修改或破坏。\n",
    "- **简化接口**：只向外部暴露必要的方法，隐藏内部实现细节，降低外部代码与对象之间的耦合度，使代码更易于维护和扩展。\n",
    "\n",
    "在 Python 中，可以通过访问控制来实现封装。虽然 Python 没有像其他语言那样严格的访问修饰符（如 `private`、`protected`），但可以通过约定来表示属性或方法的访问级别。以单下划线开头的属性或方法被视为受保护的，以双下划线开头的属性或方法被视为私有的。例如："
   ]
  },
  {
   "cell_type": "code",
   "execution_count": null,
   "id": "5b9fd42d",
   "metadata": {},
   "outputs": [
    {
     "name": "stdout",
     "output_type": "stream",
     "text": [
      "1300\n"
     ]
    }
   ],
   "source": [
    "class BankAccount:\n",
    "    def __init__(self, balance):\n",
    "        self.__balance = balance\n",
    "\n",
    "    def deposit(self, amount):\n",
    "        self.__balance += amount\n",
    "\n",
    "    def withdraw(self, amount):\n",
    "        if amount <= self.__balance:\n",
    "            self.__balance -= amount\n",
    "        else:\n",
    "            print(\"余额不足\")\n",
    "\n",
    "    def get_balance(self):\n",
    "        return self.__balance\n",
    "\n",
    "account = BankAccount(1000)\n",
    "account.deposit(500)\n",
    "account.withdraw(200)\n",
    "print(account.get_balance())  # 输出: 1300\n"
   ]
  },
  {
   "cell_type": "markdown",
   "id": "74881eeb",
   "metadata": {},
   "source": [
    "\n",
    "\n",
    "在这个例子中，`__balance` 是一个私有属性，外部不能直接访问，只能通过 `deposit`、`withdraw` 和 `get_balance` 等方法来操作。这样就保证了账户余额的安全性，外部代码无法随意修改余额。\n",
    "\n",
    "### 4. 继承（Inheritance）\n",
    "\n",
    "继承是指一个类可以继承另一个类的属性和方法。被继承的类称为父类（基类），继承的类称为子类（派生类）。子类可以扩展父类的功能，也可以重写父类的方法。例如：\n",
    "\n"
   ]
  },
  {
   "cell_type": "code",
   "execution_count": null,
   "id": "3fa96fd9",
   "metadata": {},
   "outputs": [
    {
     "name": "stdout",
     "output_type": "stream",
     "text": [
      "我叫 王五，今年 18 岁。\n",
      "王五 正在学习。\n"
     ]
    }
   ],
   "source": [
    "class Student(Person):\n",
    "    def __init__(self, name, age, student_id):\n",
    "        super().__init__(name, age)\n",
    "        self.student_id = student_id\n",
    "\n",
    "    def study(self):\n",
    "        print(f\"{self.name} 正在学习。\")\n",
    "\n",
    "stu = Student(\"王五\", 18, \"001\")\n",
    "stu.introduce() \n",
    "stu.study()    \n"
   ]
  },
  {
   "cell_type": "markdown",
   "id": "11affe4d",
   "metadata": {},
   "source": [
    "\n",
    "在这个例子中，`Student` 类继承了 `Person` 类的属性和方法，并添加了自己的属性 `student_id` 和方法 `study`。`super().__init__(name, age)` 调用了父类的构造函数，对 `name` 和 `age` 属性进行初始化。\n",
    "\n",
    "### 多态（Polymorphism）\n",
    "\n",
    "多态是指不同的对象可以对同一个操作做出不同的响应。下面通过几个例子来帮助你理解多态的概念和应用。\n",
    "\n",
    "#### 简单数据类型示例\n",
    "\n",
    "```python\n",
    "a = 5\n",
    "b = \"apple\"\n",
    "print(a * 3)  # 输出: 15\n",
    "print(b * 3)  # 输出: appleappleapple\n",
    "\n",
    "```\n",
    "\n",
    "可见，`*` 运算符对于整数 `a` 和字符串 `b` 有不同的行为：\n",
    "\n",
    "- 对于整数，`*` 表示乘法运算；\n",
    "- 对于字符串，`*` 表示重复字符串。\n",
    "\n",
    "这就是多态的体现，同一个运算符在不同的数据类型上有不同的操作。\n",
    "\n",
    "#### 类的方法重写示例\n",
    "\n"
   ]
  },
  {
   "cell_type": "code",
   "execution_count": 8,
   "id": "e34fc304",
   "metadata": {},
   "outputs": [
    {
     "name": "stdout",
     "output_type": "stream",
     "text": [
      "20\n",
      "28.259999999999998\n"
     ]
    }
   ],
   "source": [
    "\n",
    "class Shape:\n",
    "    def area(self):\n",
    "        pass\n",
    "\n",
    "class Rectangle(Shape):\n",
    "    def __init__(self, length, width):\n",
    "        self.length = length\n",
    "        self.width = width\n",
    "\n",
    "    def area(self):\n",
    "        return self.length * self.width\n",
    "\n",
    "class Circle(Shape):\n",
    "    def __init__(self, radius):\n",
    "        self.radius = radius\n",
    "\n",
    "    def area(self):\n",
    "        return 3.14 * self.radius * self.radius\n",
    "\n",
    "shapes = [Rectangle(4, 5), Circle(3)]\n",
    "for shape in shapes:\n",
    "    print(shape.area())\n"
   ]
  },
  {
   "cell_type": "markdown",
   "id": "694e69c5",
   "metadata": {},
   "source": [
    "\n",
    "在这个例子中，`Rectangle` 和 `Circle` 类都继承自 `Shape` 类，并且重写了 `area` 方法。当我们遍历 `shapes` 列表并调用每个对象的 `area` 方法时，不同的对象会根据自己的实现方式计算并返回面积，这也是多态的应用。\n",
    "\n",
    "#### Python 支持多态的原因\n",
    "\n",
    "Python 能够支持多态，主要得益于其动态类型的特性。在 Python 中，变量在声明时不需要预先指定数据类型，变量的类型是在运行时动态确定的。这意味着一个变量可以在不同的时刻引用不同类型的对象。当调用一个函数或方法时，Python 不会关心对象的具体类型，只要对象实现了所需的方法或属性，就可以正常调用。\n",
    "\n",
    "这种特性使得 Python 代码更加灵活，能够轻松实现多态。例如，在上面的 `shapes` 列表中，`Rectangle` 和 `Circle` 对象虽然类型不同，但都实现了 `area` 方法，因此可以统一调用 `area` 方法来计算面积。\n",
    "\n",
    "### 面向对象概念在具体包和函数中的应用\n",
    "\n",
    "在实际的 Python 编程中，面向对象编程的概念广泛应用于各种包和函数中。下面以 `pandas` 和 `matplotlib` 这两个常用的包为例进行说明。\n",
    "\n",
    "#### `pandas` 中的应用\n",
    "\n",
    "`pandas` 是一个用于数据处理和分析的强大包，其中大量使用了类和对象的概念。例如，`DataFrame` 是 `pandas` 中最常用的类之一，用于表示二维表格数据。\n",
    "\n"
   ]
  },
  {
   "cell_type": "code",
   "execution_count": null,
   "id": "06723c1d",
   "metadata": {},
   "outputs": [
    {
     "name": "stdout",
     "output_type": "stream",
     "text": [
      "  Name  Age\n",
      "0   张三   20\n",
      "1   李四   25\n",
      "2   王五   18\n",
      "--------------------\n",
      "     count  mean   std   min   25%   50%   75%   max\n",
      "Age    3.0  21.0  3.61  18.0  19.0  20.0  22.5  25.0\n"
     ]
    }
   ],
   "source": [
    "import pandas as pd\n",
    "\n",
    "# 创建一个 DataFrame 对象\n",
    "data = {\n",
    "    'Name': ['张三', '李四', '王五'],\n",
    "    'Age': [20, 25, 18]\n",
    "}\n",
    "df = pd.DataFrame(data)\n",
    "\n",
    "# 使用 DataFrame 的方法\n",
    "print(df.head())      # 查看数据集行数\n",
    "print('-' * 20)\n",
    "print(df.describe().T.round(2))  # T 表示转置\n"
   ]
  },
  {
   "cell_type": "markdown",
   "id": "48a0dfc7",
   "metadata": {},
   "source": [
    "\n",
    "此例中，`pd.DataFrame` 是一个类，`df` 是 `DataFrame` 类的一个对象。\n",
    "\n",
    "我们可以调用 `df` 对象的各种方法，如 `head()` 和 `describe()`，来对数据进行操作和分析。甚至可以采用链式调用的方式来连续执行多个操作，如 `df.describe().T.round(2)` 表示对 `df` 对象依次进行如下操作：计算基本统计量 &rarr; 转置 &rarr; 四舍五入 (保留两位有效数字)。\n",
    "\n",
    "\n",
    "\n",
    "#### `matplotlib` 中的应用\n",
    "\n",
    "`matplotlib` 是一个用于数据可视化的包，也广泛应用了面向对象编程的思想。例如，我们可以使用 `Figure` 和 `Axes` 类来创建和定制图形。\n",
    "\n"
   ]
  },
  {
   "cell_type": "code",
   "execution_count": null,
   "id": "f23ebde7",
   "metadata": {},
   "outputs": [
    {
     "data": {
      "image/png": "[encoded data removed]",
      "text/plain": [
       "<Figure size 200x200 with 1 Axes>"
      ]
     },
     "metadata": {},
     "output_type": "display_data"
    }
   ],
   "source": [
    "import matplotlib.pyplot as plt\n",
    "\n",
    "# 创建一个 Figure 对象和一个 Axes 对象\n",
    "fig, ax = plt.subplots(figsize=(2, 2))\n",
    "\n",
    "# 绘制数据\n",
    "x = [1, 2, 3, 4, 5]\n",
    "y = [2, 4, 6, 8, 10]\n",
    "ax.plot(x, y)\n",
    "\n",
    "# 设置图形属性\n",
    "ax.set_title('line plot')\n",
    "ax.set_xlabel('X')\n",
    "ax.set_ylabel('Y')\n",
    "\n",
    "# 显示图形\n",
    "plt.show()\n"
   ]
  },
  {
   "cell_type": "markdown",
   "id": "662d808a",
   "metadata": {},
   "source": [
    "\n",
    "\n",
    "在这个例子中，`fig` 是 `Figure` 类的对象，`ax` 是 `Axes` 类的对象。\n",
    "\n",
    "我们可以通过调用 `ax` 对象的方法，如 `plot()`、`set_title()`、`set_xlabel()` 和 `set_ylabel()` 来绘制和定制图形。这体现了面向对象编程在 `matplotlib` 中的应用，通过将图形的不同部分封装成对象，使得图形的创建和定制更加灵活和可控。\n",
    "\n",
    "\n",
    "## 包、函数、方法和属性\n",
    "\n",
    "我们先简要介绍一下理解复杂语句所需的基础概念。\n",
    "\n",
    "### 包（Package）和模块（Module）\n",
    "\n",
    "#### 模块（Module）\n",
    "\n",
    "- 模块是单个 `.py` 文件，包含函数、类、变量等代码。\n",
    "- 例如：\n",
    "  - `arrow.api.py` 是一个模块，包含 `get()` 函数。\n",
    "  - `numpy.random.py` 也是一个模块，内含若干个用于生成随机数的函数。\n",
    "\n",
    "#### 包（Package）\n",
    "\n",
    "包是一个包含多个模块的**目录**，通常还包含一个 `__init__.py` 文件。\n",
    "\n",
    "一个包中可以包含多个子包，而每个包中又可以包含多个模块。包的目录结构类似于文件系统的目录结构。`__init__.py` 文件的作用是标识该目录是一个包，更重要的是，它详细记录了这个包里都有哪些模块和子包。\n",
    "\n",
    "包通过目录结构组织代码，例如：\n",
    "\n",
    "  ```python\n",
    "  pandas/               # 根包\n",
    "    __init__.py         # 标识这是一个包\n",
    "    core/               # 子包\n",
    "      __init__.py\n",
    "      frame.py          # 模块（定义 DataFrame）\n",
    "      series.py         # 模块（定义 Series）\n",
    "    io/                 # 子包\n",
    "      __init__.py\n",
    "      excel.py          # 模块（处理 Excel 文件）\n",
    "  ```\n",
    "\n",
    "比如，`arrow` 是一个用于处理日期和时间的包，该包的程序文件存放于 `arrow` 目录下：\n",
    "\n",
    "![](https://fig-lianxh.oss-cn-shenzhen.aliyuncs.com/20250524004230.png)\n",
    "\n",
    "其中包含 `__init__.py` 文件和其他模块文件（如 `arrow.py`、`util.py` 等）。当你使用 `import arrow` 时，Python 会自动执行 `__init__.py` 文件中的代码，从而初始化包的命名空间。\n",
    "\n",
    "你若执行 `from arrow import api`，则会导入 `arrow` 包中的 `api` 模块。然后你可以使用 `api` 模块中的函数和类，例如 `api.get()`。\n"
   ]
  },
  {
   "cell_type": "code",
   "execution_count": null,
   "id": "abfad426",
   "metadata": {},
   "outputs": [
    {
     "name": "stdout",
     "output_type": "stream",
     "text": [
      "<class 'module'>\n",
      "c:\\ProgramData\\anaconda3\\Lib\\site-packages\\arrow\\__init__.py\n"
     ]
    }
   ],
   "source": [
    "import arrow as ar\n",
    "\n",
    "# 查看 arrow 的类型\n",
    "print(type(ar)) \n",
    "\n",
    "# 查看 arrow 的路径\n",
    "print(ar.__file__)  \n",
    "\n",
    "# 输出类似：/path/to/site-packages/arrow/__init__.py\n",
    "# 这表明 arrow 是包含多个子包的根目录。"
   ]
  },
  {
   "cell_type": "markdown",
   "id": "1364a7b6",
   "metadata": {},
   "source": [
    "同理，你可以使用如下方法查看其他包的路径：\n"
   ]
  },
  {
   "cell_type": "code",
   "execution_count": null,
   "id": "936fa9bf",
   "metadata": {},
   "outputs": [
    {
     "name": "stdout",
     "output_type": "stream",
     "text": [
      "c:\\ProgramData\\anaconda3\\Lib\\site-packages\\pandas\\__init__.py\n"
     ]
    }
   ],
   "source": [
    "import pandas as pd\n",
    "print(pd.__file__)  # 查看 pandas 的路径"
   ]
  },
  {
   "cell_type": "markdown",
   "id": "08e3344d",
   "metadata": {},
   "source": [
    "\n",
    "### 函数（Function）和方法（Method）\n",
    "\n",
    "函数是一段完成特定任务的独立代码块，可以直接调用。而方法是与对象关联的函数，必须通过对象来调用。例如，\n",
    "\n",
    "- 在 `sm.datasets.get_rdataset()` 中，`get_rdataset()` 是一个函数，它属于 `statsmodels` 包中 `datasets` 模块。\n",
    "- 在 `model1 = sm.OLS(y, X1).fit()` 中：\n",
    "  - `OLS()` 是 `sm` 包中的一个函数，用于创建一个普通最小二乘回归模型对象。\n",
    "  - `sm.OLS(y, X1)` 创建了一个 `OLS` **对象**。\n",
    "    - `fit()` 是 `sm.OLS(y, X1)` 创建的对象的**方法**。\n",
    "\n",
    "#### 类中的属性（Attribute）和方法（Method）\n",
    "\n",
    "**属性** 是类或对象的数据成员，而 **方法** 则是类或对象的函数成员。\n",
    "\n",
    "因此，在 `mtcars = sm.datasets.get_rdataset('mtcars', 'datasets').data` 中，`.data` 就是 `get_rdataset()` 函数返回的对象的一个属性，里面存储着对象里的数据。\n",
    "\n",
    "## 解析复杂语句\n",
    "\n",
    "现在我们来详细解析引言中提到的复杂语句：\n",
    "\n",
    "```python\n",
    "import statsmodels.api as sm\n",
    "\n",
    "# 加载示例数据\n",
    "mtcars = sm.datasets.get_rdataset('mtcars', 'datasets').data\n",
    "mtcars.head()\n",
    "```\n",
    "\n",
    "具体解释如下：\n",
    "\n",
    "- `sm` 是 `statsmodels.api` 模块的别名。\n",
    "- `datasets` 是 `sm` 下的一个子模块，专门用于访问内置或外部数据集。\n",
    "- `get_rdataset('mtcars', 'datasets')` 是 `datasets` 子模块中的一个函数，用于从 R 的数据集仓库中的 **datasets** 包中获取名为 `'mtcars'` 的数据集。这个函数会返回一个包含数据集及其元信息 (meta information) 的对象 (可以假想为名称为 **mtcars_object** 的对象)。\n",
    "- `.data` 是对象 **mtcars_object** 的一个属性，用于提取实际的数据内容（通常为一个 `pandas.DataFrame`）。\n",
    "- 因此，最终得到的 `mtcars` 变量就是一个 `pandas.DataFrame` 对象，包含了 `'mtcars'` 数据集的实际数据。\n",
    "- `mtcars.head()` 是 `pandas.DataFrame` 对象的方法，用于查看数据集的前几行数据。\n",
    "\n",
    "需要注意的是，在上述语句中，`datasets` 这个关键词出现了两次，两者含义不同，不要混淆：\n",
    "\n",
    "- 第一次是指 `sm` 下的 `datasets` 子模块；\n",
    "- 第二次是作为参数传递给 `get_rdataset()` 函数，它是 R 语言中的一个扩展包的名称，而 `mtcars` 则是 **datasets** 包中的一个数据集。\n",
    "\n",
    "把上述代码拆成两行更有助于理解 **模块**、**函数** 和 **属性** 这三个概念的区别：\n",
    "\n",
    "```python\n",
    "import statsmodels.api as sm\n",
    "\n",
    "# 获取数据集对象：'object = 模块.函数()' 格式\n",
    "#        本例中：'object = 模块.子模块.函数(参数1, 参数2)' 格式\n",
    "mtcars_object = sm.datasets.get_rdataset('mtcars', 'datasets') \n",
    "\n",
    "# 获取数据集内容：'object.属性' 格式\n",
    "mtcars_df = mtcars_object.data \n",
    "```\n",
    "\n",
    "可以将这行代码拆解为以下几步，更便于初学者理解：\n",
    "\n",
    "```python\n",
    "# 第一步：获取 datasets 子模块\n",
    "datasets_module = sm.datasets\n",
    "\n",
    "# 第二步：调用 get_rdataset 函数获取数据集对象\n",
    "rdataset = datasets_module.get_rdataset('mtcars', 'datasets')\n",
    "  # - 'mtcars' 是数据集的名称\n",
    "  # - 'datasets' 是数据集所在的包名\n",
    "# 第三步：通过 data 属性获取实际的数据\n",
    "mtcars = rdataset.data\n",
    "```\n",
    "\n",
    "至此，代码的第二部分也很容易理解了：\n",
    "\n",
    "```python\n",
    "# 模型 1\n",
    "X1 = data[['weight']]\n",
    "X1 = sm.add_constant(X1)\n",
    "y = data['mpg']\n",
    "model1 = sm.OLS(y, X1).fit()\n",
    "```\n",
    "\n",
    "解释如下：\n",
    "\n",
    "- `sm.OLS(y, X1)`：\n",
    "    - `OLS` 是 `statsmodels.api` 模块中的一个类，用于创建一个普通最小二乘回归模型的对象。这里传入的参数 `y` 是因变量，`X1` 是自变量。\n",
    "- `.fit()`：是 `sm.OLS(y, X1)` 创建的对象的方法，用于拟合模型，即根据输入的数据计算模型的参数。\n",
    "\n",
    " \n",
    "\n",
    "\n",
    "## 参考资料\n",
    "\n",
    "- [Python 100 Days - 18.面向对象编程入门](https://github.com/jackfrued/Python-100-Days/blob/master/Day01-20/18.%E9%9D%A2%E5%90%91%E5%AF%B9%E8%B1%A1%E7%BC%96%E7%A8%8B%E5%85%A5%E9%97%A8.md)\n",
    "\n",
    "\n"
   ]
  },
  {
   "cell_type": "markdown",
   "id": "729bcf64",
   "metadata": {},
   "source": [
    "## 总结\n",
    "\n",
    "- 模块是单个 `.py` 文件，包含函数、类、变量等代码。\n",
    "- 包是一个包含多个模块的目录，通常还包含一个 `__init__.py` 文件。\n",
    "- 类是对象的模板，它定义了对象的属性和方法。\n",
    "- 对象是类的实例。通过类能够创建多个不同的对象，每个对象都有自己独立的属性值。\n",
    "- 封装是将数据（属性）和操作数据的方法捆绑在一起，并对外部隐藏对象的内部实现细节。\n",
    "- 继承是一个类可以继承另一个类的属性和方法。\n",
    "- 多态是指不同的对象可以对同一个操作做出不同的响应。\n",
    "- 函数是一段完成特定任务的独立代码块，可以直接调用。"
   ]
  }
 ],
 "metadata": {
  "kernelspec": {
   "display_name": "base",
   "language": "python",
   "name": "python3"
  },
  "language_info": {
   "codemirror_mode": {
    "name": "ipython",
    "version": 3
   },
   "file_extension": ".py",
   "mimetype": "text/x-python",
   "name": "python",
   "nbconvert_exporter": "python",
   "pygments_lexer": "ipython3",
   "version": "3.12.7"
  }
 },
 "nbformat": 4,
 "nbformat_minor": 5
}
