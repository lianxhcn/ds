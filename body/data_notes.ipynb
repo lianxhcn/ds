{
 "cells": [
  {
   "cell_type": "markdown",
   "id": "e5f2bc5a",
   "metadata": {},
   "source": [
    "# 数据存储类型\n",
    "\n"
   ]
  },
  {
   "cell_type": "markdown",
   "id": "a5e17e62",
   "metadata": {},
   "source": [
    "## 字典\n",
    "\n",
    "- 参见 搬书匠-2529-Learn Python Visually-2021-英文版.pdf, Chapter 8\n",
    "\n",
    "\n",
    "![20250603164725](https://fig-lianxh.oss-cn-shenzhen.aliyuncs.com/20250603164725.png)"
   ]
  },
  {
   "cell_type": "code",
   "execution_count": 2,
   "id": "1c74ee3a",
   "metadata": {},
   "outputs": [
    {
     "name": "stdout",
     "output_type": "stream",
     "text": [
      "24\n",
      "{'name': 'Sam', 'age': 24}\n"
     ]
    }
   ],
   "source": [
    "stu_list = ['Sam', 24]\n",
    "stu_dict = {'name': 'Sam', 'age': 24}\n",
    "\n",
    "print(stu_dict['age'])\n",
    "\n",
    "print(stu_dict)"
   ]
  },
  {
   "cell_type": "markdown",
   "id": "a55ba60b",
   "metadata": {},
   "source": [
    "我们可以对字典进行如下操作：\n",
    "\n",
    "- 修改 value\n",
    "- 添加新的 key-value 对\n",
    "- 删除 key-value 对\n"
   ]
  },
  {
   "cell_type": "code",
   "execution_count": 10,
   "id": "43e255fc",
   "metadata": {},
   "outputs": [
    {
     "name": "stdout",
     "output_type": "stream",
     "text": [
      "{'name': 'Alice', 'age': 31, 'job': 'Engineer'}\n"
     ]
    }
   ],
   "source": [
    "my_dict = {\n",
    "    \"name\": \"Alice\",\n",
    "    \"age\": 30,\n",
    "    \"city\": \"New York\"\n",
    "}\n",
    "# 修改 value\n",
    "my_dict[\"age\"] = 31\n",
    "# 添加新的 key-value 对\n",
    "my_dict[\"job\"] = \"Engineer\"\n",
    "# 删除 key-value 对\n",
    "del my_dict[\"city\"]\n",
    "# 打印字典\n",
    "print(my_dict)\n"
   ]
  },
  {
   "cell_type": "code",
   "execution_count": 9,
   "id": "bc71979b",
   "metadata": {},
   "outputs": [
    {
     "name": "stdout",
     "output_type": "stream",
     "text": [
      "name : Alice\n",
      "age  : 31\n",
      "job  : Engineer\n"
     ]
    }
   ],
   "source": [
    "for k, v in my_dict.items():\n",
    "    print(f\"{k:5}: {v}\")"
   ]
  }
 ],
 "metadata": {
  "kernelspec": {
   "display_name": "base",
   "language": "python",
   "name": "python3"
  },
  "language_info": {
   "codemirror_mode": {
    "name": "ipython",
    "version": 3
   },
   "file_extension": ".py",
   "mimetype": "text/x-python",
   "name": "python",
   "nbconvert_exporter": "python",
   "pygments_lexer": "ipython3",
   "version": "3.12.7"
  }
 },
 "nbformat": 4,
 "nbformat_minor": 5
}
