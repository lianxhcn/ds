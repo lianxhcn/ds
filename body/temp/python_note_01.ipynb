{
 "cells": [
  {
   "cell_type": "markdown",
   "id": "61847e9d",
   "metadata": {},
   "source": [
    "\n",
    "## Python 笔记\n",
    "\n",
    "### 1. Python 语法\n",
    "- Python 是一种解释型语言，代码不需要编译。\n",
    "- Python 语法简洁，易于阅读和维护。\n",
    "- Python 支持多种编程范式，包括面向对象、函数式和命令式编程。\n",
    "- Python 使用缩进来表示代码块，而不是使用大括号或关键字。\n",
    "- Python 支持动态类型，变量不需要声明类型。\n",
    "- Python 支持多种数据结构，包括列表、元组、字典和集合。\n",
    "\n",
    "### 2. Python 数据类型\n",
    "- Python 支持多种数据类型，包括整数、浮点数、字符串、布尔值和 None。\n",
    "- Python 支持列表、元组、字典和集合等数据结构。 \n",
    "  - 列表是有序的可变集合，元组是有序的不可变集合，字典是无序的键值对集合，集合是无序的唯一元素集合。\n",
    "  - 列表和元组可以使用索引访问元素，字典可以使用键访问值，集合不支持索引。\n",
    "- Python 支持字符串操作，包括拼接、切片和格式化。"
   ]
  },
  {
   "cell_type": "code",
   "execution_count": null,
   "id": "a2c20da0",
   "metadata": {},
   "outputs": [],
   "source": [
    "# 列表的例子\n"
   ]
  },
  {
   "cell_type": "code",
   "execution_count": 3,
   "id": "8ffd6f92",
   "metadata": {},
   "outputs": [
    {
     "name": "stdout",
     "output_type": "stream",
     "text": [
      "第一个元素: 1\n"
     ]
    }
   ],
   "source": [
    "# 示例1：创建一个包含数字的列表，并访问其中的元素\n",
    "numbers = [1, 2, 3, 4, 5]\n",
    "print(\"第一个元素:\", numbers[0])  # 输出第一个元素\n"
   ]
  },
  {
   "cell_type": "code",
   "execution_count": null,
   "id": "ee5dbfae",
   "metadata": {},
   "outputs": [],
   "source": [
    "\n",
    "# 示例2：向列表中添加和删除元素\n",
    "fruits = ['apple', 'banana', 'orange']\n",
    "fruits.append('grape')  # 添加元素\n",
    "print(\"添加后的列表:\", fruits)\n",
    "fruits.remove('banana')  # 删除元素\n",
    "print(\"删除后的列表:\", fruits)"
   ]
  },
  {
   "cell_type": "code",
   "execution_count": null,
   "id": "21148c66",
   "metadata": {},
   "outputs": [],
   "source": [
    "# 将列表拆分为前3个元素和后2个元素\n",
    "first_part = numbers[:3]\n",
    "second_part = numbers[3:]\n",
    "print(\"前3个元素:\", first_part)\n",
    "print(\"后2个元素:\", second_part)\n",
    "\n",
    "# 合并两个列表\n",
    "merged_list = first_part + second_part\n",
    "print(\"合并后的列表:\", merged_list)"
   ]
  }
 ],
 "metadata": {
  "kernelspec": {
   "display_name": "base",
   "language": "python",
   "name": "python3"
  },
  "language_info": {
   "codemirror_mode": {
    "name": "ipython",
    "version": 3
   },
   "file_extension": ".py",
   "mimetype": "text/x-python",
   "name": "python",
   "nbconvert_exporter": "python",
   "pygments_lexer": "ipython3",
   "version": "3.12.7"
  }
 },
 "nbformat": 4,
 "nbformat_minor": 5
}
