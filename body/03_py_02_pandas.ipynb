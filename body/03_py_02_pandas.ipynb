{
 "cells": [
  {
   "cell_type": "markdown",
   "metadata": {},
   "source": [
    "# pandas 快速入门 \n",
    "\n",
    "\n",
    "\n",
    "本讲义基于 pandas 官方文档 [10 Minutes to pandas](https://pandas.pydata.org/pandas-docs/stable/user_guide/10min.html) 编写，结合中文读者习惯进行注释与讲解。"
   ]
  },
  {
   "cell_type": "markdown",
   "metadata": {},
   "source": [
    "## 目录\n",
    "\n",
    "- 对象创建\n",
    "- 查看数据\n",
    "- 选择数据\n",
    "- 缺失值处理\n",
    "- 运算\n",
    "- 数据导入导出\n",
    "- 索引\n",
    "- 分组\n",
    "- 连接\n",
    "- 绘图\n",
    "- 时间序列\n",
    "- Categorical\n",
    "- Plotting\n",
    "- Getting data in/out"
   ]
  },
  {
   "cell_type": "markdown",
   "metadata": {},
   "source": [
    "## 导入 pandas 和 numpy"
   ]
  },
  {
   "cell_type": "code",
   "execution_count": 5,
   "metadata": {},
   "outputs": [],
   "source": [
    "import pandas as pd\n",
    "import numpy as np"
   ]
  },
  {
   "cell_type": "markdown",
   "metadata": {},
   "source": [
    "## 对象创建\n",
    "\n",
    "### 创建 Series"
   ]
  },
  {
   "cell_type": "code",
   "execution_count": 6,
   "metadata": {},
   "outputs": [
    {
     "data": {
      "text/plain": [
       "0    1.0\n",
       "1    3.0\n",
       "2    5.0\n",
       "3    NaN\n",
       "4    6.0\n",
       "5    8.0\n",
       "dtype: float64"
      ]
     },
     "execution_count": 6,
     "metadata": {},
     "output_type": "execute_result"
    }
   ],
   "source": [
    "s = pd.Series([1, 3, 5, np.nan, 6, 8])\n",
    "s"
   ]
  },
  {
   "cell_type": "markdown",
   "metadata": {},
   "source": [
    "### 创建 DataFrame"
   ]
  },
  {
   "cell_type": "code",
   "execution_count": 7,
   "metadata": {},
   "outputs": [
    {
     "data": {
      "text/plain": [
       "DatetimeIndex(['2013-01-01', '2013-01-02', '2013-01-03', '2013-01-04',\n",
       "               '2013-01-05', '2013-01-06'],\n",
       "              dtype='datetime64[ns]', freq='D')"
      ]
     },
     "execution_count": 7,
     "metadata": {},
     "output_type": "execute_result"
    }
   ],
   "source": [
    "dates = pd.date_range(\"20130101\", periods=6)\n",
    "dates"
   ]
  },
  {
   "cell_type": "code",
   "execution_count": 8,
   "metadata": {},
   "outputs": [
    {
     "data": {
      "application/vnd.microsoft.datawrangler.viewer.v0+json": {
       "columns": [
        {
         "name": "index",
         "rawType": "datetime64[ns]",
         "type": "datetime"
        },
        {
         "name": "A",
         "rawType": "float64",
         "type": "float"
        },
        {
         "name": "B",
         "rawType": "float64",
         "type": "float"
        },
        {
         "name": "C",
         "rawType": "float64",
         "type": "float"
        },
        {
         "name": "D",
         "rawType": "float64",
         "type": "float"
        }
       ],
       "conversionMethod": "pd.DataFrame",
       "ref": "c36ee579-9b23-4e1c-b0e5-533b316dfdfb",
       "rows": [
        [
         "2013-01-01 00:00:00",
         "-0.5205852732718299",
         "0.4815360829232921",
         "-0.35133101193437777",
         "-1.3624963276799422"
        ],
        [
         "2013-01-02 00:00:00",
         "0.31290141255201953",
         "1.5071856526966947",
         "-0.6520966369966343",
         "1.1377911163510388"
        ],
        [
         "2013-01-03 00:00:00",
         "-0.8732381081808593",
         "-1.8934826986282343",
         "1.2248520088388752",
         "-0.11938683591256358"
        ],
        [
         "2013-01-04 00:00:00",
         "-0.4886136463432409",
         "-0.17974915700475352",
         "0.023711560516200915",
         "1.1827113267177332"
        ],
        [
         "2013-01-05 00:00:00",
         "0.23715513661066454",
         "0.7097682409165189",
         "-0.46769406823066273",
         "-0.8552958019076771"
        ],
        [
         "2013-01-06 00:00:00",
         "-0.25798935352860575",
         "-1.401545909988554",
         "1.692584278742434",
         "-0.9283178860604236"
        ]
       ],
       "shape": {
        "columns": 4,
        "rows": 6
       }
      },
      "text/html": [
       "<div>\n",
       "<style scoped>\n",
       "    .dataframe tbody tr th:only-of-type {\n",
       "        vertical-align: middle;\n",
       "    }\n",
       "\n",
       "    .dataframe tbody tr th {\n",
       "        vertical-align: top;\n",
       "    }\n",
       "\n",
       "    .dataframe thead th {\n",
       "        text-align: right;\n",
       "    }\n",
       "</style>\n",
       "<table border=\"1\" class=\"dataframe\">\n",
       "  <thead>\n",
       "    <tr style=\"text-align: right;\">\n",
       "      <th></th>\n",
       "      <th>A</th>\n",
       "      <th>B</th>\n",
       "      <th>C</th>\n",
       "      <th>D</th>\n",
       "    </tr>\n",
       "  </thead>\n",
       "  <tbody>\n",
       "    <tr>\n",
       "      <th>2013-01-01</th>\n",
       "      <td>-0.520585</td>\n",
       "      <td>0.481536</td>\n",
       "      <td>-0.351331</td>\n",
       "      <td>-1.362496</td>\n",
       "    </tr>\n",
       "    <tr>\n",
       "      <th>2013-01-02</th>\n",
       "      <td>0.312901</td>\n",
       "      <td>1.507186</td>\n",
       "      <td>-0.652097</td>\n",
       "      <td>1.137791</td>\n",
       "    </tr>\n",
       "    <tr>\n",
       "      <th>2013-01-03</th>\n",
       "      <td>-0.873238</td>\n",
       "      <td>-1.893483</td>\n",
       "      <td>1.224852</td>\n",
       "      <td>-0.119387</td>\n",
       "    </tr>\n",
       "    <tr>\n",
       "      <th>2013-01-04</th>\n",
       "      <td>-0.488614</td>\n",
       "      <td>-0.179749</td>\n",
       "      <td>0.023712</td>\n",
       "      <td>1.182711</td>\n",
       "    </tr>\n",
       "    <tr>\n",
       "      <th>2013-01-05</th>\n",
       "      <td>0.237155</td>\n",
       "      <td>0.709768</td>\n",
       "      <td>-0.467694</td>\n",
       "      <td>-0.855296</td>\n",
       "    </tr>\n",
       "    <tr>\n",
       "      <th>2013-01-06</th>\n",
       "      <td>-0.257989</td>\n",
       "      <td>-1.401546</td>\n",
       "      <td>1.692584</td>\n",
       "      <td>-0.928318</td>\n",
       "    </tr>\n",
       "  </tbody>\n",
       "</table>\n",
       "</div>"
      ],
      "text/plain": [
       "                   A         B         C         D\n",
       "2013-01-01 -0.520585  0.481536 -0.351331 -1.362496\n",
       "2013-01-02  0.312901  1.507186 -0.652097  1.137791\n",
       "2013-01-03 -0.873238 -1.893483  1.224852 -0.119387\n",
       "2013-01-04 -0.488614 -0.179749  0.023712  1.182711\n",
       "2013-01-05  0.237155  0.709768 -0.467694 -0.855296\n",
       "2013-01-06 -0.257989 -1.401546  1.692584 -0.928318"
      ]
     },
     "execution_count": 8,
     "metadata": {},
     "output_type": "execute_result"
    }
   ],
   "source": [
    "df = pd.DataFrame(np.random.randn(6,4), index=dates, columns=list(\"ABCD\"))\n",
    "df"
   ]
  },
  {
   "cell_type": "markdown",
   "metadata": {},
   "source": [
    "### 由 dict 创建 DataFrame"
   ]
  },
  {
   "cell_type": "code",
   "execution_count": 9,
   "metadata": {},
   "outputs": [
    {
     "data": {
      "application/vnd.microsoft.datawrangler.viewer.v0+json": {
       "columns": [
        {
         "name": "index",
         "rawType": "int64",
         "type": "integer"
        },
        {
         "name": "A",
         "rawType": "float64",
         "type": "float"
        },
        {
         "name": "B",
         "rawType": "datetime64[s]",
         "type": "unknown"
        },
        {
         "name": "C",
         "rawType": "float32",
         "type": "float"
        },
        {
         "name": "D",
         "rawType": "int32",
         "type": "integer"
        },
        {
         "name": "E",
         "rawType": "category",
         "type": "unknown"
        },
        {
         "name": "F",
         "rawType": "object",
         "type": "string"
        }
       ],
       "conversionMethod": "pd.DataFrame",
       "ref": "6e2badd3-bf22-4f11-9010-d3d5fe8c6353",
       "rows": [
        [
         "0",
         "1.0",
         "2013-01-02 00:00:00",
         "1.0",
         "3",
         "test",
         "foo"
        ],
        [
         "1",
         "1.0",
         "2013-01-02 00:00:00",
         "1.0",
         "3",
         "train",
         "foo"
        ],
        [
         "2",
         "1.0",
         "2013-01-02 00:00:00",
         "1.0",
         "3",
         "test",
         "foo"
        ],
        [
         "3",
         "1.0",
         "2013-01-02 00:00:00",
         "1.0",
         "3",
         "train",
         "foo"
        ]
       ],
       "shape": {
        "columns": 6,
        "rows": 4
       }
      },
      "text/html": [
       "<div>\n",
       "<style scoped>\n",
       "    .dataframe tbody tr th:only-of-type {\n",
       "        vertical-align: middle;\n",
       "    }\n",
       "\n",
       "    .dataframe tbody tr th {\n",
       "        vertical-align: top;\n",
       "    }\n",
       "\n",
       "    .dataframe thead th {\n",
       "        text-align: right;\n",
       "    }\n",
       "</style>\n",
       "<table border=\"1\" class=\"dataframe\">\n",
       "  <thead>\n",
       "    <tr style=\"text-align: right;\">\n",
       "      <th></th>\n",
       "      <th>A</th>\n",
       "      <th>B</th>\n",
       "      <th>C</th>\n",
       "      <th>D</th>\n",
       "      <th>E</th>\n",
       "      <th>F</th>\n",
       "    </tr>\n",
       "  </thead>\n",
       "  <tbody>\n",
       "    <tr>\n",
       "      <th>0</th>\n",
       "      <td>1.0</td>\n",
       "      <td>2013-01-02</td>\n",
       "      <td>1.0</td>\n",
       "      <td>3</td>\n",
       "      <td>test</td>\n",
       "      <td>foo</td>\n",
       "    </tr>\n",
       "    <tr>\n",
       "      <th>1</th>\n",
       "      <td>1.0</td>\n",
       "      <td>2013-01-02</td>\n",
       "      <td>1.0</td>\n",
       "      <td>3</td>\n",
       "      <td>train</td>\n",
       "      <td>foo</td>\n",
       "    </tr>\n",
       "    <tr>\n",
       "      <th>2</th>\n",
       "      <td>1.0</td>\n",
       "      <td>2013-01-02</td>\n",
       "      <td>1.0</td>\n",
       "      <td>3</td>\n",
       "      <td>test</td>\n",
       "      <td>foo</td>\n",
       "    </tr>\n",
       "    <tr>\n",
       "      <th>3</th>\n",
       "      <td>1.0</td>\n",
       "      <td>2013-01-02</td>\n",
       "      <td>1.0</td>\n",
       "      <td>3</td>\n",
       "      <td>train</td>\n",
       "      <td>foo</td>\n",
       "    </tr>\n",
       "  </tbody>\n",
       "</table>\n",
       "</div>"
      ],
      "text/plain": [
       "     A          B    C  D      E    F\n",
       "0  1.0 2013-01-02  1.0  3   test  foo\n",
       "1  1.0 2013-01-02  1.0  3  train  foo\n",
       "2  1.0 2013-01-02  1.0  3   test  foo\n",
       "3  1.0 2013-01-02  1.0  3  train  foo"
      ]
     },
     "execution_count": 9,
     "metadata": {},
     "output_type": "execute_result"
    }
   ],
   "source": [
    "df2 = pd.DataFrame({\n",
    "    \"A\": 1.,\n",
    "    \"B\": pd.Timestamp('20130102'),\n",
    "    \"C\": pd.Series(1, index=list(range(4)), dtype=\"float32\"),\n",
    "    \"D\": np.array([3] * 4, dtype=\"int32\"),\n",
    "    \"E\": pd.Categorical([\"test\", \"train\", \"test\", \"train\"]),\n",
    "    \"F\": \"foo\"\n",
    "})\n",
    "df2"
   ]
  },
  {
   "cell_type": "markdown",
   "metadata": {},
   "source": [
    "### 查看各列数据类型"
   ]
  },
  {
   "cell_type": "code",
   "execution_count": 10,
   "metadata": {},
   "outputs": [
    {
     "data": {
      "text/plain": [
       "A          float64\n",
       "B    datetime64[s]\n",
       "C          float32\n",
       "D            int32\n",
       "E         category\n",
       "F           object\n",
       "dtype: object"
      ]
     },
     "execution_count": 10,
     "metadata": {},
     "output_type": "execute_result"
    }
   ],
   "source": [
    "df2.dtypes"
   ]
  },
  {
   "cell_type": "markdown",
   "metadata": {},
   "source": [
    "## 查看数据\n",
    "\n",
    "### 查看头尾行"
   ]
  },
  {
   "cell_type": "code",
   "execution_count": 11,
   "metadata": {},
   "outputs": [
    {
     "data": {
      "application/vnd.microsoft.datawrangler.viewer.v0+json": {
       "columns": [
        {
         "name": "index",
         "rawType": "datetime64[ns]",
         "type": "datetime"
        },
        {
         "name": "A",
         "rawType": "float64",
         "type": "float"
        },
        {
         "name": "B",
         "rawType": "float64",
         "type": "float"
        },
        {
         "name": "C",
         "rawType": "float64",
         "type": "float"
        },
        {
         "name": "D",
         "rawType": "float64",
         "type": "float"
        }
       ],
       "conversionMethod": "pd.DataFrame",
       "ref": "61a0712b-f14e-47b4-9f00-2752dfcce5c3",
       "rows": [
        [
         "2013-01-01 00:00:00",
         "-0.5205852732718299",
         "0.4815360829232921",
         "-0.35133101193437777",
         "-1.3624963276799422"
        ],
        [
         "2013-01-02 00:00:00",
         "0.31290141255201953",
         "1.5071856526966947",
         "-0.6520966369966343",
         "1.1377911163510388"
        ],
        [
         "2013-01-03 00:00:00",
         "-0.8732381081808593",
         "-1.8934826986282343",
         "1.2248520088388752",
         "-0.11938683591256358"
        ],
        [
         "2013-01-04 00:00:00",
         "-0.4886136463432409",
         "-0.17974915700475352",
         "0.023711560516200915",
         "1.1827113267177332"
        ],
        [
         "2013-01-05 00:00:00",
         "0.23715513661066454",
         "0.7097682409165189",
         "-0.46769406823066273",
         "-0.8552958019076771"
        ]
       ],
       "shape": {
        "columns": 4,
        "rows": 5
       }
      },
      "text/html": [
       "<div>\n",
       "<style scoped>\n",
       "    .dataframe tbody tr th:only-of-type {\n",
       "        vertical-align: middle;\n",
       "    }\n",
       "\n",
       "    .dataframe tbody tr th {\n",
       "        vertical-align: top;\n",
       "    }\n",
       "\n",
       "    .dataframe thead th {\n",
       "        text-align: right;\n",
       "    }\n",
       "</style>\n",
       "<table border=\"1\" class=\"dataframe\">\n",
       "  <thead>\n",
       "    <tr style=\"text-align: right;\">\n",
       "      <th></th>\n",
       "      <th>A</th>\n",
       "      <th>B</th>\n",
       "      <th>C</th>\n",
       "      <th>D</th>\n",
       "    </tr>\n",
       "  </thead>\n",
       "  <tbody>\n",
       "    <tr>\n",
       "      <th>2013-01-01</th>\n",
       "      <td>-0.520585</td>\n",
       "      <td>0.481536</td>\n",
       "      <td>-0.351331</td>\n",
       "      <td>-1.362496</td>\n",
       "    </tr>\n",
       "    <tr>\n",
       "      <th>2013-01-02</th>\n",
       "      <td>0.312901</td>\n",
       "      <td>1.507186</td>\n",
       "      <td>-0.652097</td>\n",
       "      <td>1.137791</td>\n",
       "    </tr>\n",
       "    <tr>\n",
       "      <th>2013-01-03</th>\n",
       "      <td>-0.873238</td>\n",
       "      <td>-1.893483</td>\n",
       "      <td>1.224852</td>\n",
       "      <td>-0.119387</td>\n",
       "    </tr>\n",
       "    <tr>\n",
       "      <th>2013-01-04</th>\n",
       "      <td>-0.488614</td>\n",
       "      <td>-0.179749</td>\n",
       "      <td>0.023712</td>\n",
       "      <td>1.182711</td>\n",
       "    </tr>\n",
       "    <tr>\n",
       "      <th>2013-01-05</th>\n",
       "      <td>0.237155</td>\n",
       "      <td>0.709768</td>\n",
       "      <td>-0.467694</td>\n",
       "      <td>-0.855296</td>\n",
       "    </tr>\n",
       "  </tbody>\n",
       "</table>\n",
       "</div>"
      ],
      "text/plain": [
       "                   A         B         C         D\n",
       "2013-01-01 -0.520585  0.481536 -0.351331 -1.362496\n",
       "2013-01-02  0.312901  1.507186 -0.652097  1.137791\n",
       "2013-01-03 -0.873238 -1.893483  1.224852 -0.119387\n",
       "2013-01-04 -0.488614 -0.179749  0.023712  1.182711\n",
       "2013-01-05  0.237155  0.709768 -0.467694 -0.855296"
      ]
     },
     "execution_count": 11,
     "metadata": {},
     "output_type": "execute_result"
    }
   ],
   "source": [
    "df.head()"
   ]
  },
  {
   "cell_type": "code",
   "execution_count": 12,
   "metadata": {},
   "outputs": [
    {
     "data": {
      "application/vnd.microsoft.datawrangler.viewer.v0+json": {
       "columns": [
        {
         "name": "index",
         "rawType": "datetime64[ns]",
         "type": "datetime"
        },
        {
         "name": "A",
         "rawType": "float64",
         "type": "float"
        },
        {
         "name": "B",
         "rawType": "float64",
         "type": "float"
        },
        {
         "name": "C",
         "rawType": "float64",
         "type": "float"
        },
        {
         "name": "D",
         "rawType": "float64",
         "type": "float"
        }
       ],
       "conversionMethod": "pd.DataFrame",
       "ref": "f49d5d97-f88c-4f8a-82f3-be2274b91359",
       "rows": [
        [
         "2013-01-04 00:00:00",
         "-0.4886136463432409",
         "-0.17974915700475352",
         "0.023711560516200915",
         "1.1827113267177332"
        ],
        [
         "2013-01-05 00:00:00",
         "0.23715513661066454",
         "0.7097682409165189",
         "-0.46769406823066273",
         "-0.8552958019076771"
        ],
        [
         "2013-01-06 00:00:00",
         "-0.25798935352860575",
         "-1.401545909988554",
         "1.692584278742434",
         "-0.9283178860604236"
        ]
       ],
       "shape": {
        "columns": 4,
        "rows": 3
       }
      },
      "text/html": [
       "<div>\n",
       "<style scoped>\n",
       "    .dataframe tbody tr th:only-of-type {\n",
       "        vertical-align: middle;\n",
       "    }\n",
       "\n",
       "    .dataframe tbody tr th {\n",
       "        vertical-align: top;\n",
       "    }\n",
       "\n",
       "    .dataframe thead th {\n",
       "        text-align: right;\n",
       "    }\n",
       "</style>\n",
       "<table border=\"1\" class=\"dataframe\">\n",
       "  <thead>\n",
       "    <tr style=\"text-align: right;\">\n",
       "      <th></th>\n",
       "      <th>A</th>\n",
       "      <th>B</th>\n",
       "      <th>C</th>\n",
       "      <th>D</th>\n",
       "    </tr>\n",
       "  </thead>\n",
       "  <tbody>\n",
       "    <tr>\n",
       "      <th>2013-01-04</th>\n",
       "      <td>-0.488614</td>\n",
       "      <td>-0.179749</td>\n",
       "      <td>0.023712</td>\n",
       "      <td>1.182711</td>\n",
       "    </tr>\n",
       "    <tr>\n",
       "      <th>2013-01-05</th>\n",
       "      <td>0.237155</td>\n",
       "      <td>0.709768</td>\n",
       "      <td>-0.467694</td>\n",
       "      <td>-0.855296</td>\n",
       "    </tr>\n",
       "    <tr>\n",
       "      <th>2013-01-06</th>\n",
       "      <td>-0.257989</td>\n",
       "      <td>-1.401546</td>\n",
       "      <td>1.692584</td>\n",
       "      <td>-0.928318</td>\n",
       "    </tr>\n",
       "  </tbody>\n",
       "</table>\n",
       "</div>"
      ],
      "text/plain": [
       "                   A         B         C         D\n",
       "2013-01-04 -0.488614 -0.179749  0.023712  1.182711\n",
       "2013-01-05  0.237155  0.709768 -0.467694 -0.855296\n",
       "2013-01-06 -0.257989 -1.401546  1.692584 -0.928318"
      ]
     },
     "execution_count": 12,
     "metadata": {},
     "output_type": "execute_result"
    }
   ],
   "source": [
    "df.tail(3)"
   ]
  },
  {
   "cell_type": "markdown",
   "metadata": {},
   "source": [
    "### 显示索引、列名和底层 numpy 数据"
   ]
  },
  {
   "cell_type": "code",
   "execution_count": 13,
   "metadata": {},
   "outputs": [
    {
     "data": {
      "text/plain": [
       "DatetimeIndex(['2013-01-01', '2013-01-02', '2013-01-03', '2013-01-04',\n",
       "               '2013-01-05', '2013-01-06'],\n",
       "              dtype='datetime64[ns]', freq='D')"
      ]
     },
     "execution_count": 13,
     "metadata": {},
     "output_type": "execute_result"
    }
   ],
   "source": [
    "df.index"
   ]
  },
  {
   "cell_type": "code",
   "execution_count": 14,
   "metadata": {},
   "outputs": [
    {
     "data": {
      "text/plain": [
       "Index(['A', 'B', 'C', 'D'], dtype='object')"
      ]
     },
     "execution_count": 14,
     "metadata": {},
     "output_type": "execute_result"
    }
   ],
   "source": [
    "df.columns"
   ]
  },
  {
   "cell_type": "code",
   "execution_count": 15,
   "metadata": {},
   "outputs": [
    {
     "data": {
      "text/plain": [
       "array([[-0.52058527,  0.48153608, -0.35133101, -1.36249633],\n",
       "       [ 0.31290141,  1.50718565, -0.65209664,  1.13779112],\n",
       "       [-0.87323811, -1.8934827 ,  1.22485201, -0.11938684],\n",
       "       [-0.48861365, -0.17974916,  0.02371156,  1.18271133],\n",
       "       [ 0.23715514,  0.70976824, -0.46769407, -0.8552958 ],\n",
       "       [-0.25798935, -1.40154591,  1.69258428, -0.92831789]])"
      ]
     },
     "execution_count": 15,
     "metadata": {},
     "output_type": "execute_result"
    }
   ],
   "source": [
    "df.to_numpy()"
   ]
  },
  {
   "cell_type": "markdown",
   "metadata": {},
   "source": [
    "### 描述性统计汇总"
   ]
  },
  {
   "cell_type": "code",
   "execution_count": 16,
   "metadata": {},
   "outputs": [
    {
     "data": {
      "application/vnd.microsoft.datawrangler.viewer.v0+json": {
       "columns": [
        {
         "name": "index",
         "rawType": "object",
         "type": "string"
        },
        {
         "name": "A",
         "rawType": "float64",
         "type": "float"
        },
        {
         "name": "B",
         "rawType": "float64",
         "type": "float"
        },
        {
         "name": "C",
         "rawType": "float64",
         "type": "float"
        },
        {
         "name": "D",
         "rawType": "float64",
         "type": "float"
        }
       ],
       "conversionMethod": "pd.DataFrame",
       "ref": "9bf46e43-75fd-4edb-b7c4-165604954d7a",
       "rows": [
        [
         "count",
         "6.0",
         "6.0",
         "6.0",
         "6.0"
        ],
        [
         "mean",
         "-0.26506163869364197",
         "-0.1293812981808394",
         "0.24500435515597252",
         "-0.15749906808197242"
        ],
        [
         "std",
         "0.4629167184731735",
         "1.3029763506684124",
         "0.9770265772659129",
         "1.0962201817139434"
        ],
        [
         "min",
         "-0.8732381081808593",
         "-1.8934826986282343",
         "-0.6520966369966343",
         "-1.3624963276799422"
        ],
        [
         "25%",
         "-0.5125923665396827",
         "-1.096096721742604",
         "-0.4386033041565915",
         "-0.910062365022237"
        ],
        [
         "50%",
         "-0.3733014999359233",
         "0.1508934629592693",
         "-0.16380972570908844",
         "-0.48734131891012034"
        ],
        [
         "75%",
         "0.11336901407584696",
         "0.6527102014182122",
         "0.9245668967582066",
         "0.8234966282851381"
        ],
        [
         "max",
         "0.31290141255201953",
         "1.5071856526966947",
         "1.692584278742434",
         "1.1827113267177332"
        ]
       ],
       "shape": {
        "columns": 4,
        "rows": 8
       }
      },
      "text/html": [
       "<div>\n",
       "<style scoped>\n",
       "    .dataframe tbody tr th:only-of-type {\n",
       "        vertical-align: middle;\n",
       "    }\n",
       "\n",
       "    .dataframe tbody tr th {\n",
       "        vertical-align: top;\n",
       "    }\n",
       "\n",
       "    .dataframe thead th {\n",
       "        text-align: right;\n",
       "    }\n",
       "</style>\n",
       "<table border=\"1\" class=\"dataframe\">\n",
       "  <thead>\n",
       "    <tr style=\"text-align: right;\">\n",
       "      <th></th>\n",
       "      <th>A</th>\n",
       "      <th>B</th>\n",
       "      <th>C</th>\n",
       "      <th>D</th>\n",
       "    </tr>\n",
       "  </thead>\n",
       "  <tbody>\n",
       "    <tr>\n",
       "      <th>count</th>\n",
       "      <td>6.000000</td>\n",
       "      <td>6.000000</td>\n",
       "      <td>6.000000</td>\n",
       "      <td>6.000000</td>\n",
       "    </tr>\n",
       "    <tr>\n",
       "      <th>mean</th>\n",
       "      <td>-0.265062</td>\n",
       "      <td>-0.129381</td>\n",
       "      <td>0.245004</td>\n",
       "      <td>-0.157499</td>\n",
       "    </tr>\n",
       "    <tr>\n",
       "      <th>std</th>\n",
       "      <td>0.462917</td>\n",
       "      <td>1.302976</td>\n",
       "      <td>0.977027</td>\n",
       "      <td>1.096220</td>\n",
       "    </tr>\n",
       "    <tr>\n",
       "      <th>min</th>\n",
       "      <td>-0.873238</td>\n",
       "      <td>-1.893483</td>\n",
       "      <td>-0.652097</td>\n",
       "      <td>-1.362496</td>\n",
       "    </tr>\n",
       "    <tr>\n",
       "      <th>25%</th>\n",
       "      <td>-0.512592</td>\n",
       "      <td>-1.096097</td>\n",
       "      <td>-0.438603</td>\n",
       "      <td>-0.910062</td>\n",
       "    </tr>\n",
       "    <tr>\n",
       "      <th>50%</th>\n",
       "      <td>-0.373301</td>\n",
       "      <td>0.150893</td>\n",
       "      <td>-0.163810</td>\n",
       "      <td>-0.487341</td>\n",
       "    </tr>\n",
       "    <tr>\n",
       "      <th>75%</th>\n",
       "      <td>0.113369</td>\n",
       "      <td>0.652710</td>\n",
       "      <td>0.924567</td>\n",
       "      <td>0.823497</td>\n",
       "    </tr>\n",
       "    <tr>\n",
       "      <th>max</th>\n",
       "      <td>0.312901</td>\n",
       "      <td>1.507186</td>\n",
       "      <td>1.692584</td>\n",
       "      <td>1.182711</td>\n",
       "    </tr>\n",
       "  </tbody>\n",
       "</table>\n",
       "</div>"
      ],
      "text/plain": [
       "              A         B         C         D\n",
       "count  6.000000  6.000000  6.000000  6.000000\n",
       "mean  -0.265062 -0.129381  0.245004 -0.157499\n",
       "std    0.462917  1.302976  0.977027  1.096220\n",
       "min   -0.873238 -1.893483 -0.652097 -1.362496\n",
       "25%   -0.512592 -1.096097 -0.438603 -0.910062\n",
       "50%   -0.373301  0.150893 -0.163810 -0.487341\n",
       "75%    0.113369  0.652710  0.924567  0.823497\n",
       "max    0.312901  1.507186  1.692584  1.182711"
      ]
     },
     "execution_count": 16,
     "metadata": {},
     "output_type": "execute_result"
    }
   ],
   "source": [
    "df.describe()"
   ]
  },
  {
   "cell_type": "markdown",
   "metadata": {},
   "source": [
    "### 数据转置"
   ]
  },
  {
   "cell_type": "code",
   "execution_count": 17,
   "metadata": {},
   "outputs": [
    {
     "data": {
      "application/vnd.microsoft.datawrangler.viewer.v0+json": {
       "columns": [
        {
         "name": "index",
         "rawType": "object",
         "type": "string"
        },
        {
         "name": "2013-01-01 00:00:00",
         "rawType": "float64",
         "type": "float"
        },
        {
         "name": "2013-01-02 00:00:00",
         "rawType": "float64",
         "type": "float"
        },
        {
         "name": "2013-01-03 00:00:00",
         "rawType": "float64",
         "type": "float"
        },
        {
         "name": "2013-01-04 00:00:00",
         "rawType": "float64",
         "type": "float"
        },
        {
         "name": "2013-01-05 00:00:00",
         "rawType": "float64",
         "type": "float"
        },
        {
         "name": "2013-01-06 00:00:00",
         "rawType": "float64",
         "type": "float"
        }
       ],
       "conversionMethod": "pd.DataFrame",
       "ref": "939c9018-d8a3-47ea-b488-e2cba013462c",
       "rows": [
        [
         "A",
         "-0.5205852732718299",
         "0.31290141255201953",
         "-0.8732381081808593",
         "-0.4886136463432409",
         "0.23715513661066454",
         "-0.25798935352860575"
        ],
        [
         "B",
         "0.4815360829232921",
         "1.5071856526966947",
         "-1.8934826986282343",
         "-0.17974915700475352",
         "0.7097682409165189",
         "-1.401545909988554"
        ],
        [
         "C",
         "-0.35133101193437777",
         "-0.6520966369966343",
         "1.2248520088388752",
         "0.023711560516200915",
         "-0.46769406823066273",
         "1.692584278742434"
        ],
        [
         "D",
         "-1.3624963276799422",
         "1.1377911163510388",
         "-0.11938683591256358",
         "1.1827113267177332",
         "-0.8552958019076771",
         "-0.9283178860604236"
        ]
       ],
       "shape": {
        "columns": 6,
        "rows": 4
       }
      },
      "text/html": [
       "<div>\n",
       "<style scoped>\n",
       "    .dataframe tbody tr th:only-of-type {\n",
       "        vertical-align: middle;\n",
       "    }\n",
       "\n",
       "    .dataframe tbody tr th {\n",
       "        vertical-align: top;\n",
       "    }\n",
       "\n",
       "    .dataframe thead th {\n",
       "        text-align: right;\n",
       "    }\n",
       "</style>\n",
       "<table border=\"1\" class=\"dataframe\">\n",
       "  <thead>\n",
       "    <tr style=\"text-align: right;\">\n",
       "      <th></th>\n",
       "      <th>2013-01-01</th>\n",
       "      <th>2013-01-02</th>\n",
       "      <th>2013-01-03</th>\n",
       "      <th>2013-01-04</th>\n",
       "      <th>2013-01-05</th>\n",
       "      <th>2013-01-06</th>\n",
       "    </tr>\n",
       "  </thead>\n",
       "  <tbody>\n",
       "    <tr>\n",
       "      <th>A</th>\n",
       "      <td>-0.520585</td>\n",
       "      <td>0.312901</td>\n",
       "      <td>-0.873238</td>\n",
       "      <td>-0.488614</td>\n",
       "      <td>0.237155</td>\n",
       "      <td>-0.257989</td>\n",
       "    </tr>\n",
       "    <tr>\n",
       "      <th>B</th>\n",
       "      <td>0.481536</td>\n",
       "      <td>1.507186</td>\n",
       "      <td>-1.893483</td>\n",
       "      <td>-0.179749</td>\n",
       "      <td>0.709768</td>\n",
       "      <td>-1.401546</td>\n",
       "    </tr>\n",
       "    <tr>\n",
       "      <th>C</th>\n",
       "      <td>-0.351331</td>\n",
       "      <td>-0.652097</td>\n",
       "      <td>1.224852</td>\n",
       "      <td>0.023712</td>\n",
       "      <td>-0.467694</td>\n",
       "      <td>1.692584</td>\n",
       "    </tr>\n",
       "    <tr>\n",
       "      <th>D</th>\n",
       "      <td>-1.362496</td>\n",
       "      <td>1.137791</td>\n",
       "      <td>-0.119387</td>\n",
       "      <td>1.182711</td>\n",
       "      <td>-0.855296</td>\n",
       "      <td>-0.928318</td>\n",
       "    </tr>\n",
       "  </tbody>\n",
       "</table>\n",
       "</div>"
      ],
      "text/plain": [
       "   2013-01-01  2013-01-02  2013-01-03  2013-01-04  2013-01-05  2013-01-06\n",
       "A   -0.520585    0.312901   -0.873238   -0.488614    0.237155   -0.257989\n",
       "B    0.481536    1.507186   -1.893483   -0.179749    0.709768   -1.401546\n",
       "C   -0.351331   -0.652097    1.224852    0.023712   -0.467694    1.692584\n",
       "D   -1.362496    1.137791   -0.119387    1.182711   -0.855296   -0.928318"
      ]
     },
     "execution_count": 17,
     "metadata": {},
     "output_type": "execute_result"
    }
   ],
   "source": [
    "df.T"
   ]
  },
  {
   "cell_type": "markdown",
   "metadata": {},
   "source": [
    "### 按轴排序"
   ]
  },
  {
   "cell_type": "code",
   "execution_count": 18,
   "metadata": {},
   "outputs": [
    {
     "data": {
      "application/vnd.microsoft.datawrangler.viewer.v0+json": {
       "columns": [
        {
         "name": "index",
         "rawType": "datetime64[ns]",
         "type": "datetime"
        },
        {
         "name": "D",
         "rawType": "float64",
         "type": "float"
        },
        {
         "name": "C",
         "rawType": "float64",
         "type": "float"
        },
        {
         "name": "B",
         "rawType": "float64",
         "type": "float"
        },
        {
         "name": "A",
         "rawType": "float64",
         "type": "float"
        }
       ],
       "conversionMethod": "pd.DataFrame",
       "ref": "bb1c7f3d-9f01-4462-b300-a64372623776",
       "rows": [
        [
         "2013-01-01 00:00:00",
         "-1.3624963276799422",
         "-0.35133101193437777",
         "0.4815360829232921",
         "-0.5205852732718299"
        ],
        [
         "2013-01-02 00:00:00",
         "1.1377911163510388",
         "-0.6520966369966343",
         "1.5071856526966947",
         "0.31290141255201953"
        ],
        [
         "2013-01-03 00:00:00",
         "-0.11938683591256358",
         "1.2248520088388752",
         "-1.8934826986282343",
         "-0.8732381081808593"
        ],
        [
         "2013-01-04 00:00:00",
         "1.1827113267177332",
         "0.023711560516200915",
         "-0.17974915700475352",
         "-0.4886136463432409"
        ],
        [
         "2013-01-05 00:00:00",
         "-0.8552958019076771",
         "-0.46769406823066273",
         "0.7097682409165189",
         "0.23715513661066454"
        ],
        [
         "2013-01-06 00:00:00",
         "-0.9283178860604236",
         "1.692584278742434",
         "-1.401545909988554",
         "-0.25798935352860575"
        ]
       ],
       "shape": {
        "columns": 4,
        "rows": 6
       }
      },
      "text/html": [
       "<div>\n",
       "<style scoped>\n",
       "    .dataframe tbody tr th:only-of-type {\n",
       "        vertical-align: middle;\n",
       "    }\n",
       "\n",
       "    .dataframe tbody tr th {\n",
       "        vertical-align: top;\n",
       "    }\n",
       "\n",
       "    .dataframe thead th {\n",
       "        text-align: right;\n",
       "    }\n",
       "</style>\n",
       "<table border=\"1\" class=\"dataframe\">\n",
       "  <thead>\n",
       "    <tr style=\"text-align: right;\">\n",
       "      <th></th>\n",
       "      <th>D</th>\n",
       "      <th>C</th>\n",
       "      <th>B</th>\n",
       "      <th>A</th>\n",
       "    </tr>\n",
       "  </thead>\n",
       "  <tbody>\n",
       "    <tr>\n",
       "      <th>2013-01-01</th>\n",
       "      <td>-1.362496</td>\n",
       "      <td>-0.351331</td>\n",
       "      <td>0.481536</td>\n",
       "      <td>-0.520585</td>\n",
       "    </tr>\n",
       "    <tr>\n",
       "      <th>2013-01-02</th>\n",
       "      <td>1.137791</td>\n",
       "      <td>-0.652097</td>\n",
       "      <td>1.507186</td>\n",
       "      <td>0.312901</td>\n",
       "    </tr>\n",
       "    <tr>\n",
       "      <th>2013-01-03</th>\n",
       "      <td>-0.119387</td>\n",
       "      <td>1.224852</td>\n",
       "      <td>-1.893483</td>\n",
       "      <td>-0.873238</td>\n",
       "    </tr>\n",
       "    <tr>\n",
       "      <th>2013-01-04</th>\n",
       "      <td>1.182711</td>\n",
       "      <td>0.023712</td>\n",
       "      <td>-0.179749</td>\n",
       "      <td>-0.488614</td>\n",
       "    </tr>\n",
       "    <tr>\n",
       "      <th>2013-01-05</th>\n",
       "      <td>-0.855296</td>\n",
       "      <td>-0.467694</td>\n",
       "      <td>0.709768</td>\n",
       "      <td>0.237155</td>\n",
       "    </tr>\n",
       "    <tr>\n",
       "      <th>2013-01-06</th>\n",
       "      <td>-0.928318</td>\n",
       "      <td>1.692584</td>\n",
       "      <td>-1.401546</td>\n",
       "      <td>-0.257989</td>\n",
       "    </tr>\n",
       "  </tbody>\n",
       "</table>\n",
       "</div>"
      ],
      "text/plain": [
       "                   D         C         B         A\n",
       "2013-01-01 -1.362496 -0.351331  0.481536 -0.520585\n",
       "2013-01-02  1.137791 -0.652097  1.507186  0.312901\n",
       "2013-01-03 -0.119387  1.224852 -1.893483 -0.873238\n",
       "2013-01-04  1.182711  0.023712 -0.179749 -0.488614\n",
       "2013-01-05 -0.855296 -0.467694  0.709768  0.237155\n",
       "2013-01-06 -0.928318  1.692584 -1.401546 -0.257989"
      ]
     },
     "execution_count": 18,
     "metadata": {},
     "output_type": "execute_result"
    }
   ],
   "source": [
    "df.sort_index(axis=1, ascending=False)"
   ]
  },
  {
   "cell_type": "code",
   "execution_count": 19,
   "metadata": {},
   "outputs": [
    {
     "data": {
      "application/vnd.microsoft.datawrangler.viewer.v0+json": {
       "columns": [
        {
         "name": "index",
         "rawType": "datetime64[ns]",
         "type": "datetime"
        },
        {
         "name": "A",
         "rawType": "float64",
         "type": "float"
        },
        {
         "name": "B",
         "rawType": "float64",
         "type": "float"
        },
        {
         "name": "C",
         "rawType": "float64",
         "type": "float"
        },
        {
         "name": "D",
         "rawType": "float64",
         "type": "float"
        }
       ],
       "conversionMethod": "pd.DataFrame",
       "ref": "3f91f830-7974-4cae-adde-7b8c98e44ed0",
       "rows": [
        [
         "2013-01-03 00:00:00",
         "-0.8732381081808593",
         "-1.8934826986282343",
         "1.2248520088388752",
         "-0.11938683591256358"
        ],
        [
         "2013-01-06 00:00:00",
         "-0.25798935352860575",
         "-1.401545909988554",
         "1.692584278742434",
         "-0.9283178860604236"
        ],
        [
         "2013-01-04 00:00:00",
         "-0.4886136463432409",
         "-0.17974915700475352",
         "0.023711560516200915",
         "1.1827113267177332"
        ],
        [
         "2013-01-01 00:00:00",
         "-0.5205852732718299",
         "0.4815360829232921",
         "-0.35133101193437777",
         "-1.3624963276799422"
        ],
        [
         "2013-01-05 00:00:00",
         "0.23715513661066454",
         "0.7097682409165189",
         "-0.46769406823066273",
         "-0.8552958019076771"
        ],
        [
         "2013-01-02 00:00:00",
         "0.31290141255201953",
         "1.5071856526966947",
         "-0.6520966369966343",
         "1.1377911163510388"
        ]
       ],
       "shape": {
        "columns": 4,
        "rows": 6
       }
      },
      "text/html": [
       "<div>\n",
       "<style scoped>\n",
       "    .dataframe tbody tr th:only-of-type {\n",
       "        vertical-align: middle;\n",
       "    }\n",
       "\n",
       "    .dataframe tbody tr th {\n",
       "        vertical-align: top;\n",
       "    }\n",
       "\n",
       "    .dataframe thead th {\n",
       "        text-align: right;\n",
       "    }\n",
       "</style>\n",
       "<table border=\"1\" class=\"dataframe\">\n",
       "  <thead>\n",
       "    <tr style=\"text-align: right;\">\n",
       "      <th></th>\n",
       "      <th>A</th>\n",
       "      <th>B</th>\n",
       "      <th>C</th>\n",
       "      <th>D</th>\n",
       "    </tr>\n",
       "  </thead>\n",
       "  <tbody>\n",
       "    <tr>\n",
       "      <th>2013-01-03</th>\n",
       "      <td>-0.873238</td>\n",
       "      <td>-1.893483</td>\n",
       "      <td>1.224852</td>\n",
       "      <td>-0.119387</td>\n",
       "    </tr>\n",
       "    <tr>\n",
       "      <th>2013-01-06</th>\n",
       "      <td>-0.257989</td>\n",
       "      <td>-1.401546</td>\n",
       "      <td>1.692584</td>\n",
       "      <td>-0.928318</td>\n",
       "    </tr>\n",
       "    <tr>\n",
       "      <th>2013-01-04</th>\n",
       "      <td>-0.488614</td>\n",
       "      <td>-0.179749</td>\n",
       "      <td>0.023712</td>\n",
       "      <td>1.182711</td>\n",
       "    </tr>\n",
       "    <tr>\n",
       "      <th>2013-01-01</th>\n",
       "      <td>-0.520585</td>\n",
       "      <td>0.481536</td>\n",
       "      <td>-0.351331</td>\n",
       "      <td>-1.362496</td>\n",
       "    </tr>\n",
       "    <tr>\n",
       "      <th>2013-01-05</th>\n",
       "      <td>0.237155</td>\n",
       "      <td>0.709768</td>\n",
       "      <td>-0.467694</td>\n",
       "      <td>-0.855296</td>\n",
       "    </tr>\n",
       "    <tr>\n",
       "      <th>2013-01-02</th>\n",
       "      <td>0.312901</td>\n",
       "      <td>1.507186</td>\n",
       "      <td>-0.652097</td>\n",
       "      <td>1.137791</td>\n",
       "    </tr>\n",
       "  </tbody>\n",
       "</table>\n",
       "</div>"
      ],
      "text/plain": [
       "                   A         B         C         D\n",
       "2013-01-03 -0.873238 -1.893483  1.224852 -0.119387\n",
       "2013-01-06 -0.257989 -1.401546  1.692584 -0.928318\n",
       "2013-01-04 -0.488614 -0.179749  0.023712  1.182711\n",
       "2013-01-01 -0.520585  0.481536 -0.351331 -1.362496\n",
       "2013-01-05  0.237155  0.709768 -0.467694 -0.855296\n",
       "2013-01-02  0.312901  1.507186 -0.652097  1.137791"
      ]
     },
     "execution_count": 19,
     "metadata": {},
     "output_type": "execute_result"
    }
   ],
   "source": [
    "df.sort_values(by=\"B\")"
   ]
  },
  {
   "cell_type": "markdown",
   "metadata": {},
   "source": [
    "## 选择数据\n",
    "\n",
    "### 选择单列"
   ]
  },
  {
   "cell_type": "code",
   "execution_count": 20,
   "metadata": {},
   "outputs": [
    {
     "data": {
      "text/plain": [
       "2013-01-01   -0.520585\n",
       "2013-01-02    0.312901\n",
       "2013-01-03   -0.873238\n",
       "2013-01-04   -0.488614\n",
       "2013-01-05    0.237155\n",
       "2013-01-06   -0.257989\n",
       "Freq: D, Name: A, dtype: float64"
      ]
     },
     "execution_count": 20,
     "metadata": {},
     "output_type": "execute_result"
    }
   ],
   "source": [
    "df[\"A\"]"
   ]
  },
  {
   "cell_type": "markdown",
   "metadata": {},
   "source": [
    "### 通过切片选取多行（行标签）"
   ]
  },
  {
   "cell_type": "code",
   "execution_count": 21,
   "metadata": {},
   "outputs": [
    {
     "data": {
      "application/vnd.microsoft.datawrangler.viewer.v0+json": {
       "columns": [
        {
         "name": "index",
         "rawType": "datetime64[ns]",
         "type": "datetime"
        },
        {
         "name": "A",
         "rawType": "float64",
         "type": "float"
        },
        {
         "name": "B",
         "rawType": "float64",
         "type": "float"
        },
        {
         "name": "C",
         "rawType": "float64",
         "type": "float"
        },
        {
         "name": "D",
         "rawType": "float64",
         "type": "float"
        }
       ],
       "conversionMethod": "pd.DataFrame",
       "ref": "ec593f54-3f34-4949-9437-2ebda505d9f8",
       "rows": [
        [
         "2013-01-01 00:00:00",
         "-0.5205852732718299",
         "0.4815360829232921",
         "-0.35133101193437777",
         "-1.3624963276799422"
        ],
        [
         "2013-01-02 00:00:00",
         "0.31290141255201953",
         "1.5071856526966947",
         "-0.6520966369966343",
         "1.1377911163510388"
        ],
        [
         "2013-01-03 00:00:00",
         "-0.8732381081808593",
         "-1.8934826986282343",
         "1.2248520088388752",
         "-0.11938683591256358"
        ]
       ],
       "shape": {
        "columns": 4,
        "rows": 3
       }
      },
      "text/html": [
       "<div>\n",
       "<style scoped>\n",
       "    .dataframe tbody tr th:only-of-type {\n",
       "        vertical-align: middle;\n",
       "    }\n",
       "\n",
       "    .dataframe tbody tr th {\n",
       "        vertical-align: top;\n",
       "    }\n",
       "\n",
       "    .dataframe thead th {\n",
       "        text-align: right;\n",
       "    }\n",
       "</style>\n",
       "<table border=\"1\" class=\"dataframe\">\n",
       "  <thead>\n",
       "    <tr style=\"text-align: right;\">\n",
       "      <th></th>\n",
       "      <th>A</th>\n",
       "      <th>B</th>\n",
       "      <th>C</th>\n",
       "      <th>D</th>\n",
       "    </tr>\n",
       "  </thead>\n",
       "  <tbody>\n",
       "    <tr>\n",
       "      <th>2013-01-01</th>\n",
       "      <td>-0.520585</td>\n",
       "      <td>0.481536</td>\n",
       "      <td>-0.351331</td>\n",
       "      <td>-1.362496</td>\n",
       "    </tr>\n",
       "    <tr>\n",
       "      <th>2013-01-02</th>\n",
       "      <td>0.312901</td>\n",
       "      <td>1.507186</td>\n",
       "      <td>-0.652097</td>\n",
       "      <td>1.137791</td>\n",
       "    </tr>\n",
       "    <tr>\n",
       "      <th>2013-01-03</th>\n",
       "      <td>-0.873238</td>\n",
       "      <td>-1.893483</td>\n",
       "      <td>1.224852</td>\n",
       "      <td>-0.119387</td>\n",
       "    </tr>\n",
       "  </tbody>\n",
       "</table>\n",
       "</div>"
      ],
      "text/plain": [
       "                   A         B         C         D\n",
       "2013-01-01 -0.520585  0.481536 -0.351331 -1.362496\n",
       "2013-01-02  0.312901  1.507186 -0.652097  1.137791\n",
       "2013-01-03 -0.873238 -1.893483  1.224852 -0.119387"
      ]
     },
     "execution_count": 21,
     "metadata": {},
     "output_type": "execute_result"
    }
   ],
   "source": [
    "df[0:3]"
   ]
  },
  {
   "cell_type": "code",
   "execution_count": 22,
   "metadata": {},
   "outputs": [
    {
     "data": {
      "application/vnd.microsoft.datawrangler.viewer.v0+json": {
       "columns": [
        {
         "name": "index",
         "rawType": "datetime64[ns]",
         "type": "datetime"
        },
        {
         "name": "A",
         "rawType": "float64",
         "type": "float"
        },
        {
         "name": "B",
         "rawType": "float64",
         "type": "float"
        },
        {
         "name": "C",
         "rawType": "float64",
         "type": "float"
        },
        {
         "name": "D",
         "rawType": "float64",
         "type": "float"
        }
       ],
       "conversionMethod": "pd.DataFrame",
       "ref": "5d54d65f-0acf-4591-8a82-91735c471e5a",
       "rows": [
        [
         "2013-01-02 00:00:00",
         "0.31290141255201953",
         "1.5071856526966947",
         "-0.6520966369966343",
         "1.1377911163510388"
        ],
        [
         "2013-01-03 00:00:00",
         "-0.8732381081808593",
         "-1.8934826986282343",
         "1.2248520088388752",
         "-0.11938683591256358"
        ],
        [
         "2013-01-04 00:00:00",
         "-0.4886136463432409",
         "-0.17974915700475352",
         "0.023711560516200915",
         "1.1827113267177332"
        ]
       ],
       "shape": {
        "columns": 4,
        "rows": 3
       }
      },
      "text/html": [
       "<div>\n",
       "<style scoped>\n",
       "    .dataframe tbody tr th:only-of-type {\n",
       "        vertical-align: middle;\n",
       "    }\n",
       "\n",
       "    .dataframe tbody tr th {\n",
       "        vertical-align: top;\n",
       "    }\n",
       "\n",
       "    .dataframe thead th {\n",
       "        text-align: right;\n",
       "    }\n",
       "</style>\n",
       "<table border=\"1\" class=\"dataframe\">\n",
       "  <thead>\n",
       "    <tr style=\"text-align: right;\">\n",
       "      <th></th>\n",
       "      <th>A</th>\n",
       "      <th>B</th>\n",
       "      <th>C</th>\n",
       "      <th>D</th>\n",
       "    </tr>\n",
       "  </thead>\n",
       "  <tbody>\n",
       "    <tr>\n",
       "      <th>2013-01-02</th>\n",
       "      <td>0.312901</td>\n",
       "      <td>1.507186</td>\n",
       "      <td>-0.652097</td>\n",
       "      <td>1.137791</td>\n",
       "    </tr>\n",
       "    <tr>\n",
       "      <th>2013-01-03</th>\n",
       "      <td>-0.873238</td>\n",
       "      <td>-1.893483</td>\n",
       "      <td>1.224852</td>\n",
       "      <td>-0.119387</td>\n",
       "    </tr>\n",
       "    <tr>\n",
       "      <th>2013-01-04</th>\n",
       "      <td>-0.488614</td>\n",
       "      <td>-0.179749</td>\n",
       "      <td>0.023712</td>\n",
       "      <td>1.182711</td>\n",
       "    </tr>\n",
       "  </tbody>\n",
       "</table>\n",
       "</div>"
      ],
      "text/plain": [
       "                   A         B         C         D\n",
       "2013-01-02  0.312901  1.507186 -0.652097  1.137791\n",
       "2013-01-03 -0.873238 -1.893483  1.224852 -0.119387\n",
       "2013-01-04 -0.488614 -0.179749  0.023712  1.182711"
      ]
     },
     "execution_count": 22,
     "metadata": {},
     "output_type": "execute_result"
    }
   ],
   "source": [
    "df[\"20130102\":\"20130104\"]"
   ]
  },
  {
   "cell_type": "markdown",
   "metadata": {},
   "source": [
    "### 使用标签（loc）选择\n",
    "- 精确选取行/列"
   ]
  },
  {
   "cell_type": "code",
   "execution_count": 23,
   "metadata": {},
   "outputs": [
    {
     "data": {
      "text/plain": [
       "A   -0.520585\n",
       "B    0.481536\n",
       "C   -0.351331\n",
       "D   -1.362496\n",
       "Name: 2013-01-01 00:00:00, dtype: float64"
      ]
     },
     "execution_count": 23,
     "metadata": {},
     "output_type": "execute_result"
    }
   ],
   "source": [
    "df.loc[dates[0]]"
   ]
  },
  {
   "cell_type": "code",
   "execution_count": 24,
   "metadata": {},
   "outputs": [
    {
     "data": {
      "application/vnd.microsoft.datawrangler.viewer.v0+json": {
       "columns": [
        {
         "name": "index",
         "rawType": "datetime64[ns]",
         "type": "datetime"
        },
        {
         "name": "A",
         "rawType": "float64",
         "type": "float"
        },
        {
         "name": "B",
         "rawType": "float64",
         "type": "float"
        }
       ],
       "conversionMethod": "pd.DataFrame",
       "ref": "296f4fdf-a015-46da-99e5-165a086b0b41",
       "rows": [
        [
         "2013-01-01 00:00:00",
         "-0.5205852732718299",
         "0.4815360829232921"
        ],
        [
         "2013-01-02 00:00:00",
         "0.31290141255201953",
         "1.5071856526966947"
        ],
        [
         "2013-01-03 00:00:00",
         "-0.8732381081808593",
         "-1.8934826986282343"
        ],
        [
         "2013-01-04 00:00:00",
         "-0.4886136463432409",
         "-0.17974915700475352"
        ],
        [
         "2013-01-05 00:00:00",
         "0.23715513661066454",
         "0.7097682409165189"
        ],
        [
         "2013-01-06 00:00:00",
         "-0.25798935352860575",
         "-1.401545909988554"
        ]
       ],
       "shape": {
        "columns": 2,
        "rows": 6
       }
      },
      "text/html": [
       "<div>\n",
       "<style scoped>\n",
       "    .dataframe tbody tr th:only-of-type {\n",
       "        vertical-align: middle;\n",
       "    }\n",
       "\n",
       "    .dataframe tbody tr th {\n",
       "        vertical-align: top;\n",
       "    }\n",
       "\n",
       "    .dataframe thead th {\n",
       "        text-align: right;\n",
       "    }\n",
       "</style>\n",
       "<table border=\"1\" class=\"dataframe\">\n",
       "  <thead>\n",
       "    <tr style=\"text-align: right;\">\n",
       "      <th></th>\n",
       "      <th>A</th>\n",
       "      <th>B</th>\n",
       "    </tr>\n",
       "  </thead>\n",
       "  <tbody>\n",
       "    <tr>\n",
       "      <th>2013-01-01</th>\n",
       "      <td>-0.520585</td>\n",
       "      <td>0.481536</td>\n",
       "    </tr>\n",
       "    <tr>\n",
       "      <th>2013-01-02</th>\n",
       "      <td>0.312901</td>\n",
       "      <td>1.507186</td>\n",
       "    </tr>\n",
       "    <tr>\n",
       "      <th>2013-01-03</th>\n",
       "      <td>-0.873238</td>\n",
       "      <td>-1.893483</td>\n",
       "    </tr>\n",
       "    <tr>\n",
       "      <th>2013-01-04</th>\n",
       "      <td>-0.488614</td>\n",
       "      <td>-0.179749</td>\n",
       "    </tr>\n",
       "    <tr>\n",
       "      <th>2013-01-05</th>\n",
       "      <td>0.237155</td>\n",
       "      <td>0.709768</td>\n",
       "    </tr>\n",
       "    <tr>\n",
       "      <th>2013-01-06</th>\n",
       "      <td>-0.257989</td>\n",
       "      <td>-1.401546</td>\n",
       "    </tr>\n",
       "  </tbody>\n",
       "</table>\n",
       "</div>"
      ],
      "text/plain": [
       "                   A         B\n",
       "2013-01-01 -0.520585  0.481536\n",
       "2013-01-02  0.312901  1.507186\n",
       "2013-01-03 -0.873238 -1.893483\n",
       "2013-01-04 -0.488614 -0.179749\n",
       "2013-01-05  0.237155  0.709768\n",
       "2013-01-06 -0.257989 -1.401546"
      ]
     },
     "execution_count": 24,
     "metadata": {},
     "output_type": "execute_result"
    }
   ],
   "source": [
    "df.loc[:, [\"A\", \"B\"]]"
   ]
  },
  {
   "cell_type": "code",
   "execution_count": 25,
   "metadata": {},
   "outputs": [
    {
     "data": {
      "application/vnd.microsoft.datawrangler.viewer.v0+json": {
       "columns": [
        {
         "name": "index",
         "rawType": "datetime64[ns]",
         "type": "datetime"
        },
        {
         "name": "A",
         "rawType": "float64",
         "type": "float"
        },
        {
         "name": "B",
         "rawType": "float64",
         "type": "float"
        }
       ],
       "conversionMethod": "pd.DataFrame",
       "ref": "3ebd3dab-9d7f-4553-b83b-e8e205fbb187",
       "rows": [
        [
         "2013-01-02 00:00:00",
         "0.31290141255201953",
         "1.5071856526966947"
        ],
        [
         "2013-01-03 00:00:00",
         "-0.8732381081808593",
         "-1.8934826986282343"
        ],
        [
         "2013-01-04 00:00:00",
         "-0.4886136463432409",
         "-0.17974915700475352"
        ]
       ],
       "shape": {
        "columns": 2,
        "rows": 3
       }
      },
      "text/html": [
       "<div>\n",
       "<style scoped>\n",
       "    .dataframe tbody tr th:only-of-type {\n",
       "        vertical-align: middle;\n",
       "    }\n",
       "\n",
       "    .dataframe tbody tr th {\n",
       "        vertical-align: top;\n",
       "    }\n",
       "\n",
       "    .dataframe thead th {\n",
       "        text-align: right;\n",
       "    }\n",
       "</style>\n",
       "<table border=\"1\" class=\"dataframe\">\n",
       "  <thead>\n",
       "    <tr style=\"text-align: right;\">\n",
       "      <th></th>\n",
       "      <th>A</th>\n",
       "      <th>B</th>\n",
       "    </tr>\n",
       "  </thead>\n",
       "  <tbody>\n",
       "    <tr>\n",
       "      <th>2013-01-02</th>\n",
       "      <td>0.312901</td>\n",
       "      <td>1.507186</td>\n",
       "    </tr>\n",
       "    <tr>\n",
       "      <th>2013-01-03</th>\n",
       "      <td>-0.873238</td>\n",
       "      <td>-1.893483</td>\n",
       "    </tr>\n",
       "    <tr>\n",
       "      <th>2013-01-04</th>\n",
       "      <td>-0.488614</td>\n",
       "      <td>-0.179749</td>\n",
       "    </tr>\n",
       "  </tbody>\n",
       "</table>\n",
       "</div>"
      ],
      "text/plain": [
       "                   A         B\n",
       "2013-01-02  0.312901  1.507186\n",
       "2013-01-03 -0.873238 -1.893483\n",
       "2013-01-04 -0.488614 -0.179749"
      ]
     },
     "execution_count": 25,
     "metadata": {},
     "output_type": "execute_result"
    }
   ],
   "source": [
    "df.loc[\"20130102\":\"20130104\", [\"A\", \"B\"]]"
   ]
  },
  {
   "cell_type": "code",
   "execution_count": 26,
   "metadata": {},
   "outputs": [
    {
     "data": {
      "text/plain": [
       "A   -0.520585\n",
       "B    0.481536\n",
       "Name: 2013-01-01 00:00:00, dtype: float64"
      ]
     },
     "execution_count": 26,
     "metadata": {},
     "output_type": "execute_result"
    }
   ],
   "source": [
    "df.loc[dates[0], [\"A\", \"B\"]]"
   ]
  },
  {
   "cell_type": "code",
   "execution_count": 27,
   "metadata": {},
   "outputs": [
    {
     "data": {
      "text/plain": [
       "-0.5205852732718299"
      ]
     },
     "execution_count": 27,
     "metadata": {},
     "output_type": "execute_result"
    }
   ],
   "source": [
    "df.loc[dates[0], \"A\"]"
   ]
  },
  {
   "cell_type": "code",
   "execution_count": 28,
   "metadata": {},
   "outputs": [
    {
     "data": {
      "text/plain": [
       "-0.5205852732718299"
      ]
     },
     "execution_count": 28,
     "metadata": {},
     "output_type": "execute_result"
    }
   ],
   "source": [
    "df.at[dates[0], \"A\"]"
   ]
  },
  {
   "cell_type": "markdown",
   "metadata": {},
   "source": [
    "### 按位置（iloc）选取\n",
    "- 类似于 numpy 的索引"
   ]
  },
  {
   "cell_type": "code",
   "execution_count": 29,
   "metadata": {},
   "outputs": [
    {
     "data": {
      "text/plain": [
       "A   -0.488614\n",
       "B   -0.179749\n",
       "C    0.023712\n",
       "D    1.182711\n",
       "Name: 2013-01-04 00:00:00, dtype: float64"
      ]
     },
     "execution_count": 29,
     "metadata": {},
     "output_type": "execute_result"
    }
   ],
   "source": [
    "df.iloc[3]"
   ]
  },
  {
   "cell_type": "code",
   "execution_count": 30,
   "metadata": {},
   "outputs": [
    {
     "data": {
      "application/vnd.microsoft.datawrangler.viewer.v0+json": {
       "columns": [
        {
         "name": "index",
         "rawType": "datetime64[ns]",
         "type": "datetime"
        },
        {
         "name": "A",
         "rawType": "float64",
         "type": "float"
        },
        {
         "name": "B",
         "rawType": "float64",
         "type": "float"
        }
       ],
       "conversionMethod": "pd.DataFrame",
       "ref": "583dbd52-3532-4517-af40-f918cc0fae35",
       "rows": [
        [
         "2013-01-04 00:00:00",
         "-0.4886136463432409",
         "-0.17974915700475352"
        ],
        [
         "2013-01-05 00:00:00",
         "0.23715513661066454",
         "0.7097682409165189"
        ]
       ],
       "shape": {
        "columns": 2,
        "rows": 2
       }
      },
      "text/html": [
       "<div>\n",
       "<style scoped>\n",
       "    .dataframe tbody tr th:only-of-type {\n",
       "        vertical-align: middle;\n",
       "    }\n",
       "\n",
       "    .dataframe tbody tr th {\n",
       "        vertical-align: top;\n",
       "    }\n",
       "\n",
       "    .dataframe thead th {\n",
       "        text-align: right;\n",
       "    }\n",
       "</style>\n",
       "<table border=\"1\" class=\"dataframe\">\n",
       "  <thead>\n",
       "    <tr style=\"text-align: right;\">\n",
       "      <th></th>\n",
       "      <th>A</th>\n",
       "      <th>B</th>\n",
       "    </tr>\n",
       "  </thead>\n",
       "  <tbody>\n",
       "    <tr>\n",
       "      <th>2013-01-04</th>\n",
       "      <td>-0.488614</td>\n",
       "      <td>-0.179749</td>\n",
       "    </tr>\n",
       "    <tr>\n",
       "      <th>2013-01-05</th>\n",
       "      <td>0.237155</td>\n",
       "      <td>0.709768</td>\n",
       "    </tr>\n",
       "  </tbody>\n",
       "</table>\n",
       "</div>"
      ],
      "text/plain": [
       "                   A         B\n",
       "2013-01-04 -0.488614 -0.179749\n",
       "2013-01-05  0.237155  0.709768"
      ]
     },
     "execution_count": 30,
     "metadata": {},
     "output_type": "execute_result"
    }
   ],
   "source": [
    "df.iloc[3:5, 0:2]"
   ]
  },
  {
   "cell_type": "code",
   "execution_count": 31,
   "metadata": {},
   "outputs": [
    {
     "data": {
      "application/vnd.microsoft.datawrangler.viewer.v0+json": {
       "columns": [
        {
         "name": "index",
         "rawType": "datetime64[ns]",
         "type": "datetime"
        },
        {
         "name": "A",
         "rawType": "float64",
         "type": "float"
        },
        {
         "name": "C",
         "rawType": "float64",
         "type": "float"
        }
       ],
       "conversionMethod": "pd.DataFrame",
       "ref": "08c51c02-3539-4075-90bd-05374358a4b8",
       "rows": [
        [
         "2013-01-02 00:00:00",
         "0.31290141255201953",
         "-0.6520966369966343"
        ],
        [
         "2013-01-03 00:00:00",
         "-0.8732381081808593",
         "1.2248520088388752"
        ],
        [
         "2013-01-05 00:00:00",
         "0.23715513661066454",
         "-0.46769406823066273"
        ]
       ],
       "shape": {
        "columns": 2,
        "rows": 3
       }
      },
      "text/html": [
       "<div>\n",
       "<style scoped>\n",
       "    .dataframe tbody tr th:only-of-type {\n",
       "        vertical-align: middle;\n",
       "    }\n",
       "\n",
       "    .dataframe tbody tr th {\n",
       "        vertical-align: top;\n",
       "    }\n",
       "\n",
       "    .dataframe thead th {\n",
       "        text-align: right;\n",
       "    }\n",
       "</style>\n",
       "<table border=\"1\" class=\"dataframe\">\n",
       "  <thead>\n",
       "    <tr style=\"text-align: right;\">\n",
       "      <th></th>\n",
       "      <th>A</th>\n",
       "      <th>C</th>\n",
       "    </tr>\n",
       "  </thead>\n",
       "  <tbody>\n",
       "    <tr>\n",
       "      <th>2013-01-02</th>\n",
       "      <td>0.312901</td>\n",
       "      <td>-0.652097</td>\n",
       "    </tr>\n",
       "    <tr>\n",
       "      <th>2013-01-03</th>\n",
       "      <td>-0.873238</td>\n",
       "      <td>1.224852</td>\n",
       "    </tr>\n",
       "    <tr>\n",
       "      <th>2013-01-05</th>\n",
       "      <td>0.237155</td>\n",
       "      <td>-0.467694</td>\n",
       "    </tr>\n",
       "  </tbody>\n",
       "</table>\n",
       "</div>"
      ],
      "text/plain": [
       "                   A         C\n",
       "2013-01-02  0.312901 -0.652097\n",
       "2013-01-03 -0.873238  1.224852\n",
       "2013-01-05  0.237155 -0.467694"
      ]
     },
     "execution_count": 31,
     "metadata": {},
     "output_type": "execute_result"
    }
   ],
   "source": [
    "df.iloc[[1,2,4], [0,2]]"
   ]
  },
  {
   "cell_type": "code",
   "execution_count": 32,
   "metadata": {},
   "outputs": [
    {
     "data": {
      "application/vnd.microsoft.datawrangler.viewer.v0+json": {
       "columns": [
        {
         "name": "index",
         "rawType": "datetime64[ns]",
         "type": "datetime"
        },
        {
         "name": "B",
         "rawType": "float64",
         "type": "float"
        },
        {
         "name": "C",
         "rawType": "float64",
         "type": "float"
        }
       ],
       "conversionMethod": "pd.DataFrame",
       "ref": "18eae535-73a2-4dcd-a290-8db3bdcaf558",
       "rows": [
        [
         "2013-01-01 00:00:00",
         "0.4815360829232921",
         "-0.35133101193437777"
        ],
        [
         "2013-01-02 00:00:00",
         "1.5071856526966947",
         "-0.6520966369966343"
        ],
        [
         "2013-01-03 00:00:00",
         "-1.8934826986282343",
         "1.2248520088388752"
        ],
        [
         "2013-01-04 00:00:00",
         "-0.17974915700475352",
         "0.023711560516200915"
        ],
        [
         "2013-01-05 00:00:00",
         "0.7097682409165189",
         "-0.46769406823066273"
        ],
        [
         "2013-01-06 00:00:00",
         "-1.401545909988554",
         "1.692584278742434"
        ]
       ],
       "shape": {
        "columns": 2,
        "rows": 6
       }
      },
      "text/html": [
       "<div>\n",
       "<style scoped>\n",
       "    .dataframe tbody tr th:only-of-type {\n",
       "        vertical-align: middle;\n",
       "    }\n",
       "\n",
       "    .dataframe tbody tr th {\n",
       "        vertical-align: top;\n",
       "    }\n",
       "\n",
       "    .dataframe thead th {\n",
       "        text-align: right;\n",
       "    }\n",
       "</style>\n",
       "<table border=\"1\" class=\"dataframe\">\n",
       "  <thead>\n",
       "    <tr style=\"text-align: right;\">\n",
       "      <th></th>\n",
       "      <th>B</th>\n",
       "      <th>C</th>\n",
       "    </tr>\n",
       "  </thead>\n",
       "  <tbody>\n",
       "    <tr>\n",
       "      <th>2013-01-01</th>\n",
       "      <td>0.481536</td>\n",
       "      <td>-0.351331</td>\n",
       "    </tr>\n",
       "    <tr>\n",
       "      <th>2013-01-02</th>\n",
       "      <td>1.507186</td>\n",
       "      <td>-0.652097</td>\n",
       "    </tr>\n",
       "    <tr>\n",
       "      <th>2013-01-03</th>\n",
       "      <td>-1.893483</td>\n",
       "      <td>1.224852</td>\n",
       "    </tr>\n",
       "    <tr>\n",
       "      <th>2013-01-04</th>\n",
       "      <td>-0.179749</td>\n",
       "      <td>0.023712</td>\n",
       "    </tr>\n",
       "    <tr>\n",
       "      <th>2013-01-05</th>\n",
       "      <td>0.709768</td>\n",
       "      <td>-0.467694</td>\n",
       "    </tr>\n",
       "    <tr>\n",
       "      <th>2013-01-06</th>\n",
       "      <td>-1.401546</td>\n",
       "      <td>1.692584</td>\n",
       "    </tr>\n",
       "  </tbody>\n",
       "</table>\n",
       "</div>"
      ],
      "text/plain": [
       "                   B         C\n",
       "2013-01-01  0.481536 -0.351331\n",
       "2013-01-02  1.507186 -0.652097\n",
       "2013-01-03 -1.893483  1.224852\n",
       "2013-01-04 -0.179749  0.023712\n",
       "2013-01-05  0.709768 -0.467694\n",
       "2013-01-06 -1.401546  1.692584"
      ]
     },
     "execution_count": 32,
     "metadata": {},
     "output_type": "execute_result"
    }
   ],
   "source": [
    "df.iloc[1:3, :]\n",
    "df.iloc[:, 1:3]"
   ]
  },
  {
   "cell_type": "code",
   "execution_count": 33,
   "metadata": {},
   "outputs": [
    {
     "data": {
      "text/plain": [
       "1.5071856526966947"
      ]
     },
     "execution_count": 33,
     "metadata": {},
     "output_type": "execute_result"
    }
   ],
   "source": [
    "df.iat[1, 1]"
   ]
  },
  {
   "cell_type": "markdown",
   "metadata": {},
   "source": [
    "### 布尔索引\n",
    "- 条件筛选"
   ]
  },
  {
   "cell_type": "code",
   "execution_count": 34,
   "metadata": {},
   "outputs": [
    {
     "data": {
      "application/vnd.microsoft.datawrangler.viewer.v0+json": {
       "columns": [
        {
         "name": "index",
         "rawType": "datetime64[ns]",
         "type": "datetime"
        },
        {
         "name": "A",
         "rawType": "float64",
         "type": "float"
        },
        {
         "name": "B",
         "rawType": "float64",
         "type": "float"
        },
        {
         "name": "C",
         "rawType": "float64",
         "type": "float"
        },
        {
         "name": "D",
         "rawType": "float64",
         "type": "float"
        }
       ],
       "conversionMethod": "pd.DataFrame",
       "ref": "f2060590-fefe-4da6-823d-456585e09363",
       "rows": [
        [
         "2013-01-02 00:00:00",
         "0.31290141255201953",
         "1.5071856526966947",
         "-0.6520966369966343",
         "1.1377911163510388"
        ],
        [
         "2013-01-05 00:00:00",
         "0.23715513661066454",
         "0.7097682409165189",
         "-0.46769406823066273",
         "-0.8552958019076771"
        ]
       ],
       "shape": {
        "columns": 4,
        "rows": 2
       }
      },
      "text/html": [
       "<div>\n",
       "<style scoped>\n",
       "    .dataframe tbody tr th:only-of-type {\n",
       "        vertical-align: middle;\n",
       "    }\n",
       "\n",
       "    .dataframe tbody tr th {\n",
       "        vertical-align: top;\n",
       "    }\n",
       "\n",
       "    .dataframe thead th {\n",
       "        text-align: right;\n",
       "    }\n",
       "</style>\n",
       "<table border=\"1\" class=\"dataframe\">\n",
       "  <thead>\n",
       "    <tr style=\"text-align: right;\">\n",
       "      <th></th>\n",
       "      <th>A</th>\n",
       "      <th>B</th>\n",
       "      <th>C</th>\n",
       "      <th>D</th>\n",
       "    </tr>\n",
       "  </thead>\n",
       "  <tbody>\n",
       "    <tr>\n",
       "      <th>2013-01-02</th>\n",
       "      <td>0.312901</td>\n",
       "      <td>1.507186</td>\n",
       "      <td>-0.652097</td>\n",
       "      <td>1.137791</td>\n",
       "    </tr>\n",
       "    <tr>\n",
       "      <th>2013-01-05</th>\n",
       "      <td>0.237155</td>\n",
       "      <td>0.709768</td>\n",
       "      <td>-0.467694</td>\n",
       "      <td>-0.855296</td>\n",
       "    </tr>\n",
       "  </tbody>\n",
       "</table>\n",
       "</div>"
      ],
      "text/plain": [
       "                   A         B         C         D\n",
       "2013-01-02  0.312901  1.507186 -0.652097  1.137791\n",
       "2013-01-05  0.237155  0.709768 -0.467694 -0.855296"
      ]
     },
     "execution_count": 34,
     "metadata": {},
     "output_type": "execute_result"
    }
   ],
   "source": [
    "df[df[\"A\"] > 0]"
   ]
  },
  {
   "cell_type": "code",
   "execution_count": 35,
   "metadata": {},
   "outputs": [
    {
     "data": {
      "application/vnd.microsoft.datawrangler.viewer.v0+json": {
       "columns": [
        {
         "name": "index",
         "rawType": "datetime64[ns]",
         "type": "datetime"
        },
        {
         "name": "A",
         "rawType": "float64",
         "type": "float"
        },
        {
         "name": "B",
         "rawType": "float64",
         "type": "float"
        },
        {
         "name": "C",
         "rawType": "float64",
         "type": "float"
        },
        {
         "name": "D",
         "rawType": "float64",
         "type": "float"
        }
       ],
       "conversionMethod": "pd.DataFrame",
       "ref": "c39357be-ab4b-4371-a5ce-d92b4da17920",
       "rows": [
        [
         "2013-01-01 00:00:00",
         null,
         "0.4815360829232921",
         null,
         null
        ],
        [
         "2013-01-02 00:00:00",
         "0.31290141255201953",
         "1.5071856526966947",
         null,
         "1.1377911163510388"
        ],
        [
         "2013-01-03 00:00:00",
         null,
         null,
         "1.2248520088388752",
         null
        ],
        [
         "2013-01-04 00:00:00",
         null,
         null,
         "0.023711560516200915",
         "1.1827113267177332"
        ],
        [
         "2013-01-05 00:00:00",
         "0.23715513661066454",
         "0.7097682409165189",
         null,
         null
        ],
        [
         "2013-01-06 00:00:00",
         null,
         null,
         "1.692584278742434",
         null
        ]
       ],
       "shape": {
        "columns": 4,
        "rows": 6
       }
      },
      "text/html": [
       "<div>\n",
       "<style scoped>\n",
       "    .dataframe tbody tr th:only-of-type {\n",
       "        vertical-align: middle;\n",
       "    }\n",
       "\n",
       "    .dataframe tbody tr th {\n",
       "        vertical-align: top;\n",
       "    }\n",
       "\n",
       "    .dataframe thead th {\n",
       "        text-align: right;\n",
       "    }\n",
       "</style>\n",
       "<table border=\"1\" class=\"dataframe\">\n",
       "  <thead>\n",
       "    <tr style=\"text-align: right;\">\n",
       "      <th></th>\n",
       "      <th>A</th>\n",
       "      <th>B</th>\n",
       "      <th>C</th>\n",
       "      <th>D</th>\n",
       "    </tr>\n",
       "  </thead>\n",
       "  <tbody>\n",
       "    <tr>\n",
       "      <th>2013-01-01</th>\n",
       "      <td>NaN</td>\n",
       "      <td>0.481536</td>\n",
       "      <td>NaN</td>\n",
       "      <td>NaN</td>\n",
       "    </tr>\n",
       "    <tr>\n",
       "      <th>2013-01-02</th>\n",
       "      <td>0.312901</td>\n",
       "      <td>1.507186</td>\n",
       "      <td>NaN</td>\n",
       "      <td>1.137791</td>\n",
       "    </tr>\n",
       "    <tr>\n",
       "      <th>2013-01-03</th>\n",
       "      <td>NaN</td>\n",
       "      <td>NaN</td>\n",
       "      <td>1.224852</td>\n",
       "      <td>NaN</td>\n",
       "    </tr>\n",
       "    <tr>\n",
       "      <th>2013-01-04</th>\n",
       "      <td>NaN</td>\n",
       "      <td>NaN</td>\n",
       "      <td>0.023712</td>\n",
       "      <td>1.182711</td>\n",
       "    </tr>\n",
       "    <tr>\n",
       "      <th>2013-01-05</th>\n",
       "      <td>0.237155</td>\n",
       "      <td>0.709768</td>\n",
       "      <td>NaN</td>\n",
       "      <td>NaN</td>\n",
       "    </tr>\n",
       "    <tr>\n",
       "      <th>2013-01-06</th>\n",
       "      <td>NaN</td>\n",
       "      <td>NaN</td>\n",
       "      <td>1.692584</td>\n",
       "      <td>NaN</td>\n",
       "    </tr>\n",
       "  </tbody>\n",
       "</table>\n",
       "</div>"
      ],
      "text/plain": [
       "                   A         B         C         D\n",
       "2013-01-01       NaN  0.481536       NaN       NaN\n",
       "2013-01-02  0.312901  1.507186       NaN  1.137791\n",
       "2013-01-03       NaN       NaN  1.224852       NaN\n",
       "2013-01-04       NaN       NaN  0.023712  1.182711\n",
       "2013-01-05  0.237155  0.709768       NaN       NaN\n",
       "2013-01-06       NaN       NaN  1.692584       NaN"
      ]
     },
     "execution_count": 35,
     "metadata": {},
     "output_type": "execute_result"
    }
   ],
   "source": [
    "df[df > 0]"
   ]
  },
  {
   "cell_type": "code",
   "execution_count": 36,
   "metadata": {},
   "outputs": [
    {
     "data": {
      "application/vnd.microsoft.datawrangler.viewer.v0+json": {
       "columns": [
        {
         "name": "index",
         "rawType": "datetime64[ns]",
         "type": "datetime"
        },
        {
         "name": "A",
         "rawType": "float64",
         "type": "float"
        },
        {
         "name": "B",
         "rawType": "float64",
         "type": "float"
        },
        {
         "name": "C",
         "rawType": "float64",
         "type": "float"
        },
        {
         "name": "D",
         "rawType": "float64",
         "type": "float"
        },
        {
         "name": "E",
         "rawType": "object",
         "type": "string"
        }
       ],
       "conversionMethod": "pd.DataFrame",
       "ref": "d6409e3c-903f-4877-ac78-bde6cd8b0d31",
       "rows": [
        [
         "2013-01-01 00:00:00",
         "-0.5205852732718299",
         "0.4815360829232921",
         "-0.35133101193437777",
         "-1.3624963276799422",
         "one"
        ],
        [
         "2013-01-02 00:00:00",
         "0.31290141255201953",
         "1.5071856526966947",
         "-0.6520966369966343",
         "1.1377911163510388",
         "one"
        ],
        [
         "2013-01-03 00:00:00",
         "-0.8732381081808593",
         "-1.8934826986282343",
         "1.2248520088388752",
         "-0.11938683591256358",
         "two"
        ],
        [
         "2013-01-04 00:00:00",
         "-0.4886136463432409",
         "-0.17974915700475352",
         "0.023711560516200915",
         "1.1827113267177332",
         "three"
        ],
        [
         "2013-01-05 00:00:00",
         "0.23715513661066454",
         "0.7097682409165189",
         "-0.46769406823066273",
         "-0.8552958019076771",
         "four"
        ],
        [
         "2013-01-06 00:00:00",
         "-0.25798935352860575",
         "-1.401545909988554",
         "1.692584278742434",
         "-0.9283178860604236",
         "three"
        ]
       ],
       "shape": {
        "columns": 5,
        "rows": 6
       }
      },
      "text/html": [
       "<div>\n",
       "<style scoped>\n",
       "    .dataframe tbody tr th:only-of-type {\n",
       "        vertical-align: middle;\n",
       "    }\n",
       "\n",
       "    .dataframe tbody tr th {\n",
       "        vertical-align: top;\n",
       "    }\n",
       "\n",
       "    .dataframe thead th {\n",
       "        text-align: right;\n",
       "    }\n",
       "</style>\n",
       "<table border=\"1\" class=\"dataframe\">\n",
       "  <thead>\n",
       "    <tr style=\"text-align: right;\">\n",
       "      <th></th>\n",
       "      <th>A</th>\n",
       "      <th>B</th>\n",
       "      <th>C</th>\n",
       "      <th>D</th>\n",
       "      <th>E</th>\n",
       "    </tr>\n",
       "  </thead>\n",
       "  <tbody>\n",
       "    <tr>\n",
       "      <th>2013-01-01</th>\n",
       "      <td>-0.520585</td>\n",
       "      <td>0.481536</td>\n",
       "      <td>-0.351331</td>\n",
       "      <td>-1.362496</td>\n",
       "      <td>one</td>\n",
       "    </tr>\n",
       "    <tr>\n",
       "      <th>2013-01-02</th>\n",
       "      <td>0.312901</td>\n",
       "      <td>1.507186</td>\n",
       "      <td>-0.652097</td>\n",
       "      <td>1.137791</td>\n",
       "      <td>one</td>\n",
       "    </tr>\n",
       "    <tr>\n",
       "      <th>2013-01-03</th>\n",
       "      <td>-0.873238</td>\n",
       "      <td>-1.893483</td>\n",
       "      <td>1.224852</td>\n",
       "      <td>-0.119387</td>\n",
       "      <td>two</td>\n",
       "    </tr>\n",
       "    <tr>\n",
       "      <th>2013-01-04</th>\n",
       "      <td>-0.488614</td>\n",
       "      <td>-0.179749</td>\n",
       "      <td>0.023712</td>\n",
       "      <td>1.182711</td>\n",
       "      <td>three</td>\n",
       "    </tr>\n",
       "    <tr>\n",
       "      <th>2013-01-05</th>\n",
       "      <td>0.237155</td>\n",
       "      <td>0.709768</td>\n",
       "      <td>-0.467694</td>\n",
       "      <td>-0.855296</td>\n",
       "      <td>four</td>\n",
       "    </tr>\n",
       "    <tr>\n",
       "      <th>2013-01-06</th>\n",
       "      <td>-0.257989</td>\n",
       "      <td>-1.401546</td>\n",
       "      <td>1.692584</td>\n",
       "      <td>-0.928318</td>\n",
       "      <td>three</td>\n",
       "    </tr>\n",
       "  </tbody>\n",
       "</table>\n",
       "</div>"
      ],
      "text/plain": [
       "                   A         B         C         D      E\n",
       "2013-01-01 -0.520585  0.481536 -0.351331 -1.362496    one\n",
       "2013-01-02  0.312901  1.507186 -0.652097  1.137791    one\n",
       "2013-01-03 -0.873238 -1.893483  1.224852 -0.119387    two\n",
       "2013-01-04 -0.488614 -0.179749  0.023712  1.182711  three\n",
       "2013-01-05  0.237155  0.709768 -0.467694 -0.855296   four\n",
       "2013-01-06 -0.257989 -1.401546  1.692584 -0.928318  three"
      ]
     },
     "execution_count": 36,
     "metadata": {},
     "output_type": "execute_result"
    }
   ],
   "source": [
    "df2 = df.copy()\n",
    "df2[\"E\"] = [\"one\", \"one\", \"two\", \"three\", \"four\", \"three\"]\n",
    "df2"
   ]
  },
  {
   "cell_type": "code",
   "execution_count": 37,
   "metadata": {},
   "outputs": [
    {
     "data": {
      "application/vnd.microsoft.datawrangler.viewer.v0+json": {
       "columns": [
        {
         "name": "index",
         "rawType": "datetime64[ns]",
         "type": "datetime"
        },
        {
         "name": "A",
         "rawType": "float64",
         "type": "float"
        },
        {
         "name": "B",
         "rawType": "float64",
         "type": "float"
        },
        {
         "name": "C",
         "rawType": "float64",
         "type": "float"
        },
        {
         "name": "D",
         "rawType": "float64",
         "type": "float"
        },
        {
         "name": "E",
         "rawType": "object",
         "type": "string"
        }
       ],
       "conversionMethod": "pd.DataFrame",
       "ref": "cb2fcb53-284b-4168-b70b-99c2fde0967a",
       "rows": [
        [
         "2013-01-03 00:00:00",
         "-0.8732381081808593",
         "-1.8934826986282343",
         "1.2248520088388752",
         "-0.11938683591256358",
         "two"
        ],
        [
         "2013-01-05 00:00:00",
         "0.23715513661066454",
         "0.7097682409165189",
         "-0.46769406823066273",
         "-0.8552958019076771",
         "four"
        ]
       ],
       "shape": {
        "columns": 5,
        "rows": 2
       }
      },
      "text/html": [
       "<div>\n",
       "<style scoped>\n",
       "    .dataframe tbody tr th:only-of-type {\n",
       "        vertical-align: middle;\n",
       "    }\n",
       "\n",
       "    .dataframe tbody tr th {\n",
       "        vertical-align: top;\n",
       "    }\n",
       "\n",
       "    .dataframe thead th {\n",
       "        text-align: right;\n",
       "    }\n",
       "</style>\n",
       "<table border=\"1\" class=\"dataframe\">\n",
       "  <thead>\n",
       "    <tr style=\"text-align: right;\">\n",
       "      <th></th>\n",
       "      <th>A</th>\n",
       "      <th>B</th>\n",
       "      <th>C</th>\n",
       "      <th>D</th>\n",
       "      <th>E</th>\n",
       "    </tr>\n",
       "  </thead>\n",
       "  <tbody>\n",
       "    <tr>\n",
       "      <th>2013-01-03</th>\n",
       "      <td>-0.873238</td>\n",
       "      <td>-1.893483</td>\n",
       "      <td>1.224852</td>\n",
       "      <td>-0.119387</td>\n",
       "      <td>two</td>\n",
       "    </tr>\n",
       "    <tr>\n",
       "      <th>2013-01-05</th>\n",
       "      <td>0.237155</td>\n",
       "      <td>0.709768</td>\n",
       "      <td>-0.467694</td>\n",
       "      <td>-0.855296</td>\n",
       "      <td>four</td>\n",
       "    </tr>\n",
       "  </tbody>\n",
       "</table>\n",
       "</div>"
      ],
      "text/plain": [
       "                   A         B         C         D     E\n",
       "2013-01-03 -0.873238 -1.893483  1.224852 -0.119387   two\n",
       "2013-01-05  0.237155  0.709768 -0.467694 -0.855296  four"
      ]
     },
     "execution_count": 37,
     "metadata": {},
     "output_type": "execute_result"
    }
   ],
   "source": [
    "df2[df2[\"E\"].isin([\"two\", \"four\"])]"
   ]
  },
  {
   "cell_type": "markdown",
   "metadata": {},
   "source": [
    "## 缺失值处理\n",
    "pandas 使用 `np.nan` 代表缺失值。\n",
    "可以用 `dropna` 删除含有缺失值的行，或者用 `fillna` 填充。"
   ]
  },
  {
   "cell_type": "code",
   "execution_count": 38,
   "metadata": {},
   "outputs": [
    {
     "data": {
      "application/vnd.microsoft.datawrangler.viewer.v0+json": {
       "columns": [
        {
         "name": "index",
         "rawType": "datetime64[ns]",
         "type": "datetime"
        },
        {
         "name": "A",
         "rawType": "float64",
         "type": "float"
        },
        {
         "name": "B",
         "rawType": "float64",
         "type": "float"
        },
        {
         "name": "C",
         "rawType": "float64",
         "type": "float"
        },
        {
         "name": "D",
         "rawType": "float64",
         "type": "float"
        },
        {
         "name": "E",
         "rawType": "float64",
         "type": "float"
        }
       ],
       "conversionMethod": "pd.DataFrame",
       "ref": "c92bc070-6d6b-4366-8e4c-bebc41ddc664",
       "rows": [
        [
         "2013-01-01 00:00:00",
         "-0.5205852732718299",
         "0.4815360829232921",
         "-0.35133101193437777",
         "-1.3624963276799422",
         "1.0"
        ],
        [
         "2013-01-02 00:00:00",
         "0.31290141255201953",
         "1.5071856526966947",
         "-0.6520966369966343",
         "1.1377911163510388",
         "1.0"
        ],
        [
         "2013-01-03 00:00:00",
         "-0.8732381081808593",
         "-1.8934826986282343",
         "1.2248520088388752",
         "-0.11938683591256358",
         null
        ],
        [
         "2013-01-04 00:00:00",
         "-0.4886136463432409",
         "-0.17974915700475352",
         "0.023711560516200915",
         "1.1827113267177332",
         null
        ]
       ],
       "shape": {
        "columns": 5,
        "rows": 4
       }
      },
      "text/html": [
       "<div>\n",
       "<style scoped>\n",
       "    .dataframe tbody tr th:only-of-type {\n",
       "        vertical-align: middle;\n",
       "    }\n",
       "\n",
       "    .dataframe tbody tr th {\n",
       "        vertical-align: top;\n",
       "    }\n",
       "\n",
       "    .dataframe thead th {\n",
       "        text-align: right;\n",
       "    }\n",
       "</style>\n",
       "<table border=\"1\" class=\"dataframe\">\n",
       "  <thead>\n",
       "    <tr style=\"text-align: right;\">\n",
       "      <th></th>\n",
       "      <th>A</th>\n",
       "      <th>B</th>\n",
       "      <th>C</th>\n",
       "      <th>D</th>\n",
       "      <th>E</th>\n",
       "    </tr>\n",
       "  </thead>\n",
       "  <tbody>\n",
       "    <tr>\n",
       "      <th>2013-01-01</th>\n",
       "      <td>-0.520585</td>\n",
       "      <td>0.481536</td>\n",
       "      <td>-0.351331</td>\n",
       "      <td>-1.362496</td>\n",
       "      <td>1.0</td>\n",
       "    </tr>\n",
       "    <tr>\n",
       "      <th>2013-01-02</th>\n",
       "      <td>0.312901</td>\n",
       "      <td>1.507186</td>\n",
       "      <td>-0.652097</td>\n",
       "      <td>1.137791</td>\n",
       "      <td>1.0</td>\n",
       "    </tr>\n",
       "    <tr>\n",
       "      <th>2013-01-03</th>\n",
       "      <td>-0.873238</td>\n",
       "      <td>-1.893483</td>\n",
       "      <td>1.224852</td>\n",
       "      <td>-0.119387</td>\n",
       "      <td>NaN</td>\n",
       "    </tr>\n",
       "    <tr>\n",
       "      <th>2013-01-04</th>\n",
       "      <td>-0.488614</td>\n",
       "      <td>-0.179749</td>\n",
       "      <td>0.023712</td>\n",
       "      <td>1.182711</td>\n",
       "      <td>NaN</td>\n",
       "    </tr>\n",
       "  </tbody>\n",
       "</table>\n",
       "</div>"
      ],
      "text/plain": [
       "                   A         B         C         D    E\n",
       "2013-01-01 -0.520585  0.481536 -0.351331 -1.362496  1.0\n",
       "2013-01-02  0.312901  1.507186 -0.652097  1.137791  1.0\n",
       "2013-01-03 -0.873238 -1.893483  1.224852 -0.119387  NaN\n",
       "2013-01-04 -0.488614 -0.179749  0.023712  1.182711  NaN"
      ]
     },
     "execution_count": 38,
     "metadata": {},
     "output_type": "execute_result"
    }
   ],
   "source": [
    "df1 = df.reindex(index=dates[0:4], columns=list(df.columns) + [\"E\"])\n",
    "df1.loc[dates[0]:dates[1], \"E\"] = 1\n",
    "df1"
   ]
  },
  {
   "cell_type": "code",
   "execution_count": 39,
   "metadata": {},
   "outputs": [
    {
     "data": {
      "application/vnd.microsoft.datawrangler.viewer.v0+json": {
       "columns": [
        {
         "name": "index",
         "rawType": "datetime64[ns]",
         "type": "datetime"
        },
        {
         "name": "A",
         "rawType": "float64",
         "type": "float"
        },
        {
         "name": "B",
         "rawType": "float64",
         "type": "float"
        },
        {
         "name": "C",
         "rawType": "float64",
         "type": "float"
        },
        {
         "name": "D",
         "rawType": "float64",
         "type": "float"
        },
        {
         "name": "E",
         "rawType": "float64",
         "type": "float"
        }
       ],
       "conversionMethod": "pd.DataFrame",
       "ref": "d7b3bb2f-5f8f-444e-aec2-6135a2866742",
       "rows": [
        [
         "2013-01-01 00:00:00",
         "-0.5205852732718299",
         "0.4815360829232921",
         "-0.35133101193437777",
         "-1.3624963276799422",
         "1.0"
        ],
        [
         "2013-01-02 00:00:00",
         "0.31290141255201953",
         "1.5071856526966947",
         "-0.6520966369966343",
         "1.1377911163510388",
         "1.0"
        ]
       ],
       "shape": {
        "columns": 5,
        "rows": 2
       }
      },
      "text/html": [
       "<div>\n",
       "<style scoped>\n",
       "    .dataframe tbody tr th:only-of-type {\n",
       "        vertical-align: middle;\n",
       "    }\n",
       "\n",
       "    .dataframe tbody tr th {\n",
       "        vertical-align: top;\n",
       "    }\n",
       "\n",
       "    .dataframe thead th {\n",
       "        text-align: right;\n",
       "    }\n",
       "</style>\n",
       "<table border=\"1\" class=\"dataframe\">\n",
       "  <thead>\n",
       "    <tr style=\"text-align: right;\">\n",
       "      <th></th>\n",
       "      <th>A</th>\n",
       "      <th>B</th>\n",
       "      <th>C</th>\n",
       "      <th>D</th>\n",
       "      <th>E</th>\n",
       "    </tr>\n",
       "  </thead>\n",
       "  <tbody>\n",
       "    <tr>\n",
       "      <th>2013-01-01</th>\n",
       "      <td>-0.520585</td>\n",
       "      <td>0.481536</td>\n",
       "      <td>-0.351331</td>\n",
       "      <td>-1.362496</td>\n",
       "      <td>1.0</td>\n",
       "    </tr>\n",
       "    <tr>\n",
       "      <th>2013-01-02</th>\n",
       "      <td>0.312901</td>\n",
       "      <td>1.507186</td>\n",
       "      <td>-0.652097</td>\n",
       "      <td>1.137791</td>\n",
       "      <td>1.0</td>\n",
       "    </tr>\n",
       "  </tbody>\n",
       "</table>\n",
       "</div>"
      ],
      "text/plain": [
       "                   A         B         C         D    E\n",
       "2013-01-01 -0.520585  0.481536 -0.351331 -1.362496  1.0\n",
       "2013-01-02  0.312901  1.507186 -0.652097  1.137791  1.0"
      ]
     },
     "execution_count": 39,
     "metadata": {},
     "output_type": "execute_result"
    }
   ],
   "source": [
    "df1.dropna(how=\"any\")"
   ]
  },
  {
   "cell_type": "code",
   "execution_count": 40,
   "metadata": {},
   "outputs": [
    {
     "data": {
      "application/vnd.microsoft.datawrangler.viewer.v0+json": {
       "columns": [
        {
         "name": "index",
         "rawType": "datetime64[ns]",
         "type": "datetime"
        },
        {
         "name": "A",
         "rawType": "float64",
         "type": "float"
        },
        {
         "name": "B",
         "rawType": "float64",
         "type": "float"
        },
        {
         "name": "C",
         "rawType": "float64",
         "type": "float"
        },
        {
         "name": "D",
         "rawType": "float64",
         "type": "float"
        },
        {
         "name": "E",
         "rawType": "float64",
         "type": "float"
        }
       ],
       "conversionMethod": "pd.DataFrame",
       "ref": "091c9d4c-1bc7-42ca-a8d2-4227ee589925",
       "rows": [
        [
         "2013-01-01 00:00:00",
         "-0.5205852732718299",
         "0.4815360829232921",
         "-0.35133101193437777",
         "-1.3624963276799422",
         "1.0"
        ],
        [
         "2013-01-02 00:00:00",
         "0.31290141255201953",
         "1.5071856526966947",
         "-0.6520966369966343",
         "1.1377911163510388",
         "1.0"
        ],
        [
         "2013-01-03 00:00:00",
         "-0.8732381081808593",
         "-1.8934826986282343",
         "1.2248520088388752",
         "-0.11938683591256358",
         "5.0"
        ],
        [
         "2013-01-04 00:00:00",
         "-0.4886136463432409",
         "-0.17974915700475352",
         "0.023711560516200915",
         "1.1827113267177332",
         "5.0"
        ]
       ],
       "shape": {
        "columns": 5,
        "rows": 4
       }
      },
      "text/html": [
       "<div>\n",
       "<style scoped>\n",
       "    .dataframe tbody tr th:only-of-type {\n",
       "        vertical-align: middle;\n",
       "    }\n",
       "\n",
       "    .dataframe tbody tr th {\n",
       "        vertical-align: top;\n",
       "    }\n",
       "\n",
       "    .dataframe thead th {\n",
       "        text-align: right;\n",
       "    }\n",
       "</style>\n",
       "<table border=\"1\" class=\"dataframe\">\n",
       "  <thead>\n",
       "    <tr style=\"text-align: right;\">\n",
       "      <th></th>\n",
       "      <th>A</th>\n",
       "      <th>B</th>\n",
       "      <th>C</th>\n",
       "      <th>D</th>\n",
       "      <th>E</th>\n",
       "    </tr>\n",
       "  </thead>\n",
       "  <tbody>\n",
       "    <tr>\n",
       "      <th>2013-01-01</th>\n",
       "      <td>-0.520585</td>\n",
       "      <td>0.481536</td>\n",
       "      <td>-0.351331</td>\n",
       "      <td>-1.362496</td>\n",
       "      <td>1.0</td>\n",
       "    </tr>\n",
       "    <tr>\n",
       "      <th>2013-01-02</th>\n",
       "      <td>0.312901</td>\n",
       "      <td>1.507186</td>\n",
       "      <td>-0.652097</td>\n",
       "      <td>1.137791</td>\n",
       "      <td>1.0</td>\n",
       "    </tr>\n",
       "    <tr>\n",
       "      <th>2013-01-03</th>\n",
       "      <td>-0.873238</td>\n",
       "      <td>-1.893483</td>\n",
       "      <td>1.224852</td>\n",
       "      <td>-0.119387</td>\n",
       "      <td>5.0</td>\n",
       "    </tr>\n",
       "    <tr>\n",
       "      <th>2013-01-04</th>\n",
       "      <td>-0.488614</td>\n",
       "      <td>-0.179749</td>\n",
       "      <td>0.023712</td>\n",
       "      <td>1.182711</td>\n",
       "      <td>5.0</td>\n",
       "    </tr>\n",
       "  </tbody>\n",
       "</table>\n",
       "</div>"
      ],
      "text/plain": [
       "                   A         B         C         D    E\n",
       "2013-01-01 -0.520585  0.481536 -0.351331 -1.362496  1.0\n",
       "2013-01-02  0.312901  1.507186 -0.652097  1.137791  1.0\n",
       "2013-01-03 -0.873238 -1.893483  1.224852 -0.119387  5.0\n",
       "2013-01-04 -0.488614 -0.179749  0.023712  1.182711  5.0"
      ]
     },
     "execution_count": 40,
     "metadata": {},
     "output_type": "execute_result"
    }
   ],
   "source": [
    "df1.fillna(value=5)"
   ]
  },
  {
   "cell_type": "code",
   "execution_count": 41,
   "metadata": {},
   "outputs": [
    {
     "data": {
      "application/vnd.microsoft.datawrangler.viewer.v0+json": {
       "columns": [
        {
         "name": "index",
         "rawType": "datetime64[ns]",
         "type": "datetime"
        },
        {
         "name": "A",
         "rawType": "bool",
         "type": "boolean"
        },
        {
         "name": "B",
         "rawType": "bool",
         "type": "boolean"
        },
        {
         "name": "C",
         "rawType": "bool",
         "type": "boolean"
        },
        {
         "name": "D",
         "rawType": "bool",
         "type": "boolean"
        },
        {
         "name": "E",
         "rawType": "bool",
         "type": "boolean"
        }
       ],
       "conversionMethod": "pd.DataFrame",
       "ref": "8c46c09e-e474-4b2d-bf4b-3183e0bcd89c",
       "rows": [
        [
         "2013-01-01 00:00:00",
         "False",
         "False",
         "False",
         "False",
         "False"
        ],
        [
         "2013-01-02 00:00:00",
         "False",
         "False",
         "False",
         "False",
         "False"
        ],
        [
         "2013-01-03 00:00:00",
         "False",
         "False",
         "False",
         "False",
         "True"
        ],
        [
         "2013-01-04 00:00:00",
         "False",
         "False",
         "False",
         "False",
         "True"
        ]
       ],
       "shape": {
        "columns": 5,
        "rows": 4
       }
      },
      "text/html": [
       "<div>\n",
       "<style scoped>\n",
       "    .dataframe tbody tr th:only-of-type {\n",
       "        vertical-align: middle;\n",
       "    }\n",
       "\n",
       "    .dataframe tbody tr th {\n",
       "        vertical-align: top;\n",
       "    }\n",
       "\n",
       "    .dataframe thead th {\n",
       "        text-align: right;\n",
       "    }\n",
       "</style>\n",
       "<table border=\"1\" class=\"dataframe\">\n",
       "  <thead>\n",
       "    <tr style=\"text-align: right;\">\n",
       "      <th></th>\n",
       "      <th>A</th>\n",
       "      <th>B</th>\n",
       "      <th>C</th>\n",
       "      <th>D</th>\n",
       "      <th>E</th>\n",
       "    </tr>\n",
       "  </thead>\n",
       "  <tbody>\n",
       "    <tr>\n",
       "      <th>2013-01-01</th>\n",
       "      <td>False</td>\n",
       "      <td>False</td>\n",
       "      <td>False</td>\n",
       "      <td>False</td>\n",
       "      <td>False</td>\n",
       "    </tr>\n",
       "    <tr>\n",
       "      <th>2013-01-02</th>\n",
       "      <td>False</td>\n",
       "      <td>False</td>\n",
       "      <td>False</td>\n",
       "      <td>False</td>\n",
       "      <td>False</td>\n",
       "    </tr>\n",
       "    <tr>\n",
       "      <th>2013-01-03</th>\n",
       "      <td>False</td>\n",
       "      <td>False</td>\n",
       "      <td>False</td>\n",
       "      <td>False</td>\n",
       "      <td>True</td>\n",
       "    </tr>\n",
       "    <tr>\n",
       "      <th>2013-01-04</th>\n",
       "      <td>False</td>\n",
       "      <td>False</td>\n",
       "      <td>False</td>\n",
       "      <td>False</td>\n",
       "      <td>True</td>\n",
       "    </tr>\n",
       "  </tbody>\n",
       "</table>\n",
       "</div>"
      ],
      "text/plain": [
       "                A      B      C      D      E\n",
       "2013-01-01  False  False  False  False  False\n",
       "2013-01-02  False  False  False  False  False\n",
       "2013-01-03  False  False  False  False   True\n",
       "2013-01-04  False  False  False  False   True"
      ]
     },
     "execution_count": 41,
     "metadata": {},
     "output_type": "execute_result"
    }
   ],
   "source": [
    "pd.isna(df1)"
   ]
  },
  {
   "cell_type": "markdown",
   "metadata": {},
   "source": [
    "## 运算\n",
    "\n",
    "pandas 支持类似 numpy 的各类算术运算，且会自动对齐不同索引。"
   ]
  },
  {
   "cell_type": "code",
   "execution_count": 42,
   "metadata": {},
   "outputs": [
    {
     "data": {
      "text/plain": [
       "A   -0.265062\n",
       "B   -0.129381\n",
       "C    0.245004\n",
       "D   -0.157499\n",
       "dtype: float64"
      ]
     },
     "execution_count": 42,
     "metadata": {},
     "output_type": "execute_result"
    }
   ],
   "source": [
    "df.mean()"
   ]
  },
  {
   "cell_type": "code",
   "execution_count": 43,
   "metadata": {},
   "outputs": [
    {
     "data": {
      "text/plain": [
       "2013-01-01   -0.438219\n",
       "2013-01-02    0.576445\n",
       "2013-01-03   -0.415314\n",
       "2013-01-04    0.134515\n",
       "2013-01-05   -0.094017\n",
       "2013-01-06   -0.223817\n",
       "Freq: D, dtype: float64"
      ]
     },
     "execution_count": 43,
     "metadata": {},
     "output_type": "execute_result"
    }
   ],
   "source": [
    "df.mean(axis=1)"
   ]
  },
  {
   "cell_type": "code",
   "execution_count": 44,
   "metadata": {},
   "outputs": [
    {
     "data": {
      "application/vnd.microsoft.datawrangler.viewer.v0+json": {
       "columns": [
        {
         "name": "index",
         "rawType": "datetime64[ns]",
         "type": "datetime"
        },
        {
         "name": "A",
         "rawType": "float64",
         "type": "float"
        },
        {
         "name": "B",
         "rawType": "float64",
         "type": "float"
        },
        {
         "name": "C",
         "rawType": "float64",
         "type": "float"
        },
        {
         "name": "D",
         "rawType": "float64",
         "type": "float"
        }
       ],
       "conversionMethod": "pd.DataFrame",
       "ref": "67156f60-72be-4be5-a9fb-bfd44f88dd87",
       "rows": [
        [
         "2013-01-01 00:00:00",
         null,
         null,
         null,
         null
        ],
        [
         "2013-01-02 00:00:00",
         null,
         null,
         null,
         null
        ],
        [
         "2013-01-03 00:00:00",
         "-1.8732381081808593",
         "-2.893482698628234",
         "0.22485200883887524",
         "-1.1193868359125636"
        ],
        [
         "2013-01-04 00:00:00",
         "-3.488613646343241",
         "-3.1797491570047534",
         "-2.976288439483799",
         "-1.8172886732822668"
        ],
        [
         "2013-01-05 00:00:00",
         "-4.762844863389335",
         "-4.290231759083481",
         "-5.467694068230663",
         "-5.855295801907677"
        ],
        [
         "2013-01-06 00:00:00",
         null,
         null,
         null,
         null
        ]
       ],
       "shape": {
        "columns": 4,
        "rows": 6
       }
      },
      "text/html": [
       "<div>\n",
       "<style scoped>\n",
       "    .dataframe tbody tr th:only-of-type {\n",
       "        vertical-align: middle;\n",
       "    }\n",
       "\n",
       "    .dataframe tbody tr th {\n",
       "        vertical-align: top;\n",
       "    }\n",
       "\n",
       "    .dataframe thead th {\n",
       "        text-align: right;\n",
       "    }\n",
       "</style>\n",
       "<table border=\"1\" class=\"dataframe\">\n",
       "  <thead>\n",
       "    <tr style=\"text-align: right;\">\n",
       "      <th></th>\n",
       "      <th>A</th>\n",
       "      <th>B</th>\n",
       "      <th>C</th>\n",
       "      <th>D</th>\n",
       "    </tr>\n",
       "  </thead>\n",
       "  <tbody>\n",
       "    <tr>\n",
       "      <th>2013-01-01</th>\n",
       "      <td>NaN</td>\n",
       "      <td>NaN</td>\n",
       "      <td>NaN</td>\n",
       "      <td>NaN</td>\n",
       "    </tr>\n",
       "    <tr>\n",
       "      <th>2013-01-02</th>\n",
       "      <td>NaN</td>\n",
       "      <td>NaN</td>\n",
       "      <td>NaN</td>\n",
       "      <td>NaN</td>\n",
       "    </tr>\n",
       "    <tr>\n",
       "      <th>2013-01-03</th>\n",
       "      <td>-1.873238</td>\n",
       "      <td>-2.893483</td>\n",
       "      <td>0.224852</td>\n",
       "      <td>-1.119387</td>\n",
       "    </tr>\n",
       "    <tr>\n",
       "      <th>2013-01-04</th>\n",
       "      <td>-3.488614</td>\n",
       "      <td>-3.179749</td>\n",
       "      <td>-2.976288</td>\n",
       "      <td>-1.817289</td>\n",
       "    </tr>\n",
       "    <tr>\n",
       "      <th>2013-01-05</th>\n",
       "      <td>-4.762845</td>\n",
       "      <td>-4.290232</td>\n",
       "      <td>-5.467694</td>\n",
       "      <td>-5.855296</td>\n",
       "    </tr>\n",
       "    <tr>\n",
       "      <th>2013-01-06</th>\n",
       "      <td>NaN</td>\n",
       "      <td>NaN</td>\n",
       "      <td>NaN</td>\n",
       "      <td>NaN</td>\n",
       "    </tr>\n",
       "  </tbody>\n",
       "</table>\n",
       "</div>"
      ],
      "text/plain": [
       "                   A         B         C         D\n",
       "2013-01-01       NaN       NaN       NaN       NaN\n",
       "2013-01-02       NaN       NaN       NaN       NaN\n",
       "2013-01-03 -1.873238 -2.893483  0.224852 -1.119387\n",
       "2013-01-04 -3.488614 -3.179749 -2.976288 -1.817289\n",
       "2013-01-05 -4.762845 -4.290232 -5.467694 -5.855296\n",
       "2013-01-06       NaN       NaN       NaN       NaN"
      ]
     },
     "execution_count": 44,
     "metadata": {},
     "output_type": "execute_result"
    }
   ],
   "source": [
    "s = pd.Series([1, 3, 5, np.nan, 6, 8], index=dates).shift(2)\n",
    "df.sub(s, axis=\"index\")"
   ]
  },
  {
   "cell_type": "markdown",
   "metadata": {},
   "source": [
    "## Apply 方法\n",
    "- 自定义函数应用于行或列"
   ]
  },
  {
   "cell_type": "code",
   "execution_count": 45,
   "metadata": {},
   "outputs": [
    {
     "data": {
      "application/vnd.microsoft.datawrangler.viewer.v0+json": {
       "columns": [
        {
         "name": "index",
         "rawType": "datetime64[ns]",
         "type": "datetime"
        },
        {
         "name": "A",
         "rawType": "float64",
         "type": "float"
        },
        {
         "name": "B",
         "rawType": "float64",
         "type": "float"
        },
        {
         "name": "C",
         "rawType": "float64",
         "type": "float"
        },
        {
         "name": "D",
         "rawType": "float64",
         "type": "float"
        }
       ],
       "conversionMethod": "pd.DataFrame",
       "ref": "ad73f2bb-ae2b-468e-b7eb-5e34ae7b0b9a",
       "rows": [
        [
         "2013-01-01 00:00:00",
         "-0.5205852732718299",
         "0.4815360829232921",
         "-0.35133101193437777",
         "-1.3624963276799422"
        ],
        [
         "2013-01-02 00:00:00",
         "-0.20768386071981038",
         "1.9887217356199867",
         "-1.003427648931012",
         "-0.22470521132890342"
        ],
        [
         "2013-01-03 00:00:00",
         "-1.0809219689006697",
         "0.0952390369917524",
         "0.22142435990786313",
         "-0.344092047241467"
        ],
        [
         "2013-01-04 00:00:00",
         "-1.5695356152439106",
         "-0.08451012001300112",
         "0.24513592042406404",
         "0.8386192794762661"
        ],
        [
         "2013-01-05 00:00:00",
         "-1.332380478633246",
         "0.6252581209035177",
         "-0.2225581478065987",
         "-0.016676522431410934"
        ],
        [
         "2013-01-06 00:00:00",
         "-1.5903698321618518",
         "-0.7762877890850364",
         "1.4700261309358351",
         "-0.9449944084918346"
        ]
       ],
       "shape": {
        "columns": 4,
        "rows": 6
       }
      },
      "text/html": [
       "<div>\n",
       "<style scoped>\n",
       "    .dataframe tbody tr th:only-of-type {\n",
       "        vertical-align: middle;\n",
       "    }\n",
       "\n",
       "    .dataframe tbody tr th {\n",
       "        vertical-align: top;\n",
       "    }\n",
       "\n",
       "    .dataframe thead th {\n",
       "        text-align: right;\n",
       "    }\n",
       "</style>\n",
       "<table border=\"1\" class=\"dataframe\">\n",
       "  <thead>\n",
       "    <tr style=\"text-align: right;\">\n",
       "      <th></th>\n",
       "      <th>A</th>\n",
       "      <th>B</th>\n",
       "      <th>C</th>\n",
       "      <th>D</th>\n",
       "    </tr>\n",
       "  </thead>\n",
       "  <tbody>\n",
       "    <tr>\n",
       "      <th>2013-01-01</th>\n",
       "      <td>-0.520585</td>\n",
       "      <td>0.481536</td>\n",
       "      <td>-0.351331</td>\n",
       "      <td>-1.362496</td>\n",
       "    </tr>\n",
       "    <tr>\n",
       "      <th>2013-01-02</th>\n",
       "      <td>-0.207684</td>\n",
       "      <td>1.988722</td>\n",
       "      <td>-1.003428</td>\n",
       "      <td>-0.224705</td>\n",
       "    </tr>\n",
       "    <tr>\n",
       "      <th>2013-01-03</th>\n",
       "      <td>-1.080922</td>\n",
       "      <td>0.095239</td>\n",
       "      <td>0.221424</td>\n",
       "      <td>-0.344092</td>\n",
       "    </tr>\n",
       "    <tr>\n",
       "      <th>2013-01-04</th>\n",
       "      <td>-1.569536</td>\n",
       "      <td>-0.084510</td>\n",
       "      <td>0.245136</td>\n",
       "      <td>0.838619</td>\n",
       "    </tr>\n",
       "    <tr>\n",
       "      <th>2013-01-05</th>\n",
       "      <td>-1.332380</td>\n",
       "      <td>0.625258</td>\n",
       "      <td>-0.222558</td>\n",
       "      <td>-0.016677</td>\n",
       "    </tr>\n",
       "    <tr>\n",
       "      <th>2013-01-06</th>\n",
       "      <td>-1.590370</td>\n",
       "      <td>-0.776288</td>\n",
       "      <td>1.470026</td>\n",
       "      <td>-0.944994</td>\n",
       "    </tr>\n",
       "  </tbody>\n",
       "</table>\n",
       "</div>"
      ],
      "text/plain": [
       "                   A         B         C         D\n",
       "2013-01-01 -0.520585  0.481536 -0.351331 -1.362496\n",
       "2013-01-02 -0.207684  1.988722 -1.003428 -0.224705\n",
       "2013-01-03 -1.080922  0.095239  0.221424 -0.344092\n",
       "2013-01-04 -1.569536 -0.084510  0.245136  0.838619\n",
       "2013-01-05 -1.332380  0.625258 -0.222558 -0.016677\n",
       "2013-01-06 -1.590370 -0.776288  1.470026 -0.944994"
      ]
     },
     "execution_count": 45,
     "metadata": {},
     "output_type": "execute_result"
    }
   ],
   "source": [
    "df.apply(np.cumsum)"
   ]
  },
  {
   "cell_type": "code",
   "execution_count": 46,
   "metadata": {},
   "outputs": [
    {
     "data": {
      "text/plain": [
       "A    1.186140\n",
       "B    3.400668\n",
       "C    2.344681\n",
       "D    2.545208\n",
       "dtype: float64"
      ]
     },
     "execution_count": 46,
     "metadata": {},
     "output_type": "execute_result"
    }
   ],
   "source": [
    "df.apply(lambda x: x.max() - x.min())"
   ]
  },
  {
   "cell_type": "markdown",
   "metadata": {},
   "source": [
    "## 直方图统计"
   ]
  },
  {
   "cell_type": "code",
   "execution_count": 47,
   "metadata": {},
   "outputs": [
    {
     "data": {
      "text/plain": [
       "6    5\n",
       "5    2\n",
       "3    1\n",
       "1    1\n",
       "4    1\n",
       "Name: count, dtype: int64"
      ]
     },
     "execution_count": 47,
     "metadata": {},
     "output_type": "execute_result"
    }
   ],
   "source": [
    "s = pd.Series(np.random.randint(0, 7, size=10))\n",
    "s.value_counts()"
   ]
  },
  {
   "cell_type": "markdown",
   "metadata": {},
   "source": [
    "## 字符串方法\n",
    "- Series 字符串方法自动适配缺失值。"
   ]
  },
  {
   "cell_type": "code",
   "execution_count": 48,
   "metadata": {},
   "outputs": [
    {
     "data": {
      "text/plain": [
       "0       a\n",
       "1       b\n",
       "2       c\n",
       "3    aaba\n",
       "4    baca\n",
       "5     NaN\n",
       "6    caba\n",
       "7     dog\n",
       "8     cat\n",
       "dtype: object"
      ]
     },
     "execution_count": 48,
     "metadata": {},
     "output_type": "execute_result"
    }
   ],
   "source": [
    "s = pd.Series([\"A\", \"B\", \"C\", \"Aaba\", \"Baca\", np.nan, \"CABA\", \"dog\", \"cat\"])\n",
    "s.str.lower()"
   ]
  },
  {
   "cell_type": "markdown",
   "metadata": {},
   "source": [
    "## 合并\n",
    "### 拼接"
   ]
  },
  {
   "cell_type": "code",
   "execution_count": 49,
   "metadata": {},
   "outputs": [
    {
     "data": {
      "application/vnd.microsoft.datawrangler.viewer.v0+json": {
       "columns": [
        {
         "name": "index",
         "rawType": "int64",
         "type": "integer"
        },
        {
         "name": "0",
         "rawType": "float64",
         "type": "float"
        },
        {
         "name": "1",
         "rawType": "float64",
         "type": "float"
        },
        {
         "name": "2",
         "rawType": "float64",
         "type": "float"
        },
        {
         "name": "3",
         "rawType": "float64",
         "type": "float"
        }
       ],
       "conversionMethod": "pd.DataFrame",
       "ref": "2a7d4b39-93c2-4453-9a93-71623e31a4ac",
       "rows": [
        [
         "0",
         "0.14945138181630743",
         "-1.7164584997389327",
         "1.5409564438237895",
         "-1.4784376349647765"
        ],
        [
         "1",
         "-0.7885797903075372",
         "0.942534686641136",
         "0.8606951650671512",
         "1.2779736809460043"
        ],
        [
         "2",
         "1.5298429922028516",
         "0.97887271172906",
         "1.6817234161199903",
         "0.12800101170941383"
        ],
        [
         "3",
         "-1.0318909575715474",
         "-0.6456253171482867",
         "-0.10171399245493465",
         "-0.894796056111965"
        ],
        [
         "4",
         "-1.341018509036168",
         "-0.40003887191127174",
         "0.2935918129345598",
         "-1.7549581860001462"
        ],
        [
         "5",
         "-0.018467463801415132",
         "-0.6881190692083392",
         "0.06359010842687338",
         "0.08166672933694535"
        ],
        [
         "6",
         "0.042298174984962494",
         "0.4335335724749969",
         "0.509930737965839",
         "0.7088507309202837"
        ],
        [
         "7",
         "0.6318391472056623",
         "1.985047190959302",
         "0.6120730864678515",
         "0.11406767614923181"
        ],
        [
         "8",
         "1.4334007226211234",
         "-0.6191463266564651",
         "1.5818603593297762",
         "-1.0310540224503577"
        ],
        [
         "9",
         "1.0296289115978585",
         "0.26689666572597187",
         "-0.6490118781541883",
         "0.4561471828298669"
        ]
       ],
       "shape": {
        "columns": 4,
        "rows": 10
       }
      },
      "text/html": [
       "<div>\n",
       "<style scoped>\n",
       "    .dataframe tbody tr th:only-of-type {\n",
       "        vertical-align: middle;\n",
       "    }\n",
       "\n",
       "    .dataframe tbody tr th {\n",
       "        vertical-align: top;\n",
       "    }\n",
       "\n",
       "    .dataframe thead th {\n",
       "        text-align: right;\n",
       "    }\n",
       "</style>\n",
       "<table border=\"1\" class=\"dataframe\">\n",
       "  <thead>\n",
       "    <tr style=\"text-align: right;\">\n",
       "      <th></th>\n",
       "      <th>0</th>\n",
       "      <th>1</th>\n",
       "      <th>2</th>\n",
       "      <th>3</th>\n",
       "    </tr>\n",
       "  </thead>\n",
       "  <tbody>\n",
       "    <tr>\n",
       "      <th>0</th>\n",
       "      <td>0.149451</td>\n",
       "      <td>-1.716458</td>\n",
       "      <td>1.540956</td>\n",
       "      <td>-1.478438</td>\n",
       "    </tr>\n",
       "    <tr>\n",
       "      <th>1</th>\n",
       "      <td>-0.788580</td>\n",
       "      <td>0.942535</td>\n",
       "      <td>0.860695</td>\n",
       "      <td>1.277974</td>\n",
       "    </tr>\n",
       "    <tr>\n",
       "      <th>2</th>\n",
       "      <td>1.529843</td>\n",
       "      <td>0.978873</td>\n",
       "      <td>1.681723</td>\n",
       "      <td>0.128001</td>\n",
       "    </tr>\n",
       "    <tr>\n",
       "      <th>3</th>\n",
       "      <td>-1.031891</td>\n",
       "      <td>-0.645625</td>\n",
       "      <td>-0.101714</td>\n",
       "      <td>-0.894796</td>\n",
       "    </tr>\n",
       "    <tr>\n",
       "      <th>4</th>\n",
       "      <td>-1.341019</td>\n",
       "      <td>-0.400039</td>\n",
       "      <td>0.293592</td>\n",
       "      <td>-1.754958</td>\n",
       "    </tr>\n",
       "    <tr>\n",
       "      <th>5</th>\n",
       "      <td>-0.018467</td>\n",
       "      <td>-0.688119</td>\n",
       "      <td>0.063590</td>\n",
       "      <td>0.081667</td>\n",
       "    </tr>\n",
       "    <tr>\n",
       "      <th>6</th>\n",
       "      <td>0.042298</td>\n",
       "      <td>0.433534</td>\n",
       "      <td>0.509931</td>\n",
       "      <td>0.708851</td>\n",
       "    </tr>\n",
       "    <tr>\n",
       "      <th>7</th>\n",
       "      <td>0.631839</td>\n",
       "      <td>1.985047</td>\n",
       "      <td>0.612073</td>\n",
       "      <td>0.114068</td>\n",
       "    </tr>\n",
       "    <tr>\n",
       "      <th>8</th>\n",
       "      <td>1.433401</td>\n",
       "      <td>-0.619146</td>\n",
       "      <td>1.581860</td>\n",
       "      <td>-1.031054</td>\n",
       "    </tr>\n",
       "    <tr>\n",
       "      <th>9</th>\n",
       "      <td>1.029629</td>\n",
       "      <td>0.266897</td>\n",
       "      <td>-0.649012</td>\n",
       "      <td>0.456147</td>\n",
       "    </tr>\n",
       "  </tbody>\n",
       "</table>\n",
       "</div>"
      ],
      "text/plain": [
       "          0         1         2         3\n",
       "0  0.149451 -1.716458  1.540956 -1.478438\n",
       "1 -0.788580  0.942535  0.860695  1.277974\n",
       "2  1.529843  0.978873  1.681723  0.128001\n",
       "3 -1.031891 -0.645625 -0.101714 -0.894796\n",
       "4 -1.341019 -0.400039  0.293592 -1.754958\n",
       "5 -0.018467 -0.688119  0.063590  0.081667\n",
       "6  0.042298  0.433534  0.509931  0.708851\n",
       "7  0.631839  1.985047  0.612073  0.114068\n",
       "8  1.433401 -0.619146  1.581860 -1.031054\n",
       "9  1.029629  0.266897 -0.649012  0.456147"
      ]
     },
     "execution_count": 49,
     "metadata": {},
     "output_type": "execute_result"
    }
   ],
   "source": [
    "df = pd.DataFrame(np.random.randn(10, 4))\n",
    "pieces = [df[:3], df[3:7], df[7:]]\n",
    "pd.concat(pieces)"
   ]
  },
  {
   "cell_type": "markdown",
   "metadata": {},
   "source": [
    "### merge（类似 SQL join）"
   ]
  },
  {
   "cell_type": "code",
   "execution_count": 50,
   "metadata": {},
   "outputs": [
    {
     "data": {
      "application/vnd.microsoft.datawrangler.viewer.v0+json": {
       "columns": [
        {
         "name": "index",
         "rawType": "int64",
         "type": "integer"
        },
        {
         "name": "key",
         "rawType": "object",
         "type": "string"
        },
        {
         "name": "lval",
         "rawType": "int64",
         "type": "integer"
        },
        {
         "name": "rval",
         "rawType": "int64",
         "type": "integer"
        }
       ],
       "conversionMethod": "pd.DataFrame",
       "ref": "1907087a-258d-4135-836b-77c1c7fbf075",
       "rows": [
        [
         "0",
         "foo",
         "1",
         "4"
        ],
        [
         "1",
         "bar",
         "2",
         "5"
        ]
       ],
       "shape": {
        "columns": 3,
        "rows": 2
       }
      },
      "text/html": [
       "<div>\n",
       "<style scoped>\n",
       "    .dataframe tbody tr th:only-of-type {\n",
       "        vertical-align: middle;\n",
       "    }\n",
       "\n",
       "    .dataframe tbody tr th {\n",
       "        vertical-align: top;\n",
       "    }\n",
       "\n",
       "    .dataframe thead th {\n",
       "        text-align: right;\n",
       "    }\n",
       "</style>\n",
       "<table border=\"1\" class=\"dataframe\">\n",
       "  <thead>\n",
       "    <tr style=\"text-align: right;\">\n",
       "      <th></th>\n",
       "      <th>key</th>\n",
       "      <th>lval</th>\n",
       "      <th>rval</th>\n",
       "    </tr>\n",
       "  </thead>\n",
       "  <tbody>\n",
       "    <tr>\n",
       "      <th>0</th>\n",
       "      <td>foo</td>\n",
       "      <td>1</td>\n",
       "      <td>4</td>\n",
       "    </tr>\n",
       "    <tr>\n",
       "      <th>1</th>\n",
       "      <td>bar</td>\n",
       "      <td>2</td>\n",
       "      <td>5</td>\n",
       "    </tr>\n",
       "  </tbody>\n",
       "</table>\n",
       "</div>"
      ],
      "text/plain": [
       "   key  lval  rval\n",
       "0  foo     1     4\n",
       "1  bar     2     5"
      ]
     },
     "execution_count": 50,
     "metadata": {},
     "output_type": "execute_result"
    }
   ],
   "source": [
    "left = pd.DataFrame({'key': ['foo', 'bar'], 'lval': [1, 2]})\n",
    "right = pd.DataFrame({'key': ['foo', 'bar'], 'rval': [4, 5]})\n",
    "pd.merge(left, right, on='key')"
   ]
  },
  {
   "cell_type": "markdown",
   "metadata": {},
   "source": [
    "## 分组 groupby\n",
    "- split-apply-combine\n",
    "- 统计、聚合、转换"
   ]
  },
  {
   "cell_type": "code",
   "execution_count": 51,
   "metadata": {},
   "outputs": [
    {
     "data": {
      "application/vnd.microsoft.datawrangler.viewer.v0+json": {
       "columns": [
        {
         "name": "A",
         "rawType": "object",
         "type": "string"
        },
        {
         "name": "B",
         "rawType": "object",
         "type": "string"
        },
        {
         "name": "C",
         "rawType": "float64",
         "type": "float"
        },
        {
         "name": "D",
         "rawType": "float64",
         "type": "float"
        }
       ],
       "conversionMethod": "pd.DataFrame",
       "ref": "3c41aa45-2888-42c8-875f-faa72951d821",
       "rows": [
        [
         "bar",
         "onethreetwo",
         "-2.5100371616360584",
         "1.4830459577884056"
        ],
        [
         "foo",
         "onetwotwoonethree",
         "2.9318268139194616",
         "-2.7113638873843184"
        ]
       ],
       "shape": {
        "columns": 3,
        "rows": 2
       }
      },
      "text/html": [
       "<div>\n",
       "<style scoped>\n",
       "    .dataframe tbody tr th:only-of-type {\n",
       "        vertical-align: middle;\n",
       "    }\n",
       "\n",
       "    .dataframe tbody tr th {\n",
       "        vertical-align: top;\n",
       "    }\n",
       "\n",
       "    .dataframe thead th {\n",
       "        text-align: right;\n",
       "    }\n",
       "</style>\n",
       "<table border=\"1\" class=\"dataframe\">\n",
       "  <thead>\n",
       "    <tr style=\"text-align: right;\">\n",
       "      <th></th>\n",
       "      <th>B</th>\n",
       "      <th>C</th>\n",
       "      <th>D</th>\n",
       "    </tr>\n",
       "    <tr>\n",
       "      <th>A</th>\n",
       "      <th></th>\n",
       "      <th></th>\n",
       "      <th></th>\n",
       "    </tr>\n",
       "  </thead>\n",
       "  <tbody>\n",
       "    <tr>\n",
       "      <th>bar</th>\n",
       "      <td>onethreetwo</td>\n",
       "      <td>-2.510037</td>\n",
       "      <td>1.483046</td>\n",
       "    </tr>\n",
       "    <tr>\n",
       "      <th>foo</th>\n",
       "      <td>onetwotwoonethree</td>\n",
       "      <td>2.931827</td>\n",
       "      <td>-2.711364</td>\n",
       "    </tr>\n",
       "  </tbody>\n",
       "</table>\n",
       "</div>"
      ],
      "text/plain": [
       "                     B         C         D\n",
       "A                                         \n",
       "bar        onethreetwo -2.510037  1.483046\n",
       "foo  onetwotwoonethree  2.931827 -2.711364"
      ]
     },
     "execution_count": 51,
     "metadata": {},
     "output_type": "execute_result"
    }
   ],
   "source": [
    "df = pd.DataFrame({\n",
    "    'A': ['foo', 'bar', 'foo', 'bar', 'foo', 'bar', 'foo', 'foo'],\n",
    "    'B': ['one', 'one', 'two', 'three', 'two', 'two', 'one', 'three'],\n",
    "    'C': np.random.randn(8),\n",
    "    'D': np.random.randn(8)\n",
    "})\n",
    "df.groupby('A').sum()"
   ]
  },
  {
   "cell_type": "code",
   "execution_count": 52,
   "metadata": {},
   "outputs": [
    {
     "data": {
      "application/vnd.microsoft.datawrangler.viewer.v0+json": {
       "columns": [
        {
         "name": "('A', 'B')",
         "rawType": "object",
         "type": "unknown"
        },
        {
         "name": "C",
         "rawType": "float64",
         "type": "float"
        },
        {
         "name": "D",
         "rawType": "float64",
         "type": "float"
        }
       ],
       "conversionMethod": "pd.DataFrame",
       "ref": "317ceaf1-73cb-4e78-8f47-04188bff1c5f",
       "rows": [
        [
         "('bar', 'one')",
         "-1.2795618018736137",
         "-0.2430840273617765"
        ],
        [
         "('bar', 'three')",
         "-0.18392803650056613",
         "-0.6976825238254154"
        ],
        [
         "('bar', 'two')",
         "-1.0465473232618785",
         "2.4238125089755975"
        ],
        [
         "('foo', 'one')",
         "1.7354626774899158",
         "-3.0884981753771914"
        ],
        [
         "('foo', 'three')",
         "0.28913691941383163",
         "0.21536448168453806"
        ],
        [
         "('foo', 'two')",
         "0.9072272170157141",
         "0.1617698063083347"
        ]
       ],
       "shape": {
        "columns": 2,
        "rows": 6
       }
      },
      "text/html": [
       "<div>\n",
       "<style scoped>\n",
       "    .dataframe tbody tr th:only-of-type {\n",
       "        vertical-align: middle;\n",
       "    }\n",
       "\n",
       "    .dataframe tbody tr th {\n",
       "        vertical-align: top;\n",
       "    }\n",
       "\n",
       "    .dataframe thead th {\n",
       "        text-align: right;\n",
       "    }\n",
       "</style>\n",
       "<table border=\"1\" class=\"dataframe\">\n",
       "  <thead>\n",
       "    <tr style=\"text-align: right;\">\n",
       "      <th></th>\n",
       "      <th></th>\n",
       "      <th>C</th>\n",
       "      <th>D</th>\n",
       "    </tr>\n",
       "    <tr>\n",
       "      <th>A</th>\n",
       "      <th>B</th>\n",
       "      <th></th>\n",
       "      <th></th>\n",
       "    </tr>\n",
       "  </thead>\n",
       "  <tbody>\n",
       "    <tr>\n",
       "      <th rowspan=\"3\" valign=\"top\">bar</th>\n",
       "      <th>one</th>\n",
       "      <td>-1.279562</td>\n",
       "      <td>-0.243084</td>\n",
       "    </tr>\n",
       "    <tr>\n",
       "      <th>three</th>\n",
       "      <td>-0.183928</td>\n",
       "      <td>-0.697683</td>\n",
       "    </tr>\n",
       "    <tr>\n",
       "      <th>two</th>\n",
       "      <td>-1.046547</td>\n",
       "      <td>2.423813</td>\n",
       "    </tr>\n",
       "    <tr>\n",
       "      <th rowspan=\"3\" valign=\"top\">foo</th>\n",
       "      <th>one</th>\n",
       "      <td>1.735463</td>\n",
       "      <td>-3.088498</td>\n",
       "    </tr>\n",
       "    <tr>\n",
       "      <th>three</th>\n",
       "      <td>0.289137</td>\n",
       "      <td>0.215364</td>\n",
       "    </tr>\n",
       "    <tr>\n",
       "      <th>two</th>\n",
       "      <td>0.907227</td>\n",
       "      <td>0.161770</td>\n",
       "    </tr>\n",
       "  </tbody>\n",
       "</table>\n",
       "</div>"
      ],
      "text/plain": [
       "                  C         D\n",
       "A   B                        \n",
       "bar one   -1.279562 -0.243084\n",
       "    three -0.183928 -0.697683\n",
       "    two   -1.046547  2.423813\n",
       "foo one    1.735463 -3.088498\n",
       "    three  0.289137  0.215364\n",
       "    two    0.907227  0.161770"
      ]
     },
     "execution_count": 52,
     "metadata": {},
     "output_type": "execute_result"
    }
   ],
   "source": [
    "df.groupby(['A', 'B']).sum()"
   ]
  },
  {
   "cell_type": "markdown",
   "metadata": {},
   "source": [
    "## Reshaping\n",
    "- Stack/unstack\n",
    "- Pivot tables"
   ]
  },
  {
   "cell_type": "code",
   "execution_count": 53,
   "metadata": {},
   "outputs": [
    {
     "data": {
      "application/vnd.microsoft.datawrangler.viewer.v0+json": {
       "columns": [
        {
         "name": "('first', 'second')",
         "rawType": "object",
         "type": "unknown"
        },
        {
         "name": "A",
         "rawType": "float64",
         "type": "float"
        },
        {
         "name": "B",
         "rawType": "float64",
         "type": "float"
        }
       ],
       "conversionMethod": "pd.DataFrame",
       "ref": "888145e4-e62e-4ede-a847-c9c2517ef5b9",
       "rows": [
        [
         "('bar', 'one')",
         "1.185040116608646",
         "0.7183647645536656"
        ],
        [
         "('bar', 'two')",
         "0.6807315298261842",
         "0.05823459653948315"
        ],
        [
         "('baz', 'one')",
         "1.726561599756148",
         "-0.8286230811997637"
        ],
        [
         "('baz', 'two')",
         "-0.3623604467612724",
         "0.7160457323698026"
        ]
       ],
       "shape": {
        "columns": 2,
        "rows": 4
       }
      },
      "text/html": [
       "<div>\n",
       "<style scoped>\n",
       "    .dataframe tbody tr th:only-of-type {\n",
       "        vertical-align: middle;\n",
       "    }\n",
       "\n",
       "    .dataframe tbody tr th {\n",
       "        vertical-align: top;\n",
       "    }\n",
       "\n",
       "    .dataframe thead th {\n",
       "        text-align: right;\n",
       "    }\n",
       "</style>\n",
       "<table border=\"1\" class=\"dataframe\">\n",
       "  <thead>\n",
       "    <tr style=\"text-align: right;\">\n",
       "      <th></th>\n",
       "      <th></th>\n",
       "      <th>A</th>\n",
       "      <th>B</th>\n",
       "    </tr>\n",
       "    <tr>\n",
       "      <th>first</th>\n",
       "      <th>second</th>\n",
       "      <th></th>\n",
       "      <th></th>\n",
       "    </tr>\n",
       "  </thead>\n",
       "  <tbody>\n",
       "    <tr>\n",
       "      <th rowspan=\"2\" valign=\"top\">bar</th>\n",
       "      <th>one</th>\n",
       "      <td>1.185040</td>\n",
       "      <td>0.718365</td>\n",
       "    </tr>\n",
       "    <tr>\n",
       "      <th>two</th>\n",
       "      <td>0.680732</td>\n",
       "      <td>0.058235</td>\n",
       "    </tr>\n",
       "    <tr>\n",
       "      <th rowspan=\"2\" valign=\"top\">baz</th>\n",
       "      <th>one</th>\n",
       "      <td>1.726562</td>\n",
       "      <td>-0.828623</td>\n",
       "    </tr>\n",
       "    <tr>\n",
       "      <th>two</th>\n",
       "      <td>-0.362360</td>\n",
       "      <td>0.716046</td>\n",
       "    </tr>\n",
       "  </tbody>\n",
       "</table>\n",
       "</div>"
      ],
      "text/plain": [
       "                     A         B\n",
       "first second                    \n",
       "bar   one     1.185040  0.718365\n",
       "      two     0.680732  0.058235\n",
       "baz   one     1.726562 -0.828623\n",
       "      two    -0.362360  0.716046"
      ]
     },
     "execution_count": 53,
     "metadata": {},
     "output_type": "execute_result"
    }
   ],
   "source": [
    "tuples = list(zip(*[['bar', 'bar', 'baz', 'baz',\n",
    "                    'foo', 'foo', 'qux', 'qux'],\n",
    "                   ['one', 'two', 'one', 'two',\n",
    "                    'one', 'two', 'one', 'two']]))\n",
    "index = pd.MultiIndex.from_tuples(tuples, names=['first', 'second'])\n",
    "df = pd.DataFrame(np.random.randn(8, 2), index=index, columns=['A', 'B'])\n",
    "df2 = df[:4]\n",
    "df2"
   ]
  },
  {
   "cell_type": "code",
   "execution_count": 54,
   "metadata": {},
   "outputs": [
    {
     "data": {
      "text/plain": [
       "first  second   \n",
       "bar    one     A    1.185040\n",
       "               B    0.718365\n",
       "       two     A    0.680732\n",
       "               B    0.058235\n",
       "baz    one     A    1.726562\n",
       "               B   -0.828623\n",
       "       two     A   -0.362360\n",
       "               B    0.716046\n",
       "dtype: float64"
      ]
     },
     "execution_count": 54,
     "metadata": {},
     "output_type": "execute_result"
    }
   ],
   "source": [
    "stacked = df2.stack()\n",
    "stacked"
   ]
  },
  {
   "cell_type": "code",
   "execution_count": 55,
   "metadata": {},
   "outputs": [
    {
     "data": {
      "application/vnd.microsoft.datawrangler.viewer.v0+json": {
       "columns": [
        {
         "name": "('first', 'second')",
         "rawType": "object",
         "type": "unknown"
        },
        {
         "name": "A",
         "rawType": "float64",
         "type": "float"
        },
        {
         "name": "B",
         "rawType": "float64",
         "type": "float"
        }
       ],
       "conversionMethod": "pd.DataFrame",
       "ref": "0d7edaf4-2817-4ef3-9277-62f87646bfa8",
       "rows": [
        [
         "('bar', 'one')",
         "1.185040116608646",
         "0.7183647645536656"
        ],
        [
         "('bar', 'two')",
         "0.6807315298261842",
         "0.05823459653948315"
        ],
        [
         "('baz', 'one')",
         "1.726561599756148",
         "-0.8286230811997637"
        ],
        [
         "('baz', 'two')",
         "-0.3623604467612724",
         "0.7160457323698026"
        ]
       ],
       "shape": {
        "columns": 2,
        "rows": 4
       }
      },
      "text/html": [
       "<div>\n",
       "<style scoped>\n",
       "    .dataframe tbody tr th:only-of-type {\n",
       "        vertical-align: middle;\n",
       "    }\n",
       "\n",
       "    .dataframe tbody tr th {\n",
       "        vertical-align: top;\n",
       "    }\n",
       "\n",
       "    .dataframe thead th {\n",
       "        text-align: right;\n",
       "    }\n",
       "</style>\n",
       "<table border=\"1\" class=\"dataframe\">\n",
       "  <thead>\n",
       "    <tr style=\"text-align: right;\">\n",
       "      <th></th>\n",
       "      <th></th>\n",
       "      <th>A</th>\n",
       "      <th>B</th>\n",
       "    </tr>\n",
       "    <tr>\n",
       "      <th>first</th>\n",
       "      <th>second</th>\n",
       "      <th></th>\n",
       "      <th></th>\n",
       "    </tr>\n",
       "  </thead>\n",
       "  <tbody>\n",
       "    <tr>\n",
       "      <th rowspan=\"2\" valign=\"top\">bar</th>\n",
       "      <th>one</th>\n",
       "      <td>1.185040</td>\n",
       "      <td>0.718365</td>\n",
       "    </tr>\n",
       "    <tr>\n",
       "      <th>two</th>\n",
       "      <td>0.680732</td>\n",
       "      <td>0.058235</td>\n",
       "    </tr>\n",
       "    <tr>\n",
       "      <th rowspan=\"2\" valign=\"top\">baz</th>\n",
       "      <th>one</th>\n",
       "      <td>1.726562</td>\n",
       "      <td>-0.828623</td>\n",
       "    </tr>\n",
       "    <tr>\n",
       "      <th>two</th>\n",
       "      <td>-0.362360</td>\n",
       "      <td>0.716046</td>\n",
       "    </tr>\n",
       "  </tbody>\n",
       "</table>\n",
       "</div>"
      ],
      "text/plain": [
       "                     A         B\n",
       "first second                    \n",
       "bar   one     1.185040  0.718365\n",
       "      two     0.680732  0.058235\n",
       "baz   one     1.726562 -0.828623\n",
       "      two    -0.362360  0.716046"
      ]
     },
     "execution_count": 55,
     "metadata": {},
     "output_type": "execute_result"
    }
   ],
   "source": [
    "stacked.unstack()"
   ]
  },
  {
   "cell_type": "code",
   "execution_count": 56,
   "metadata": {},
   "outputs": [
    {
     "data": {
      "application/vnd.microsoft.datawrangler.viewer.v0+json": {
       "columns": [
        {
         "name": "('first', None)",
         "rawType": "object",
         "type": "unknown"
        },
        {
         "name": "one",
         "rawType": "float64",
         "type": "float"
        },
        {
         "name": "two",
         "rawType": "float64",
         "type": "float"
        }
       ],
       "conversionMethod": "pd.DataFrame",
       "ref": "e4f34f2a-d6b3-46a3-a53c-4af53d3a4aa7",
       "rows": [
        [
         "('bar', 'A')",
         "1.185040116608646",
         "0.6807315298261842"
        ],
        [
         "('bar', 'B')",
         "0.7183647645536656",
         "0.05823459653948315"
        ],
        [
         "('baz', 'A')",
         "1.726561599756148",
         "-0.3623604467612724"
        ],
        [
         "('baz', 'B')",
         "-0.8286230811997637",
         "0.7160457323698026"
        ]
       ],
       "shape": {
        "columns": 2,
        "rows": 4
       }
      },
      "text/html": [
       "<div>\n",
       "<style scoped>\n",
       "    .dataframe tbody tr th:only-of-type {\n",
       "        vertical-align: middle;\n",
       "    }\n",
       "\n",
       "    .dataframe tbody tr th {\n",
       "        vertical-align: top;\n",
       "    }\n",
       "\n",
       "    .dataframe thead th {\n",
       "        text-align: right;\n",
       "    }\n",
       "</style>\n",
       "<table border=\"1\" class=\"dataframe\">\n",
       "  <thead>\n",
       "    <tr style=\"text-align: right;\">\n",
       "      <th></th>\n",
       "      <th>second</th>\n",
       "      <th>one</th>\n",
       "      <th>two</th>\n",
       "    </tr>\n",
       "    <tr>\n",
       "      <th>first</th>\n",
       "      <th></th>\n",
       "      <th></th>\n",
       "      <th></th>\n",
       "    </tr>\n",
       "  </thead>\n",
       "  <tbody>\n",
       "    <tr>\n",
       "      <th rowspan=\"2\" valign=\"top\">bar</th>\n",
       "      <th>A</th>\n",
       "      <td>1.185040</td>\n",
       "      <td>0.680732</td>\n",
       "    </tr>\n",
       "    <tr>\n",
       "      <th>B</th>\n",
       "      <td>0.718365</td>\n",
       "      <td>0.058235</td>\n",
       "    </tr>\n",
       "    <tr>\n",
       "      <th rowspan=\"2\" valign=\"top\">baz</th>\n",
       "      <th>A</th>\n",
       "      <td>1.726562</td>\n",
       "      <td>-0.362360</td>\n",
       "    </tr>\n",
       "    <tr>\n",
       "      <th>B</th>\n",
       "      <td>-0.828623</td>\n",
       "      <td>0.716046</td>\n",
       "    </tr>\n",
       "  </tbody>\n",
       "</table>\n",
       "</div>"
      ],
      "text/plain": [
       "second        one       two\n",
       "first                      \n",
       "bar   A  1.185040  0.680732\n",
       "      B  0.718365  0.058235\n",
       "baz   A  1.726562 -0.362360\n",
       "      B -0.828623  0.716046"
      ]
     },
     "execution_count": 56,
     "metadata": {},
     "output_type": "execute_result"
    }
   ],
   "source": [
    "stacked.unstack(1)"
   ]
  },
  {
   "cell_type": "code",
   "execution_count": 57,
   "metadata": {},
   "outputs": [
    {
     "data": {
      "application/vnd.microsoft.datawrangler.viewer.v0+json": {
       "columns": [
        {
         "name": "('second', None)",
         "rawType": "object",
         "type": "unknown"
        },
        {
         "name": "bar",
         "rawType": "float64",
         "type": "float"
        },
        {
         "name": "baz",
         "rawType": "float64",
         "type": "float"
        }
       ],
       "conversionMethod": "pd.DataFrame",
       "ref": "a5d0c497-6715-4dc4-9b42-693e42690cea",
       "rows": [
        [
         "('one', 'A')",
         "1.185040116608646",
         "1.726561599756148"
        ],
        [
         "('one', 'B')",
         "0.7183647645536656",
         "-0.8286230811997637"
        ],
        [
         "('two', 'A')",
         "0.6807315298261842",
         "-0.3623604467612724"
        ],
        [
         "('two', 'B')",
         "0.05823459653948315",
         "0.7160457323698026"
        ]
       ],
       "shape": {
        "columns": 2,
        "rows": 4
       }
      },
      "text/html": [
       "<div>\n",
       "<style scoped>\n",
       "    .dataframe tbody tr th:only-of-type {\n",
       "        vertical-align: middle;\n",
       "    }\n",
       "\n",
       "    .dataframe tbody tr th {\n",
       "        vertical-align: top;\n",
       "    }\n",
       "\n",
       "    .dataframe thead th {\n",
       "        text-align: right;\n",
       "    }\n",
       "</style>\n",
       "<table border=\"1\" class=\"dataframe\">\n",
       "  <thead>\n",
       "    <tr style=\"text-align: right;\">\n",
       "      <th></th>\n",
       "      <th>first</th>\n",
       "      <th>bar</th>\n",
       "      <th>baz</th>\n",
       "    </tr>\n",
       "    <tr>\n",
       "      <th>second</th>\n",
       "      <th></th>\n",
       "      <th></th>\n",
       "      <th></th>\n",
       "    </tr>\n",
       "  </thead>\n",
       "  <tbody>\n",
       "    <tr>\n",
       "      <th rowspan=\"2\" valign=\"top\">one</th>\n",
       "      <th>A</th>\n",
       "      <td>1.185040</td>\n",
       "      <td>1.726562</td>\n",
       "    </tr>\n",
       "    <tr>\n",
       "      <th>B</th>\n",
       "      <td>0.718365</td>\n",
       "      <td>-0.828623</td>\n",
       "    </tr>\n",
       "    <tr>\n",
       "      <th rowspan=\"2\" valign=\"top\">two</th>\n",
       "      <th>A</th>\n",
       "      <td>0.680732</td>\n",
       "      <td>-0.362360</td>\n",
       "    </tr>\n",
       "    <tr>\n",
       "      <th>B</th>\n",
       "      <td>0.058235</td>\n",
       "      <td>0.716046</td>\n",
       "    </tr>\n",
       "  </tbody>\n",
       "</table>\n",
       "</div>"
      ],
      "text/plain": [
       "first          bar       baz\n",
       "second                      \n",
       "one    A  1.185040  1.726562\n",
       "       B  0.718365 -0.828623\n",
       "two    A  0.680732 -0.362360\n",
       "       B  0.058235  0.716046"
      ]
     },
     "execution_count": 57,
     "metadata": {},
     "output_type": "execute_result"
    }
   ],
   "source": [
    "stacked.unstack(0)"
   ]
  },
  {
   "cell_type": "markdown",
   "metadata": {},
   "source": [
    "### Pivot tables（透视表）"
   ]
  },
  {
   "cell_type": "code",
   "execution_count": 58,
   "metadata": {},
   "outputs": [
    {
     "data": {
      "application/vnd.microsoft.datawrangler.viewer.v0+json": {
       "columns": [
        {
         "name": "('A', 'B')",
         "rawType": "object",
         "type": "unknown"
        },
        {
         "name": "-1.269507318112262",
         "rawType": "float64",
         "type": "float"
        },
        {
         "name": "-1.1631118350307537",
         "rawType": "float64",
         "type": "float"
        },
        {
         "name": "-0.35963699822054274",
         "rawType": "float64",
         "type": "float"
        },
        {
         "name": "-0.3537968090151801",
         "rawType": "float64",
         "type": "float"
        },
        {
         "name": "-0.10090338047183472",
         "rawType": "float64",
         "type": "float"
        },
        {
         "name": "0.16222446336615207",
         "rawType": "float64",
         "type": "float"
        },
        {
         "name": "0.3853480965148795",
         "rawType": "float64",
         "type": "float"
        },
        {
         "name": "0.5047844778464187",
         "rawType": "float64",
         "type": "float"
        },
        {
         "name": "0.5385801065476161",
         "rawType": "float64",
         "type": "float"
        },
        {
         "name": "0.6479285171572883",
         "rawType": "float64",
         "type": "float"
        },
        {
         "name": "1.0902406750684441",
         "rawType": "float64",
         "type": "float"
        },
        {
         "name": "2.0175819275531297",
         "rawType": "float64",
         "type": "float"
        }
       ],
       "conversionMethod": "pd.DataFrame",
       "ref": "e22ca3ea-7bee-4ece-9695-940db8e00a0c",
       "rows": [
        [
         "('one', 'A')",
         null,
         null,
         "-0.3740130656572996",
         null,
         "0.19188547171741716",
         null,
         null,
         null,
         null,
         null,
         null,
         null
        ],
        [
         "('one', 'B')",
         null,
         null,
         null,
         null,
         null,
         null,
         "-0.8376639277422384",
         null,
         null,
         null,
         "-0.532230333913476",
         null
        ],
        [
         "('one', 'C')",
         "0.06950373857147187",
         null,
         null,
         null,
         null,
         null,
         null,
         null,
         "1.1842173620031344",
         null,
         null,
         null
        ],
        [
         "('three', 'A')",
         null,
         null,
         null,
         null,
         null,
         null,
         null,
         null,
         null,
         "0.025074851534782477",
         null,
         null
        ],
        [
         "('three', 'B')",
         null,
         null,
         null,
         null,
         null,
         null,
         null,
         "-0.05020864298763001",
         null,
         null,
         null,
         null
        ],
        [
         "('three', 'C')",
         null,
         null,
         null,
         null,
         null,
         "-0.8133970821452361",
         null,
         null,
         null,
         null,
         null,
         null
        ],
        [
         "('two', 'A')",
         null,
         null,
         null,
         null,
         null,
         null,
         null,
         null,
         null,
         null,
         null,
         "1.8817316581857308"
        ],
        [
         "('two', 'B')",
         null,
         "-1.0016135143283034",
         null,
         null,
         null,
         null,
         null,
         null,
         null,
         null,
         null,
         null
        ],
        [
         "('two', 'C')",
         null,
         null,
         null,
         "-0.216438154808356",
         null,
         null,
         null,
         null,
         null,
         null,
         null,
         null
        ]
       ],
       "shape": {
        "columns": 12,
        "rows": 9
       }
      },
      "text/html": [
       "<div>\n",
       "<style scoped>\n",
       "    .dataframe tbody tr th:only-of-type {\n",
       "        vertical-align: middle;\n",
       "    }\n",
       "\n",
       "    .dataframe tbody tr th {\n",
       "        vertical-align: top;\n",
       "    }\n",
       "\n",
       "    .dataframe thead th {\n",
       "        text-align: right;\n",
       "    }\n",
       "</style>\n",
       "<table border=\"1\" class=\"dataframe\">\n",
       "  <thead>\n",
       "    <tr style=\"text-align: right;\">\n",
       "      <th></th>\n",
       "      <th>C</th>\n",
       "      <th>-1.269507</th>\n",
       "      <th>-1.163112</th>\n",
       "      <th>-0.359637</th>\n",
       "      <th>-0.353797</th>\n",
       "      <th>-0.100903</th>\n",
       "      <th>0.162224</th>\n",
       "      <th>0.385348</th>\n",
       "      <th>0.504784</th>\n",
       "      <th>0.538580</th>\n",
       "      <th>0.647929</th>\n",
       "      <th>1.090241</th>\n",
       "      <th>2.017582</th>\n",
       "    </tr>\n",
       "    <tr>\n",
       "      <th>A</th>\n",
       "      <th>B</th>\n",
       "      <th></th>\n",
       "      <th></th>\n",
       "      <th></th>\n",
       "      <th></th>\n",
       "      <th></th>\n",
       "      <th></th>\n",
       "      <th></th>\n",
       "      <th></th>\n",
       "      <th></th>\n",
       "      <th></th>\n",
       "      <th></th>\n",
       "      <th></th>\n",
       "    </tr>\n",
       "  </thead>\n",
       "  <tbody>\n",
       "    <tr>\n",
       "      <th rowspan=\"3\" valign=\"top\">one</th>\n",
       "      <th>A</th>\n",
       "      <td>NaN</td>\n",
       "      <td>NaN</td>\n",
       "      <td>-0.374013</td>\n",
       "      <td>NaN</td>\n",
       "      <td>0.191885</td>\n",
       "      <td>NaN</td>\n",
       "      <td>NaN</td>\n",
       "      <td>NaN</td>\n",
       "      <td>NaN</td>\n",
       "      <td>NaN</td>\n",
       "      <td>NaN</td>\n",
       "      <td>NaN</td>\n",
       "    </tr>\n",
       "    <tr>\n",
       "      <th>B</th>\n",
       "      <td>NaN</td>\n",
       "      <td>NaN</td>\n",
       "      <td>NaN</td>\n",
       "      <td>NaN</td>\n",
       "      <td>NaN</td>\n",
       "      <td>NaN</td>\n",
       "      <td>-0.837664</td>\n",
       "      <td>NaN</td>\n",
       "      <td>NaN</td>\n",
       "      <td>NaN</td>\n",
       "      <td>-0.53223</td>\n",
       "      <td>NaN</td>\n",
       "    </tr>\n",
       "    <tr>\n",
       "      <th>C</th>\n",
       "      <td>0.069504</td>\n",
       "      <td>NaN</td>\n",
       "      <td>NaN</td>\n",
       "      <td>NaN</td>\n",
       "      <td>NaN</td>\n",
       "      <td>NaN</td>\n",
       "      <td>NaN</td>\n",
       "      <td>NaN</td>\n",
       "      <td>1.184217</td>\n",
       "      <td>NaN</td>\n",
       "      <td>NaN</td>\n",
       "      <td>NaN</td>\n",
       "    </tr>\n",
       "    <tr>\n",
       "      <th rowspan=\"3\" valign=\"top\">three</th>\n",
       "      <th>A</th>\n",
       "      <td>NaN</td>\n",
       "      <td>NaN</td>\n",
       "      <td>NaN</td>\n",
       "      <td>NaN</td>\n",
       "      <td>NaN</td>\n",
       "      <td>NaN</td>\n",
       "      <td>NaN</td>\n",
       "      <td>NaN</td>\n",
       "      <td>NaN</td>\n",
       "      <td>0.025075</td>\n",
       "      <td>NaN</td>\n",
       "      <td>NaN</td>\n",
       "    </tr>\n",
       "    <tr>\n",
       "      <th>B</th>\n",
       "      <td>NaN</td>\n",
       "      <td>NaN</td>\n",
       "      <td>NaN</td>\n",
       "      <td>NaN</td>\n",
       "      <td>NaN</td>\n",
       "      <td>NaN</td>\n",
       "      <td>NaN</td>\n",
       "      <td>-0.050209</td>\n",
       "      <td>NaN</td>\n",
       "      <td>NaN</td>\n",
       "      <td>NaN</td>\n",
       "      <td>NaN</td>\n",
       "    </tr>\n",
       "    <tr>\n",
       "      <th>C</th>\n",
       "      <td>NaN</td>\n",
       "      <td>NaN</td>\n",
       "      <td>NaN</td>\n",
       "      <td>NaN</td>\n",
       "      <td>NaN</td>\n",
       "      <td>-0.813397</td>\n",
       "      <td>NaN</td>\n",
       "      <td>NaN</td>\n",
       "      <td>NaN</td>\n",
       "      <td>NaN</td>\n",
       "      <td>NaN</td>\n",
       "      <td>NaN</td>\n",
       "    </tr>\n",
       "    <tr>\n",
       "      <th rowspan=\"3\" valign=\"top\">two</th>\n",
       "      <th>A</th>\n",
       "      <td>NaN</td>\n",
       "      <td>NaN</td>\n",
       "      <td>NaN</td>\n",
       "      <td>NaN</td>\n",
       "      <td>NaN</td>\n",
       "      <td>NaN</td>\n",
       "      <td>NaN</td>\n",
       "      <td>NaN</td>\n",
       "      <td>NaN</td>\n",
       "      <td>NaN</td>\n",
       "      <td>NaN</td>\n",
       "      <td>1.881732</td>\n",
       "    </tr>\n",
       "    <tr>\n",
       "      <th>B</th>\n",
       "      <td>NaN</td>\n",
       "      <td>-1.001614</td>\n",
       "      <td>NaN</td>\n",
       "      <td>NaN</td>\n",
       "      <td>NaN</td>\n",
       "      <td>NaN</td>\n",
       "      <td>NaN</td>\n",
       "      <td>NaN</td>\n",
       "      <td>NaN</td>\n",
       "      <td>NaN</td>\n",
       "      <td>NaN</td>\n",
       "      <td>NaN</td>\n",
       "    </tr>\n",
       "    <tr>\n",
       "      <th>C</th>\n",
       "      <td>NaN</td>\n",
       "      <td>NaN</td>\n",
       "      <td>NaN</td>\n",
       "      <td>-0.216438</td>\n",
       "      <td>NaN</td>\n",
       "      <td>NaN</td>\n",
       "      <td>NaN</td>\n",
       "      <td>NaN</td>\n",
       "      <td>NaN</td>\n",
       "      <td>NaN</td>\n",
       "      <td>NaN</td>\n",
       "      <td>NaN</td>\n",
       "    </tr>\n",
       "  </tbody>\n",
       "</table>\n",
       "</div>"
      ],
      "text/plain": [
       "C        -1.269507  -1.163112  -0.359637  -0.353797  -0.100903   0.162224  \\\n",
       "A     B                                                                     \n",
       "one   A        NaN        NaN  -0.374013        NaN   0.191885        NaN   \n",
       "      B        NaN        NaN        NaN        NaN        NaN        NaN   \n",
       "      C   0.069504        NaN        NaN        NaN        NaN        NaN   \n",
       "three A        NaN        NaN        NaN        NaN        NaN        NaN   \n",
       "      B        NaN        NaN        NaN        NaN        NaN        NaN   \n",
       "      C        NaN        NaN        NaN        NaN        NaN  -0.813397   \n",
       "two   A        NaN        NaN        NaN        NaN        NaN        NaN   \n",
       "      B        NaN  -1.001614        NaN        NaN        NaN        NaN   \n",
       "      C        NaN        NaN        NaN  -0.216438        NaN        NaN   \n",
       "\n",
       "C         0.385348   0.504784   0.538580   0.647929   1.090241   2.017582  \n",
       "A     B                                                                    \n",
       "one   A        NaN        NaN        NaN        NaN        NaN        NaN  \n",
       "      B  -0.837664        NaN        NaN        NaN   -0.53223        NaN  \n",
       "      C        NaN        NaN   1.184217        NaN        NaN        NaN  \n",
       "three A        NaN        NaN        NaN   0.025075        NaN        NaN  \n",
       "      B        NaN  -0.050209        NaN        NaN        NaN        NaN  \n",
       "      C        NaN        NaN        NaN        NaN        NaN        NaN  \n",
       "two   A        NaN        NaN        NaN        NaN        NaN   1.881732  \n",
       "      B        NaN        NaN        NaN        NaN        NaN        NaN  \n",
       "      C        NaN        NaN        NaN        NaN        NaN        NaN  "
      ]
     },
     "execution_count": 58,
     "metadata": {},
     "output_type": "execute_result"
    }
   ],
   "source": [
    "df = pd.DataFrame({\n",
    "    \"A\": [\"one\", \"one\", \"two\", \"three\"] * 3,\n",
    "    \"B\": [\"A\", \"B\", \"C\"] * 4,\n",
    "    \"C\": np.random.randn(12),\n",
    "    \"D\": np.random.randn(12)\n",
    "})\n",
    "pd.pivot_table(df, values='D', index=['A', 'B'], columns=['C'])"
   ]
  },
  {
   "cell_type": "markdown",
   "metadata": {},
   "source": [
    "## 时间序列"
   ]
  },
  {
   "cell_type": "code",
   "execution_count": 59,
   "metadata": {},
   "outputs": [
    {
     "name": "stderr",
     "output_type": "stream",
     "text": [
      "C:\\Users\\Administrator\\AppData\\Local\\Temp\\ipykernel_56080\\2503940574.py:1: FutureWarning: 'S' is deprecated and will be removed in a future version, please use 's' instead.\n",
      "  rng = pd.date_range('1/1/2012', periods=100, freq='S')\n"
     ]
    },
    {
     "data": {
      "text/plain": [
       "2012-01-01    24577\n",
       "Freq: 5min, dtype: int32"
      ]
     },
     "execution_count": 59,
     "metadata": {},
     "output_type": "execute_result"
    }
   ],
   "source": [
    "rng = pd.date_range('1/1/2012', periods=100, freq='S')\n",
    "ts = pd.Series(np.random.randint(0, 500, len(rng)), index=rng)\n",
    "ts.resample('5Min').sum()"
   ]
  },
  {
   "cell_type": "code",
   "execution_count": 60,
   "metadata": {},
   "outputs": [
    {
     "data": {
      "text/plain": [
       "2012-03-06 00:00:00+00:00   -0.960792\n",
       "2012-03-07 00:00:00+00:00   -2.119477\n",
       "2012-03-08 00:00:00+00:00   -0.038033\n",
       "2012-03-09 00:00:00+00:00   -0.125605\n",
       "2012-03-10 00:00:00+00:00   -0.893517\n",
       "Freq: D, dtype: float64"
      ]
     },
     "execution_count": 60,
     "metadata": {},
     "output_type": "execute_result"
    }
   ],
   "source": [
    "rng = pd.date_range('3/6/2012 00:00', periods=5, freq='D')\n",
    "ts = pd.Series(np.random.randn(len(rng)), rng)\n",
    "ts_utc = ts.tz_localize('UTC')\n",
    "ts_utc"
   ]
  },
  {
   "cell_type": "code",
   "execution_count": 61,
   "metadata": {},
   "outputs": [
    {
     "data": {
      "text/plain": [
       "2012-03-05 19:00:00-05:00   -0.960792\n",
       "2012-03-06 19:00:00-05:00   -2.119477\n",
       "2012-03-07 19:00:00-05:00   -0.038033\n",
       "2012-03-08 19:00:00-05:00   -0.125605\n",
       "2012-03-09 19:00:00-05:00   -0.893517\n",
       "Freq: D, dtype: float64"
      ]
     },
     "execution_count": 61,
     "metadata": {},
     "output_type": "execute_result"
    }
   ],
   "source": [
    "ts_utc.tz_convert('US/Eastern')"
   ]
  },
  {
   "cell_type": "markdown",
   "metadata": {},
   "source": [
    "### 时间区间和频率转换"
   ]
  },
  {
   "cell_type": "code",
   "execution_count": 62,
   "metadata": {},
   "outputs": [
    {
     "name": "stderr",
     "output_type": "stream",
     "text": [
      "C:\\Users\\Administrator\\AppData\\Local\\Temp\\ipykernel_56080\\3446765465.py:1: FutureWarning: 'M' is deprecated and will be removed in a future version, please use 'ME' instead.\n",
      "  rng = pd.date_range('1/1/2012', periods=5, freq='M')\n"
     ]
    },
    {
     "data": {
      "text/plain": [
       "2012-01-31   -0.054797\n",
       "2012-02-29    1.442388\n",
       "2012-03-31    0.846941\n",
       "2012-04-30    0.750070\n",
       "2012-05-31   -0.466189\n",
       "Freq: ME, dtype: float64"
      ]
     },
     "execution_count": 62,
     "metadata": {},
     "output_type": "execute_result"
    }
   ],
   "source": [
    "rng = pd.date_range('1/1/2012', periods=5, freq='M')\n",
    "ts = pd.Series(np.random.randn(len(rng)), index=rng)\n",
    "ts"
   ]
  },
  {
   "cell_type": "code",
   "execution_count": 63,
   "metadata": {},
   "outputs": [
    {
     "data": {
      "text/plain": [
       "2012-01   -0.054797\n",
       "2012-02    1.442388\n",
       "2012-03    0.846941\n",
       "2012-04    0.750070\n",
       "2012-05   -0.466189\n",
       "Freq: M, dtype: float64"
      ]
     },
     "execution_count": 63,
     "metadata": {},
     "output_type": "execute_result"
    }
   ],
   "source": [
    "ps = ts.to_period()\n",
    "ps"
   ]
  },
  {
   "cell_type": "code",
   "execution_count": 64,
   "metadata": {},
   "outputs": [
    {
     "data": {
      "text/plain": [
       "2012-01-01   -0.054797\n",
       "2012-02-01    1.442388\n",
       "2012-03-01    0.846941\n",
       "2012-04-01    0.750070\n",
       "2012-05-01   -0.466189\n",
       "Freq: MS, dtype: float64"
      ]
     },
     "execution_count": 64,
     "metadata": {},
     "output_type": "execute_result"
    }
   ],
   "source": [
    "ps.to_timestamp()"
   ]
  },
  {
   "cell_type": "code",
   "execution_count": 65,
   "metadata": {},
   "outputs": [
    {
     "data": {
      "text/plain": [
       "1990Q1   -0.275693\n",
       "1990Q2   -1.237097\n",
       "1990Q3    0.617560\n",
       "1990Q4    1.263013\n",
       "1991Q1   -1.938149\n",
       "Freq: Q-NOV, dtype: float64"
      ]
     },
     "execution_count": 65,
     "metadata": {},
     "output_type": "execute_result"
    }
   ],
   "source": [
    "prng = pd.period_range('1990Q1', '2000Q4', freq='Q-NOV')\n",
    "ts = pd.Series(np.random.randn(len(prng)), index=prng)\n",
    "ts.head()"
   ]
  },
  {
   "cell_type": "code",
   "execution_count": 67,
   "metadata": {},
   "outputs": [
    {
     "data": {
      "text/plain": [
       "1990-02   -0.275693\n",
       "1990-05   -1.237097\n",
       "1990-08    0.617560\n",
       "1990-11    1.263013\n",
       "1991-02   -1.938149\n",
       "Freq: M, dtype: float64"
      ]
     },
     "execution_count": 67,
     "metadata": {},
     "output_type": "execute_result"
    }
   ],
   "source": [
    "ts.index = ts.index.asfreq('M', how='end')\n",
    "ts.head()"
   ]
  },
  {
   "cell_type": "markdown",
   "metadata": {},
   "source": [
    "## Categoricals"
   ]
  },
  {
   "cell_type": "code",
   "execution_count": 68,
   "metadata": {},
   "outputs": [
    {
     "data": {
      "text/plain": [
       "0    a\n",
       "1    b\n",
       "2    b\n",
       "3    a\n",
       "4    a\n",
       "5    e\n",
       "Name: grade, dtype: category\n",
       "Categories (3, object): ['a', 'b', 'e']"
      ]
     },
     "execution_count": 68,
     "metadata": {},
     "output_type": "execute_result"
    }
   ],
   "source": [
    "df = pd.DataFrame({\"id\": [1, 2, 3, 4, 5, 6],\n",
    "                   \"raw_grade\": [\"a\", \"b\", \"b\", \"a\", \"a\", \"e\"]})\n",
    "df[\"grade\"] = df[\"raw_grade\"].astype(\"category\")\n",
    "df[\"grade\"]"
   ]
  },
  {
   "cell_type": "code",
   "execution_count": 71,
   "metadata": {},
   "outputs": [
    {
     "data": {
      "text/plain": [
       "0    NaN\n",
       "1    NaN\n",
       "2    NaN\n",
       "3    NaN\n",
       "4    NaN\n",
       "5    NaN\n",
       "Name: grade, dtype: category\n",
       "Categories (3, object): ['very good', 'good', 'very bad']"
      ]
     },
     "execution_count": 71,
     "metadata": {},
     "output_type": "execute_result"
    }
   ],
   "source": [
    "df[\"grade\"] = df[\"grade\"].cat.set_categories([\"very good\", \"good\", \"very bad\"])\n",
    "df[\"grade\"]"
   ]
  },
  {
   "cell_type": "code",
   "execution_count": 72,
   "metadata": {},
   "outputs": [
    {
     "data": {
      "text/plain": [
       "0    NaN\n",
       "1    NaN\n",
       "2    NaN\n",
       "3    NaN\n",
       "4    NaN\n",
       "5    NaN\n",
       "Name: grade, dtype: category\n",
       "Categories (5, object): ['very bad', 'bad', 'medium', 'good', 'very good']"
      ]
     },
     "execution_count": 72,
     "metadata": {},
     "output_type": "execute_result"
    }
   ],
   "source": [
    "df[\"grade\"] = df[\"grade\"].cat.set_categories([\"very bad\", \"bad\", \"medium\", \"good\", \"very good\"])\n",
    "df[\"grade\"]"
   ]
  },
  {
   "cell_type": "code",
   "execution_count": 73,
   "metadata": {},
   "outputs": [
    {
     "data": {
      "application/vnd.microsoft.datawrangler.viewer.v0+json": {
       "columns": [
        {
         "name": "index",
         "rawType": "int64",
         "type": "integer"
        },
        {
         "name": "id",
         "rawType": "int64",
         "type": "integer"
        },
        {
         "name": "raw_grade",
         "rawType": "object",
         "type": "string"
        },
        {
         "name": "grade",
         "rawType": "category",
         "type": "unknown"
        }
       ],
       "conversionMethod": "pd.DataFrame",
       "ref": "7fd02a2d-c3cc-4181-b3a6-32d5050aa2a4",
       "rows": [
        [
         "0",
         "1",
         "a",
         null
        ],
        [
         "1",
         "2",
         "b",
         null
        ],
        [
         "2",
         "3",
         "b",
         null
        ],
        [
         "3",
         "4",
         "a",
         null
        ],
        [
         "4",
         "5",
         "a",
         null
        ],
        [
         "5",
         "6",
         "e",
         null
        ]
       ],
       "shape": {
        "columns": 3,
        "rows": 6
       }
      },
      "text/html": [
       "<div>\n",
       "<style scoped>\n",
       "    .dataframe tbody tr th:only-of-type {\n",
       "        vertical-align: middle;\n",
       "    }\n",
       "\n",
       "    .dataframe tbody tr th {\n",
       "        vertical-align: top;\n",
       "    }\n",
       "\n",
       "    .dataframe thead th {\n",
       "        text-align: right;\n",
       "    }\n",
       "</style>\n",
       "<table border=\"1\" class=\"dataframe\">\n",
       "  <thead>\n",
       "    <tr style=\"text-align: right;\">\n",
       "      <th></th>\n",
       "      <th>id</th>\n",
       "      <th>raw_grade</th>\n",
       "      <th>grade</th>\n",
       "    </tr>\n",
       "  </thead>\n",
       "  <tbody>\n",
       "    <tr>\n",
       "      <th>0</th>\n",
       "      <td>1</td>\n",
       "      <td>a</td>\n",
       "      <td>NaN</td>\n",
       "    </tr>\n",
       "    <tr>\n",
       "      <th>1</th>\n",
       "      <td>2</td>\n",
       "      <td>b</td>\n",
       "      <td>NaN</td>\n",
       "    </tr>\n",
       "    <tr>\n",
       "      <th>2</th>\n",
       "      <td>3</td>\n",
       "      <td>b</td>\n",
       "      <td>NaN</td>\n",
       "    </tr>\n",
       "    <tr>\n",
       "      <th>3</th>\n",
       "      <td>4</td>\n",
       "      <td>a</td>\n",
       "      <td>NaN</td>\n",
       "    </tr>\n",
       "    <tr>\n",
       "      <th>4</th>\n",
       "      <td>5</td>\n",
       "      <td>a</td>\n",
       "      <td>NaN</td>\n",
       "    </tr>\n",
       "    <tr>\n",
       "      <th>5</th>\n",
       "      <td>6</td>\n",
       "      <td>e</td>\n",
       "      <td>NaN</td>\n",
       "    </tr>\n",
       "  </tbody>\n",
       "</table>\n",
       "</div>"
      ],
      "text/plain": [
       "   id raw_grade grade\n",
       "0   1         a   NaN\n",
       "1   2         b   NaN\n",
       "2   3         b   NaN\n",
       "3   4         a   NaN\n",
       "4   5         a   NaN\n",
       "5   6         e   NaN"
      ]
     },
     "execution_count": 73,
     "metadata": {},
     "output_type": "execute_result"
    }
   ],
   "source": [
    "df.sort_values(by=\"grade\")"
   ]
  },
  {
   "cell_type": "code",
   "execution_count": 74,
   "metadata": {},
   "outputs": [
    {
     "name": "stderr",
     "output_type": "stream",
     "text": [
      "C:\\Users\\Administrator\\AppData\\Local\\Temp\\ipykernel_56080\\3951628473.py:1: FutureWarning: The default of observed=False is deprecated and will be changed to True in a future version of pandas. Pass observed=False to retain current behavior or observed=True to adopt the future default and silence this warning.\n",
      "  df.groupby(\"grade\").size()\n"
     ]
    },
    {
     "data": {
      "text/plain": [
       "grade\n",
       "very bad     0\n",
       "bad          0\n",
       "medium       0\n",
       "good         0\n",
       "very good    0\n",
       "dtype: int64"
      ]
     },
     "execution_count": 74,
     "metadata": {},
     "output_type": "execute_result"
    }
   ],
   "source": [
    "df.groupby(\"grade\").size()"
   ]
  },
  {
   "cell_type": "markdown",
   "metadata": {},
   "source": [
    "## 绘图\n",
    "pandas 集成了 Matplotlib，可直接用 `.plot()` 快速画图。"
   ]
  },
  {
   "cell_type": "code",
   "execution_count": 77,
   "metadata": {},
   "outputs": [
    {
     "data": {
      "image/png": "[encoded data removed]",
      "text/plain": [
       "<Figure size 640x480 with 1 Axes>"
      ]
     },
     "metadata": {},
     "output_type": "display_data"
    }
   ],
   "source": [
    "import matplotlib.pyplot as plt\n",
    "import warnings\n",
    "\n",
    "with warnings.catch_warnings():\n",
    "\twarnings.simplefilter(\"ignore\")\n",
    "\tts = pd.Series(np.random.randn(1000), index=pd.date_range('1/1/2000', periods=1000))\n",
    "\tts = ts.cumsum()\n",
    "\tts.plot()\n",
    "\tplt.show()"
   ]
  },
  {
   "cell_type": "code",
   "execution_count": 78,
   "metadata": {},
   "outputs": [
    {
     "name": "stderr",
     "output_type": "stream",
     "text": [
      "c:\\ProgramData\\anaconda3\\Lib\\site-packages\\IPython\\core\\pylabtools.py:170: UserWarning: Glyph 26376 (\\N{CJK UNIFIED IDEOGRAPH-6708}) missing from font(s) DejaVu Sans.\n",
      "  fig.canvas.print_figure(bytes_io, **kw)\n",
      "c:\\ProgramData\\anaconda3\\Lib\\site-packages\\IPython\\core\\pylabtools.py:170: UserWarning: Glyph 26376 (\\N{CJK UNIFIED IDEOGRAPH-6708}) missing from font(s) DejaVu Sans.\n",
      "  fig.canvas.print_figure(bytes_io, **kw)\n"
     ]
    },
    {
     "data": {
      "image/png": "[encoded data removed]",
      "text/plain": [
       "<Figure size 640x480 with 1 Axes>"
      ]
     },
     "metadata": {},
     "output_type": "display_data"
    }
   ],
   "source": [
    "df = pd.DataFrame(np.random.randn(1000, 4), index=ts.index, columns=list(\"ABCD\"))\n",
    "df = df.cumsum()\n",
    "df.plot()\n",
    "plt.show()"
   ]
  },
  {
   "cell_type": "markdown",
   "metadata": {},
   "source": [
    "## 数据读写\n",
    "- 支持多种格式导入导出：CSV, HDF5, Excel, SQL, JSON 等"
   ]
  },
  {
   "cell_type": "code",
   "execution_count": 79,
   "metadata": {},
   "outputs": [
    {
     "data": {
      "application/vnd.microsoft.datawrangler.viewer.v0+json": {
       "columns": [
        {
         "name": "index",
         "rawType": "int64",
         "type": "integer"
        },
        {
         "name": "Unnamed: 0",
         "rawType": "object",
         "type": "string"
        },
        {
         "name": "A",
         "rawType": "float64",
         "type": "float"
        },
        {
         "name": "B",
         "rawType": "float64",
         "type": "float"
        },
        {
         "name": "C",
         "rawType": "float64",
         "type": "float"
        },
        {
         "name": "D",
         "rawType": "float64",
         "type": "float"
        }
       ],
       "conversionMethod": "pd.DataFrame",
       "ref": "ec89889f-9411-4ffb-b318-7aa574d120f5",
       "rows": [
        [
         "0",
         "2000-01-01",
         "-0.3322945789727026",
         "0.167448480781409",
         "1.8199709132605015",
         "0.2629840972728414"
        ],
        [
         "1",
         "2000-01-02",
         "-1.154339175357759",
         "-0.7957820279949601",
         "1.476187051967578",
         "-0.507846490756094"
        ],
        [
         "2",
         "2000-01-03",
         "-0.1304600655557193",
         "0.1492410793444863",
         "1.7973901312050362",
         "0.4173535565906989"
        ],
        [
         "3",
         "2000-01-04",
         "-1.5730870112145048",
         "0.4238065790428966",
         "1.720803137309708",
         "-0.4922856541592841"
        ],
        [
         "4",
         "2000-01-05",
         "-1.8426752279005",
         "0.5415266882960948",
         "1.7283331450214416",
         "-1.9074988811693503"
        ]
       ],
       "shape": {
        "columns": 5,
        "rows": 5
       }
      },
      "text/html": [
       "<div>\n",
       "<style scoped>\n",
       "    .dataframe tbody tr th:only-of-type {\n",
       "        vertical-align: middle;\n",
       "    }\n",
       "\n",
       "    .dataframe tbody tr th {\n",
       "        vertical-align: top;\n",
       "    }\n",
       "\n",
       "    .dataframe thead th {\n",
       "        text-align: right;\n",
       "    }\n",
       "</style>\n",
       "<table border=\"1\" class=\"dataframe\">\n",
       "  <thead>\n",
       "    <tr style=\"text-align: right;\">\n",
       "      <th></th>\n",
       "      <th>Unnamed: 0</th>\n",
       "      <th>A</th>\n",
       "      <th>B</th>\n",
       "      <th>C</th>\n",
       "      <th>D</th>\n",
       "    </tr>\n",
       "  </thead>\n",
       "  <tbody>\n",
       "    <tr>\n",
       "      <th>0</th>\n",
       "      <td>2000-01-01</td>\n",
       "      <td>-0.332295</td>\n",
       "      <td>0.167448</td>\n",
       "      <td>1.819971</td>\n",
       "      <td>0.262984</td>\n",
       "    </tr>\n",
       "    <tr>\n",
       "      <th>1</th>\n",
       "      <td>2000-01-02</td>\n",
       "      <td>-1.154339</td>\n",
       "      <td>-0.795782</td>\n",
       "      <td>1.476187</td>\n",
       "      <td>-0.507846</td>\n",
       "    </tr>\n",
       "    <tr>\n",
       "      <th>2</th>\n",
       "      <td>2000-01-03</td>\n",
       "      <td>-0.130460</td>\n",
       "      <td>0.149241</td>\n",
       "      <td>1.797390</td>\n",
       "      <td>0.417354</td>\n",
       "    </tr>\n",
       "    <tr>\n",
       "      <th>3</th>\n",
       "      <td>2000-01-04</td>\n",
       "      <td>-1.573087</td>\n",
       "      <td>0.423807</td>\n",
       "      <td>1.720803</td>\n",
       "      <td>-0.492286</td>\n",
       "    </tr>\n",
       "    <tr>\n",
       "      <th>4</th>\n",
       "      <td>2000-01-05</td>\n",
       "      <td>-1.842675</td>\n",
       "      <td>0.541527</td>\n",
       "      <td>1.728333</td>\n",
       "      <td>-1.907499</td>\n",
       "    </tr>\n",
       "  </tbody>\n",
       "</table>\n",
       "</div>"
      ],
      "text/plain": [
       "   Unnamed: 0         A         B         C         D\n",
       "0  2000-01-01 -0.332295  0.167448  1.819971  0.262984\n",
       "1  2000-01-02 -1.154339 -0.795782  1.476187 -0.507846\n",
       "2  2000-01-03 -0.130460  0.149241  1.797390  0.417354\n",
       "3  2000-01-04 -1.573087  0.423807  1.720803 -0.492286\n",
       "4  2000-01-05 -1.842675  0.541527  1.728333 -1.907499"
      ]
     },
     "execution_count": 79,
     "metadata": {},
     "output_type": "execute_result"
    }
   ],
   "source": [
    "# 写入 CSV\n",
    "df.to_csv('foo.csv')\n",
    "# 读取 CSV\n",
    "pd.read_csv('foo.csv').head()"
   ]
  },
  {
   "cell_type": "code",
   "execution_count": 80,
   "metadata": {},
   "outputs": [
    {
     "data": {
      "application/vnd.microsoft.datawrangler.viewer.v0+json": {
       "columns": [
        {
         "name": "index",
         "rawType": "int64",
         "type": "integer"
        },
        {
         "name": "Unnamed: 0",
         "rawType": "datetime64[ns]",
         "type": "datetime"
        },
        {
         "name": "A",
         "rawType": "float64",
         "type": "float"
        },
        {
         "name": "B",
         "rawType": "float64",
         "type": "float"
        },
        {
         "name": "C",
         "rawType": "float64",
         "type": "float"
        },
        {
         "name": "D",
         "rawType": "float64",
         "type": "float"
        }
       ],
       "conversionMethod": "pd.DataFrame",
       "ref": "9009d7da-2af9-4510-bdc2-3c561e23b3b3",
       "rows": [
        [
         "0",
         "2000-01-01 00:00:00",
         "-0.3322945789727026",
         "0.167448480781409",
         "1.819970913260502",
         "0.2629840972728414"
        ],
        [
         "1",
         "2000-01-02 00:00:00",
         "-1.154339175357759",
         "-0.7957820279949601",
         "1.476187051967578",
         "-0.507846490756094"
        ],
        [
         "2",
         "2000-01-03 00:00:00",
         "-0.1304600655557193",
         "0.1492410793444864",
         "1.797390131205036",
         "0.4173535565906989"
        ],
        [
         "3",
         "2000-01-04 00:00:00",
         "-1.573087011214505",
         "0.4238065790428966",
         "1.720803137309708",
         "-0.4922856541592842"
        ],
        [
         "4",
         "2000-01-05 00:00:00",
         "-1.8426752279005",
         "0.5415266882960948",
         "1.728333145021442",
         "-1.907498881169351"
        ]
       ],
       "shape": {
        "columns": 5,
        "rows": 5
       }
      },
      "text/html": [
       "<div>\n",
       "<style scoped>\n",
       "    .dataframe tbody tr th:only-of-type {\n",
       "        vertical-align: middle;\n",
       "    }\n",
       "\n",
       "    .dataframe tbody tr th {\n",
       "        vertical-align: top;\n",
       "    }\n",
       "\n",
       "    .dataframe thead th {\n",
       "        text-align: right;\n",
       "    }\n",
       "</style>\n",
       "<table border=\"1\" class=\"dataframe\">\n",
       "  <thead>\n",
       "    <tr style=\"text-align: right;\">\n",
       "      <th></th>\n",
       "      <th>Unnamed: 0</th>\n",
       "      <th>A</th>\n",
       "      <th>B</th>\n",
       "      <th>C</th>\n",
       "      <th>D</th>\n",
       "    </tr>\n",
       "  </thead>\n",
       "  <tbody>\n",
       "    <tr>\n",
       "      <th>0</th>\n",
       "      <td>2000-01-01</td>\n",
       "      <td>-0.332295</td>\n",
       "      <td>0.167448</td>\n",
       "      <td>1.819971</td>\n",
       "      <td>0.262984</td>\n",
       "    </tr>\n",
       "    <tr>\n",
       "      <th>1</th>\n",
       "      <td>2000-01-02</td>\n",
       "      <td>-1.154339</td>\n",
       "      <td>-0.795782</td>\n",
       "      <td>1.476187</td>\n",
       "      <td>-0.507846</td>\n",
       "    </tr>\n",
       "    <tr>\n",
       "      <th>2</th>\n",
       "      <td>2000-01-03</td>\n",
       "      <td>-0.130460</td>\n",
       "      <td>0.149241</td>\n",
       "      <td>1.797390</td>\n",
       "      <td>0.417354</td>\n",
       "    </tr>\n",
       "    <tr>\n",
       "      <th>3</th>\n",
       "      <td>2000-01-04</td>\n",
       "      <td>-1.573087</td>\n",
       "      <td>0.423807</td>\n",
       "      <td>1.720803</td>\n",
       "      <td>-0.492286</td>\n",
       "    </tr>\n",
       "    <tr>\n",
       "      <th>4</th>\n",
       "      <td>2000-01-05</td>\n",
       "      <td>-1.842675</td>\n",
       "      <td>0.541527</td>\n",
       "      <td>1.728333</td>\n",
       "      <td>-1.907499</td>\n",
       "    </tr>\n",
       "  </tbody>\n",
       "</table>\n",
       "</div>"
      ],
      "text/plain": [
       "  Unnamed: 0         A         B         C         D\n",
       "0 2000-01-01 -0.332295  0.167448  1.819971  0.262984\n",
       "1 2000-01-02 -1.154339 -0.795782  1.476187 -0.507846\n",
       "2 2000-01-03 -0.130460  0.149241  1.797390  0.417354\n",
       "3 2000-01-04 -1.573087  0.423807  1.720803 -0.492286\n",
       "4 2000-01-05 -1.842675  0.541527  1.728333 -1.907499"
      ]
     },
     "execution_count": 80,
     "metadata": {},
     "output_type": "execute_result"
    }
   ],
   "source": [
    "# 写入 Excel\n",
    "df.to_excel('foo.xlsx', sheet_name='Sheet1')\n",
    "# 读取 Excel\n",
    "pd.read_excel('foo.xlsx', 'Sheet1').head()"
   ]
  }
 ],
 "metadata": {
  "kernelspec": {
   "display_name": "base",
   "language": "python",
   "name": "python3"
  },
  "language_info": {
   "codemirror_mode": {
    "name": "ipython",
    "version": 3
   },
   "file_extension": ".py",
   "mimetype": "text/x-python",
   "name": "python",
   "nbconvert_exporter": "python",
   "pygments_lexer": "ipython3",
   "version": "3.12.7"
  }
 },
 "nbformat": 4,
 "nbformat_minor": 2
}
