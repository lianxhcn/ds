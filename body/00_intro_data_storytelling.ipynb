{
 "cells": [
  {
   "cell_type": "markdown",
   "id": "5cbf9177",
   "metadata": {},
   "source": [
    "# 数据叙事\n",
    "\n",
    "- Lo Duca, A. (2024). Data Storytelling with Altair and AI. Manning Publications. ISBN: 978-1-63343-792-0. [github](https://github.com/alod83/Data-Storytelling-with-Altair-and-AI/tree/main), [liveBook](https://livebook.manning.com/book/data-storytelling-with-altair-and-ai).\n",
    "  - You can get executable snippets of code from the liveBook (online) version of this\n",
    "book at https://livebook.manning.com/book/data-storytelling-with-altair-and-ai. \n",
    "  - The complete code for the examples in the book is available for download from the Manning website at https://www.manning.com/books/data-storytelling-with-altair-and-ai,\n",
    "and from GitHub at https://github.com/alod83/Data-Storytelling-with-Altair-and-AI/\n",
    "tree/main."
   ]
  },
  {
   "cell_type": "markdown",
   "id": "20298628",
   "metadata": {},
   "source": []
  }
 ],
 "metadata": {
  "language_info": {
   "name": "python"
  }
 },
 "nbformat": 4,
 "nbformat_minor": 5
}
