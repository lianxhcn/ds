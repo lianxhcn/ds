{
 "cells": [
  {
   "cell_type": "markdown",
   "metadata": {},
   "source": [
    "# NumPy\n",
    "\n",
    "数值计算是科学研究领域使用最多的编程功能。虽然Python自带了一些基本的数学函数以及列表、元组等数据结构，然而并没有对向量运算的天然支持，因而我们需要NumPy这个包来支持Python中的向量运算。\n",
    "\n",
    "NumPy提供了丰富的数值计算方法，由于篇幅所限，我们无法介绍所有的NumPy特性，更多的参考可以从NumPy（包括SciPy）的网站： https://docs.scipy.org/doc/ 找到更加详细的参考。\n",
    "\n",
    "## 向量、矩阵及其运算\n",
    "\n",
    "NumPy最核心的是提供了向量和矩阵两个数据结构，可以方便的使用这些数据结构进行向量的加、减、数乘，以及矩阵的加、减、数乘、乘法、求逆、矩阵分解等运算。\n",
    "\n",
    "在Python中，如果需要使用NumPy，首先要使用pip安装numpy，接着在文件中导入numpy。numpy.array()函数提供了将一个列表转化为一个向量的方法，比如："
   ]
  },
  {
   "cell_type": "code",
   "execution_count": 1,
   "metadata": {},
   "outputs": [
    {
     "name": "stdout",
     "output_type": "stream",
     "text": [
      "向量a= [1 2 3]\n"
     ]
    }
   ],
   "source": [
    "import numpy as np\n",
    "\n",
    "a=np.array([1,2,3]) #创建一个三维向量\n",
    "print('向量a=',a)"
   ]
  },
  {
   "cell_type": "markdown",
   "metadata": {},
   "source": [
    "此外，还有一些其他的方法创建向量，比如："
   ]
  },
  {
   "cell_type": "code",
   "execution_count": 2,
   "metadata": {},
   "outputs": [
    {
     "name": "stdout",
     "output_type": "stream",
     "text": [
      "b= [ 1.  1.  1.]\n",
      "b0= [ 0.  0.  0.]\n"
     ]
    }
   ],
   "source": [
    "b=np.ones(3) #创建一个元素全为1的向量\n",
    "print('b=',b)\n",
    "b0=np.zeros(3) #创建一个元素全为0的向量\n",
    "print('b0=',b0)"
   ]
  },
  {
   "cell_type": "markdown",
   "metadata": {},
   "source": [
    "还有一个更加常用的函数:linespace(n1,n2,N)，该函数创建从n1到n2区间平均分为N等份的网格点："
   ]
  },
  {
   "cell_type": "code",
   "execution_count": null,
   "metadata": {},
   "outputs": [
    {
     "name": "stdout",
     "output_type": "stream",
     "text": [
      "0到5等分20等分：\n",
      " [ 0.          0.26315789  0.52631579  0.78947368  1.05263158  1.31578947\n",
      "  1.57894737  1.84210526  2.10526316  2.36842105  2.63157895  2.89473684\n",
      "  3.15789474  3.42105263  3.68421053  3.94736842  4.21052632  4.47368421\n",
      "  4.73684211  5.        ]\n"
     ]
    }
   ],
   "source": [
    "lp = np.linspace(0, 5, 20)   # 0 到 5 等分 20 等分\n",
    "print(\"0 到 5 等分 20 等分：\\n\",lp)"
   ]
  },
  {
   "cell_type": "markdown",
   "metadata": {},
   "source": [
    "NumPy支持很多向量运算，比如："
   ]
  },
  {
   "cell_type": "code",
   "execution_count": 4,
   "metadata": {},
   "outputs": [
    {
     "name": "stdout",
     "output_type": "stream",
     "text": [
      "基本数学运算：元素对元素运算\n",
      "数乘：3*a= [3 6 9]\n",
      "a-b= [ 0.  1.  2.]\n",
      "a+b= [ 2.  3.  4.]\n",
      "a*b= [ 1.  2.  3.]\n",
      "b/a= [ 1.          0.5         0.33333333]\n",
      "向量运算\n",
      "点乘（内积）a.*b= 6.0\n",
      "外积(a,b)=\n",
      " [[ 1.  1.  1.]\n",
      " [ 2.  2.  2.]\n",
      " [ 3.  3.  3.]]\n"
     ]
    }
   ],
   "source": [
    "print(\"基本数学运算：元素对元素运算\")\n",
    "print('数乘：3*a=',3*a)\n",
    "print('a-b=',a-b)\n",
    "print('a+b=',a+b)\n",
    "print('a*b=',a*b)\n",
    "print('b/a=',b/a)\n",
    "print('向量运算')\n",
    "c=np.dot(a,b) #a.*b\n",
    "print('点乘（内积）a.*b=',c)\n",
    "d=np.outer(a,b)\n",
    "print('外积(a,b)=\\n',d)"
   ]
  },
  {
   "cell_type": "markdown",
   "metadata": {},
   "source": [
    "这里要特别特别注意的是，向量的乘法\\*和除法定义的是元素对元素的乘除法，这点与MATLAB等有很大不同。\n",
    "\n",
    "除了可以使用numpy.array()创建向量，也可以创建矩阵，创建矩阵时，提供一个列表的列表，每个列表代表矩阵中的一行："
   ]
  },
  {
   "cell_type": "code",
   "execution_count": 5,
   "metadata": {},
   "outputs": [
    {
     "name": "stdout",
     "output_type": "stream",
     "text": [
      "矩阵A=\n",
      " [[1 2 3]\n",
      " [4 8 6]\n",
      " [4 3 2]]\n"
     ]
    }
   ],
   "source": [
    "A=np.array([[1,2,3],[4,8,6],[4,3,2]])\n",
    "print(\"矩阵A=\\n\",A)"
   ]
  },
  {
   "cell_type": "markdown",
   "metadata": {},
   "source": [
    "以及一些特殊矩阵："
   ]
  },
  {
   "cell_type": "code",
   "execution_count": 6,
   "metadata": {},
   "outputs": [
    {
     "name": "stdout",
     "output_type": "stream",
     "text": [
      "矩阵M=\n",
      " [[ 0.  0.  0.]\n",
      " [ 0.  0.  0.]\n",
      " [ 0.  0.  0.]]\n",
      "矩阵O=\n",
      " [[ 1.  1.  1.]\n",
      " [ 1.  1.  1.]\n",
      " [ 1.  1.  1.]]\n",
      "矩阵I=\n",
      " [[ 1.  0.  0.]\n",
      " [ 0.  1.  0.]\n",
      " [ 0.  0.  1.]]\n"
     ]
    }
   ],
   "source": [
    "M=np.zeros((3,3)) #全为0的矩阵\n",
    "print(\"矩阵M=\\n\",M)\n",
    "O=np.ones((3,3)) #全为1的矩阵\n",
    "print(\"矩阵O=\\n\",O)\n",
    "I=np.eye(3) #单位阵\n",
    "print(\"矩阵I=\\n\",I)"
   ]
  },
  {
   "cell_type": "markdown",
   "metadata": {},
   "source": [
    "以及一些矩阵的运算："
   ]
  },
  {
   "cell_type": "code",
   "execution_count": 7,
   "metadata": {},
   "outputs": [
    {
     "name": "stdout",
     "output_type": "stream",
     "text": [
      "A+I=\n",
      " [[ 2.  2.  3.]\n",
      " [ 4.  9.  6.]\n",
      " [ 4.  3.  3.]]\n",
      "A-I=\n",
      " [[ 0.  2.  3.]\n",
      " [ 4.  7.  6.]\n",
      " [ 4.  3.  1.]]\n",
      "A*I=\n",
      " [[ 1.  0.  0.]\n",
      " [ 0.  8.  0.]\n",
      " [ 0.  0.  2.]]\n",
      "I/A=\n",
      " [[ 1.     0.     0.   ]\n",
      " [ 0.     0.125  0.   ]\n",
      " [ 0.     0.     0.5  ]]\n",
      "矩阵相乘，A*O=\n",
      " [[  6.   6.   6.]\n",
      " [ 18.  18.  18.]\n",
      " [  9.   9.   9.]]\n",
      "矩阵相乘，O*A=\n",
      " [[  9.  13.  11.]\n",
      " [  9.  13.  11.]\n",
      " [  9.  13.  11.]]\n",
      "矩阵转置，tranpose(A)=\n",
      " [[1 4 4]\n",
      " [2 8 3]\n",
      " [3 6 2]]\n",
      "矩阵的逆，inv(A)=\n",
      " [[ 0.06666667 -0.16666667  0.4       ]\n",
      " [-0.53333333  0.33333333 -0.2       ]\n",
      " [ 0.66666667 -0.16666667  0.        ]]\n",
      "矩阵的特征值=\n",
      " [ 11.80142315  -2.04468118   1.24325803]\n",
      "矩阵的特征向量=\n",
      " [[ 0.26952559  0.61195333  0.44683972]\n",
      " [ 0.88453378  0.21152352 -0.72721843]\n",
      " [ 0.3807308  -0.76208328  0.52104474]]\n"
     ]
    }
   ],
   "source": [
    "print(\"A+I=\\n\",A+I)\n",
    "print(\"A-I=\\n\",A-I)\n",
    "print(\"A*I=\\n\",A*I)\n",
    "print(\"I/A=\\n\",I/A)\n",
    "print(\"矩阵相乘，A*O=\\n\", np.dot(A,O))\n",
    "print(\"矩阵相乘，O*A=\\n\", np.dot(O,A))\n",
    "print(\"矩阵转置，tranpose(A)=\\n\", A.transpose())\n",
    "print(\"矩阵的逆，inv(A)=\\n\", np.linalg.inv(A))\n",
    "l,L=np.linalg.eig(A)\n",
    "print(\"矩阵的特征值=\\n\", l)\n",
    "print(\"矩阵的特征向量=\\n\", L)"
   ]
  },
  {
   "cell_type": "markdown",
   "metadata": {},
   "source": [
    "同样，**乘法\\*和除法定义的是元素对元素的乘除法，切记！**\n",
    "\n",
    "如果需要提取出矩阵的元素，可以使用 **A\\[row,col\\]（而非A\\[row\\]\\[col\\]！！）**。\n",
    "\n",
    "此外，数组和矩阵都支持切片操作。比如，如果希望提取出矩阵A的奇数行、奇数列，可以用："
   ]
  },
  {
   "cell_type": "code",
   "execution_count": 8,
   "metadata": {},
   "outputs": [
    {
     "name": "stdout",
     "output_type": "stream",
     "text": [
      "A的奇数行、奇数列=\n",
      " [[1 3]\n",
      " [4 2]]\n"
     ]
    }
   ],
   "source": [
    "print(\"A的奇数行、奇数列=\\n\", A[::2,::2])"
   ]
  },
  {
   "cell_type": "markdown",
   "metadata": {},
   "source": [
    "另外，这里与Python中的另外一个不同是，在Python的列表中，实行切片操作是直接对切片出的元素进行复制，而在NumPy中，切片操作只是一个视图（view），并没有进行复制。理解这一点是非常关键的，比如："
   ]
  },
  {
   "cell_type": "code",
   "execution_count": 9,
   "metadata": {},
   "outputs": [
    {
     "name": "stdout",
     "output_type": "stream",
     "text": [
      "[1, 2, 3, 4]\n",
      "[1, 3]\n",
      "[1 1 3 4]\n",
      "[1 3]\n"
     ]
    }
   ],
   "source": [
    "lista=[1,2,3,4]\n",
    "suba=lista[1:3]\n",
    "suba[0]=1\n",
    "print(lista)\n",
    "print(suba)\n",
    "veca=np.array([1,2,3,4])\n",
    "suba=veca[1:3]\n",
    "suba[0]=1\n",
    "print(veca)\n",
    "print(suba)"
   ]
  },
  {
   "cell_type": "markdown",
   "metadata": {},
   "source": [
    "因而，在对数组、矩阵进行切片、修改时，需要特别注意。\n",
    "\n",
    "如果需要创建切片的副本，需要用copy()方法："
   ]
  },
  {
   "cell_type": "code",
   "execution_count": 10,
   "metadata": {},
   "outputs": [
    {
     "name": "stdout",
     "output_type": "stream",
     "text": [
      "[1 2 3 4]\n",
      "[1 3]\n"
     ]
    }
   ],
   "source": [
    "veca=np.array([1,2,3,4])\n",
    "suba=veca[1:3].copy()\n",
    "suba[0]=1\n",
    "print(veca)\n",
    "print(suba)"
   ]
  },
  {
   "cell_type": "markdown",
   "metadata": {},
   "source": [
    "可以发现原始向量并没有被改变。"
   ]
  },
  {
   "cell_type": "markdown",
   "metadata": {},
   "source": [
    "## 向量、矩阵的变形、合并和分裂\n",
    "\n",
    "对于向量、矩阵的另外一个更常用的操作是变形，比如，我们可能将一个向量变形为一个矩阵，可以按照如下的方法："
   ]
  },
  {
   "cell_type": "code",
   "execution_count": 11,
   "metadata": {
    "scrolled": true
   },
   "outputs": [
    {
     "name": "stdout",
     "output_type": "stream",
     "text": [
      "vec_a:\n",
      " [ 0.  1.  2.  3.  4.  5.  6.  7.  8.]\n",
      "mat_a:\n",
      " [[ 0.  1.  2.]\n",
      " [ 3.  4.  5.]\n",
      " [ 6.  7.  8.]]\n",
      "vec_b:\n",
      " [[ 0.]\n",
      " [ 1.]\n",
      " [ 2.]\n",
      " [ 3.]\n",
      " [ 4.]\n",
      " [ 5.]\n",
      " [ 6.]\n",
      " [ 7.]\n",
      " [ 8.]]\n"
     ]
    }
   ],
   "source": [
    "vec_a=np.linspace(0,8,9)\n",
    "print(\"vec_a:\\n\",vec_a)\n",
    "mat_a=vec_a.reshape(3,3)\n",
    "print(\"mat_a:\\n\",mat_a)\n",
    "vec_b=vec_a.reshape(9,1)\n",
    "print(\"vec_b:\\n\",vec_b)"
   ]
  },
  {
   "cell_type": "markdown",
   "metadata": {},
   "source": [
    "实际上，我们可以通过向量或者矩阵的ndim属性查看其维度："
   ]
  },
  {
   "cell_type": "code",
   "execution_count": 12,
   "metadata": {},
   "outputs": [
    {
     "name": "stdout",
     "output_type": "stream",
     "text": [
      "Dimension of vec_a: 1\n",
      "Dimension of vec_b: 2\n",
      "Dimension of mat_a: 2\n"
     ]
    }
   ],
   "source": [
    "print(\"Dimension of vec_a:%2d\" % vec_a.ndim)\n",
    "print(\"Dimension of vec_b:%2d\" % vec_b.ndim)\n",
    "print(\"Dimension of mat_a:%2d\" % mat_a.ndim)"
   ]
  },
  {
   "cell_type": "markdown",
   "metadata": {},
   "source": [
    "可见，vec_b作为列向量，在NumPy中实际上看成时一个矩阵。如果要看其维数，需要用shape属性："
   ]
  },
  {
   "cell_type": "code",
   "execution_count": 13,
   "metadata": {},
   "outputs": [
    {
     "name": "stdout",
     "output_type": "stream",
     "text": [
      "Dimension of vec_a: 9\n",
      "Dimension of vec_b: 9 × 1\n",
      "Dimension of mat_a: 3 × 3\n"
     ]
    }
   ],
   "source": [
    "print(\"Dimension of vec_a:%2d\" % vec_a.shape)\n",
    "print(\"Dimension of vec_b:%2d ×%2d\" % vec_b.shape)\n",
    "print(\"Dimension of mat_a:%2d ×%2d\" % mat_a.shape)"
   ]
  },
  {
   "cell_type": "markdown",
   "metadata": {},
   "source": [
    "也可以只用size属性查看其大小："
   ]
  },
  {
   "cell_type": "code",
   "execution_count": 14,
   "metadata": {},
   "outputs": [
    {
     "name": "stdout",
     "output_type": "stream",
     "text": [
      "Dimension of vec_a: 9\n",
      "Dimension of vec_b: 9\n",
      "Dimension of mat_a: 9\n"
     ]
    }
   ],
   "source": [
    "print(\"Dimension of vec_a:%2d\" % vec_a.size)\n",
    "print(\"Dimension of vec_b:%2d\" % vec_b.size)\n",
    "print(\"Dimension of mat_a:%2d\" % mat_a.size)"
   ]
  },
  {
   "cell_type": "markdown",
   "metadata": {},
   "source": [
    "此外，有时我们还需要拼接两个矩阵，此时需要使用np.concatenate、np.vstack、np.hstack三个方法。\n",
    "\n",
    "np.concatenate方法用于拼接向量，比如："
   ]
  },
  {
   "cell_type": "code",
   "execution_count": 15,
   "metadata": {},
   "outputs": [
    {
     "name": "stdout",
     "output_type": "stream",
     "text": [
      "[1 2 3 4 5 6 7 8 9]\n"
     ]
    }
   ],
   "source": [
    "a=np.array([1,2,3])\n",
    "b=np.array([4,5])\n",
    "c=np.array([6,7,8,9])\n",
    "vec=np.concatenate([a,b,c])\n",
    "print(vec)"
   ]
  },
  {
   "cell_type": "markdown",
   "metadata": {},
   "source": [
    "np.vstack用于竖直拼接矩阵，hstack用于水平拼接举着，比如："
   ]
  },
  {
   "cell_type": "code",
   "execution_count": 16,
   "metadata": {},
   "outputs": [
    {
     "name": "stdout",
     "output_type": "stream",
     "text": [
      "mat_a:\n",
      " [[ 0.  1.  2.]\n",
      " [ 3.  4.  5.]\n",
      " [ 6.  7.  8.]]\n",
      "mat_b:\n",
      " [[ 10.  11.  12.]\n",
      " [ 13.  14.  15.]\n",
      " [ 16.  17.  18.]]\n",
      "mat_hab:\n",
      " [[  0.   1.   2.  10.  11.  12.]\n",
      " [  3.   4.   5.  13.  14.  15.]\n",
      " [  6.   7.   8.  16.  17.  18.]]\n",
      "mat_hab:\n",
      " [[  0.   1.   2.]\n",
      " [  3.   4.   5.]\n",
      " [  6.   7.   8.]\n",
      " [ 10.  11.  12.]\n",
      " [ 13.  14.  15.]\n",
      " [ 16.  17.  18.]]\n"
     ]
    }
   ],
   "source": [
    "mat_a=np.linspace(0,8,9).reshape(3,3)\n",
    "mat_b=np.linspace(10,18,9).reshape(3,3)\n",
    "print(\"mat_a:\\n\",mat_a)\n",
    "print(\"mat_b:\\n\",mat_b)\n",
    "mat_hab=np.hstack([mat_a,mat_b])\n",
    "print(\"mat_hab:\\n\",mat_hab)\n",
    "mat_vab=np.vstack([mat_a,mat_b])\n",
    "print(\"mat_hab:\\n\",mat_vab)"
   ]
  },
  {
   "cell_type": "markdown",
   "metadata": {},
   "source": [
    "## 随机数生成\n",
    "\n",
    "科学计算中很多算法都依赖于随机数的生成，比如数值积分计算的Monte Carlo法、MCMC等方法。在Python中，自带了numpy.random包，可以用来生成随机数。\n",
    "\n",
    "为了使用numpy.random，必须先导入：\n",
    "```python\n",
    "import numpy.random as nprd\n",
    "```\n",
    "\n",
    "接下来，就可以直接使用了。比如，\n",
    "\n",
    "* `nprd.random(n)` 产生一个 n 维向量，每个分量都服从均匀分布的随机数；\n",
    "* `nprd.randn(n)` 产生一个 n 维向量，每个分量都服从正态分布的随机数；\n",
    "* `nprd.choice(a)` 从向量 a 中随机抽取一个元素\n",
    "\n",
    "......\n",
    "\n",
    "具体随机数列表可以查看 [numpy - random number](https://docs.scipy.org/doc/numpy-1.16.1/reference/routines.random.html)。"
   ]
  },
  {
   "cell_type": "markdown",
   "metadata": {},
   "source": [
    "## 向量函数\n",
    "\n",
    "在此之前，我们曾经介绍过使用 Python 中自带的 `math.exp()`、`math.sin()`、`math.cos()` 等函数。现在想象以下，为了计算一个向量每个分量的指数函数，我们不得不写一个循环："
   ]
  },
  {
   "cell_type": "code",
   "execution_count": 17,
   "metadata": {},
   "outputs": [
    {
     "name": "stdout",
     "output_type": "stream",
     "text": [
      "[  2.71828183   7.3890561   20.08553692]\n"
     ]
    }
   ],
   "source": [
    "import math\n",
    "a=np.array([1,2,3])\n",
    "b=np.array([math.exp(i) for i in a])\n",
    "print(b)"
   ]
  },
  {
   "cell_type": "markdown",
   "metadata": {},
   "source": [
    "然而，Python 的循环非常的缓慢，如果数据量巨大，以上做法非常耗时。幸运的是，**NumPy** 为我们提供了非常强大的函数功能，比如："
   ]
  },
  {
   "cell_type": "code",
   "execution_count": 18,
   "metadata": {},
   "outputs": [
    {
     "name": "stdout",
     "output_type": "stream",
     "text": [
      "a= [ 1.   0.5  3. ]\n",
      "cos(a)= [ 0.54030231  0.87758256 -0.9899925 ]\n",
      "exp(a)= [  2.71828183   1.64872127  20.08553692]\n",
      "ln(a)= [ 0.         -0.69314718  1.09861229]\n",
      "abs(a)= [ 1.   0.5  3. ]\n"
     ]
    }
   ],
   "source": [
    "a=np.array([1,0.5,3])\n",
    "print('a=',a)\n",
    "print('cos(a)=',np.cos(a))\n",
    "print('exp(a)=',np.exp(a))\n",
    "print('ln(a)=',np.log(a))\n",
    "print('abs(a)=',np.abs(a))"
   ]
  },
  {
   "cell_type": "markdown",
   "metadata": {},
   "source": [
    "函数列表可以从 [Universal functions (ufunc)](https://docs.scipy.org/doc/numpy-1.16.1/reference/ufuncs.html) 中找到。"
   ]
  },
  {
   "cell_type": "markdown",
   "metadata": {},
   "source": [
    "此外，NumPy 还提供了方便的数据加总函数，比如求和、平均数、最大值、最小值、中位数等。\n",
    "\n",
    "比如，以下代码中，我们随机产生了一组正态分布的数据，并计算了其和和、平均数、最大值、最小值、中位数、四分位数："
   ]
  },
  {
   "cell_type": "code",
   "execution_count": 5,
   "metadata": {},
   "outputs": [
    {
     "name": "stdout",
     "output_type": "stream",
     "text": [
      "和         ：   10.9811\n",
      "均值        ：    0.0110\n",
      "最大值       ：    3.6534\n",
      "最大值索引     ：       664\n",
      "最小值       ：   -3.4083\n",
      "最小值索引     ：        91\n",
      "中位数       ：    0.0322\n",
      "上四分位数     ：    0.6480\n",
      "下四分位数     ：   -0.6401\n",
      "标准差       ：    0.9673\n",
      "方差        ：    0.9356\n"
     ]
    }
   ],
   "source": [
    "import numpy as np\n",
    "import numpy.random as nprd\n",
    "\n",
    "a = nprd.randn(1000)\n",
    "\n",
    "print(\"%-10s：%10.4f\" % (\"和\", np.sum(a)))\n",
    "print(\"%-10s：%10.4f\" % (\"均值\", np.mean(a)))\n",
    "print(\"%-10s：%10.4f\" % (\"最大值\", np.max(a)))\n",
    "print(\"%-10s：%10d\"   % (\"最大值索引\", np.argmax(a)))\n",
    "print(\"%-10s：%10.4f\" % (\"最小值\", np.min(a)))\n",
    "print(\"%-10s：%10d\"   % (\"最小值索引\", np.argmin(a)))\n",
    "print(\"%-10s：%10.4f\" % (\"中位数\", np.median(a)))\n",
    "print(\"%-10s：%10.4f\" % (\"上四分位数\", np.percentile(a, 75)))\n",
    "print(\"%-10s：%10.4f\" % (\"下四分位数\", np.percentile(a, 25)))\n",
    "print(\"%-10s：%10.4f\" % (\"标准差\", np.std(a)))\n",
    "print(\"%-10s：%10.4f\" % (\"方差\", np.var(a)))"
   ]
  },
  {
   "cell_type": "markdown",
   "metadata": {},
   "source": [
    "不过，以上代码可能会有问题，如果向量中存在缺失值（比如NaN），以上函数也会计算出NaN。为了避免这一个问题，可以使用以上程序的安全版本："
   ]
  },
  {
   "cell_type": "code",
   "execution_count": 6,
   "metadata": {},
   "outputs": [
    {
     "name": "stdout",
     "output_type": "stream",
     "text": [
      "和：10.981102\n",
      "均值：0.010981\n",
      "最大值：3.653389\n",
      "最大值索引：664.000000\n",
      "最小值：-3.408319\n",
      "最小值索引：91.000000\n",
      "中位数：0.032241\n",
      "上四分位数：0.648012\n",
      "上四分位数：-0.640122\n",
      "标准差：0.967257\n",
      "方差：0.935585\n"
     ]
    }
   ],
   "source": [
    "print(\"%s：%f\" % (\"和\",np.nansum(a)))\n",
    "print(\"%s：%f\" % (\"均值\",np.nanmean(a)))\n",
    "print(\"%s：%f\" % (\"最大值\",np.nanmax(a)))\n",
    "print(\"%s：%f\" % (\"最大值索引\",np.nanargmax(a)))\n",
    "print(\"%s：%f\" % (\"最小值\",np.nanmin(a)))\n",
    "print(\"%s：%f\" % (\"最小值索引\",np.nanargmin(a)))\n",
    "print(\"%s：%f\" % (\"中位数\",np.nanmedian(a)))\n",
    "print(\"%s：%f\" % (\"上四分位数\",np.nanpercentile(a,75)))\n",
    "print(\"%s：%f\" % (\"上四分位数\",np.nanpercentile(a,25)))\n",
    "print(\"%s：%f\" % (\"标准差\",np.nanstd(a)))\n",
    "print(\"%s：%f\" % (\"方差\",np.nanvar(a)))"
   ]
  },
  {
   "cell_type": "markdown",
   "metadata": {},
   "source": [
    "此外还有两个特殊的函数：numpy.any()函数用于判断一个逻辑向量（其值为True/False）是否有True；而numpy.all()用于判断逻辑向量是否全为真，比如："
   ]
  },
  {
   "cell_type": "code",
   "execution_count": 21,
   "metadata": {},
   "outputs": [
    {
     "name": "stdout",
     "output_type": "stream",
     "text": [
      "True\n",
      "False\n",
      "True\n",
      "False\n"
     ]
    }
   ],
   "source": [
    "vec_a=np.array([1,2,3])\n",
    "print((vec_a==2).any())\n",
    "print((vec_a==5).any())\n",
    "vec_b=np.array([1,2,3])\n",
    "print((vec_a==vec_b).all())\n",
    "vec_b=np.array([1,2,4])\n",
    "print((vec_a==vec_b).all())"
   ]
  },
  {
   "cell_type": "markdown",
   "metadata": {},
   "source": [
    "## SciPy 简介\n",
    "\n",
    "`SciPy` 在 `NumPy` 的基础扩展了一些用于数值计算的高级工具，比如：\n",
    "\n",
    "* `scipy.special`：特殊函数，包括gamma函数、beta函数、各种统计函数、erf函数等等，都可以从这里找到\n",
    "* `scipy.optimize`：提供了最优化方法\n",
    "* `scipy.sparse`：稀疏矩阵\n",
    "* `scipy.interpolate`：插值\n",
    "* `scipy.integrate`：积分和常微分方程\n",
    "* `scipy.fftpack`：快速傅里叶变换\n",
    "* `scipy.stats`：常用的统计函数\n",
    "\n",
    "......\n",
    "\n",
    "在此我们不再赘述，如有需要，可以参考 [SciPy User Guide](https://docs.scipy.org/doc/scipy/tutorial/index.html)。我们也会在接下来通过实例的方式稍微介绍SciPy的用法。"
   ]
  }
 ],
 "metadata": {
  "kernelspec": {
   "display_name": "base",
   "language": "python",
   "name": "python3"
  },
  "language_info": {
   "codemirror_mode": {
    "name": "ipython",
    "version": 3
   },
   "file_extension": ".py",
   "mimetype": "text/x-python",
   "name": "python",
   "nbconvert_exporter": "python",
   "pygments_lexer": "ipython3",
   "version": "3.12.7"
  }
 },
 "nbformat": 4,
 "nbformat_minor": 2
}
