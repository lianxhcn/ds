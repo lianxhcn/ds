{
 "cells": [
  {
   "cell_type": "markdown",
   "id": "3b21fde9",
   "metadata": {},
   "source": [
    "# 数据获取和读入"
   ]
  },
  {
   "cell_type": "markdown",
   "id": "1bd8103b",
   "metadata": {},
   "source": [
    "## 数据来源"
   ]
  },
  {
   "cell_type": "markdown",
   "id": "2c937942",
   "metadata": {},
   "source": [
    "## 读取数据\n",
    "\n",
    "### 列表和数据框\n",
    "\n",
    "Python 提供了多种数据结构来存储和处理数据，其中最常用的是列表（list）和数据框（DataFrame）。列表是一个有序的元素集合，而数据框是一个二维的表格数据结构，类似于电子表格或数据库表。\n",
    "\n",
    "如果我们的原始数据是 .csv, xlsx 或 .txt 文件，我们可以使用 pandas 库的 `read_csv()`、`read_excel()` 或 `read_table()` 函数。\n",
    "\n",
    "### 读取 CSV 文件\n",
    "\n",
    "CSV 文件（Comma-Separated Values）是一种常见的文本文件格式，存储的数据通常满足「清洁数据」的要求，即每一行代表一条记录，每一列代表一个字段。\n",
    "\n",
    "有些 CSV 文件可能包含标题行（header），即第一行是列名，而有些则没有。我们可以通过 pandas 库的 `read_csv()` 函数来读取这些文件，并指定是否包含标题行。\n",
    "\n",
    "如下是几个典型的 CSV 文件存储结构示例\n",
    "\n",
    "- 结构 1：没有标题行\n",
    "- 结构 2：首行为变量名\n",
    "- 结构 3：首行为变量名，第二行取值单位\n",
    "- 结构 4：首行为变量名，第二行取值单位，第三行为注释\n",
    "\n",
    "上述结构可以统一为一种结构，即任何 CSV 文件都可以分为 head （标题行）和 body（数据行）两部分。head 部分包含列名和其他元数据，body 部分包含实际的数据。使用 pandas 库的 `read_csv()` 函数时，我们可以通过参数来指定是否包含标题行，以及如何处理其他元数据。\n",
    "\n",
    "`read_csv()` 函数的常用输入项和设定包括：\n",
    "\n",
    "- `filepath_or_buffer`：文件路径或对象，指定要读取的 CSV 文件。\n",
    "- `sep`：分隔符，默认为逗号（`,`），可以指定其他分隔符，如制表符（`\\t`）。\n",
    "- `header`：指定标题行的位置，默认为 0（第一行），可以设置为 None 表示没有标题行。  \n",
    "- `names`：指定列名列表，如果文件没有标题行，可以通过此参数提供列名。\n",
    "- `index_col`：指定哪一列作为行索引，默认为 None。\n",
    "- `usecols`：指定要读取的列，可以是列名列表或列索引列表。\n",
    "- `dtype`：指定列的数据类型，可以是字典形式，键为列名，值为数据类型。\n",
    "- `skiprows`：跳过前几行，常用于跳过注释或元数据行。\n",
    "- `nrows`：指定读取的行数，常用于只读取部分数据。\n",
    "- `na_values`：指定哪些值应被视为缺失值。\n",
    "- `parse_dates`：指定哪些列应解析为日期类型。\n",
    "- `encoding`：指定文件的编码格式，常用的有 'utf-8'、'latin1' 等。\n",
    "- `engine`：指定解析引擎，默认为 'c'，可以设置为 'python' 以使用 Python 引擎。\n",
    "\n"
   ]
  },
  {
   "cell_type": "markdown",
   "id": "f7b85620",
   "metadata": {},
   "source": [
    "\n",
    "\n",
    "\n",
    "### .xlsx 还是 .csv？\n",
    "\n",
    "> [ChatGPT](https://chatgpt.com/share/6834832e-63f0-8005-b3f8-efe7eecc8b43)，[simple-version](https://chatgpt.com/share/68348349-9944-8005-abbc-c03b27f613a1)\n",
    "\n",
    "在数据分析中，经常会遇到 Excel (.xlsx) 和 CSV (.csv) 两种数据文件。实际工作中，如果仅考虑数据处理效率，**.csv 格式比 .xlsx 格式在 Python 中的读入速度快得多**。这是因为 .csv 本质上是纯文本文件，pandas 只需顺序解析文本；而 .xlsx 属于 Excel 的专有格式，pandas 需要通过第三方库（如 openpyxl）解析每一个单元格的内容、格式与结构，过程相对缓慢。\n",
    "\n",
    "通常，同样内容的数据，.csv 文件几秒即可读入，而 .xlsx 文件可能需要几十秒甚至更久，尤其在数据量较大或有复杂格式时更为明显。因此，对于不存在多个子表和嵌套表格的情形，推荐的做法是——**优先将 Excel 文件另存为 .csv，再用 pandas 读取**。如果只拿到 .xlsx 文件，可以用 [xlsx2csv](https://github.com/dilshod/xlsx2csv) 这样的工具一键转换为 .csv，然后用如下代码高效读入：\n",
    "\n",
    "```python\n",
    "from xlsx2csv import Xlsx2csv\n",
    "import pandas as pd\n",
    "\n",
    "# 转换 Excel 为 CSV\n",
    "Xlsx2csv(\"your_file.xlsx\", outputencoding=\"utf-8\").convert(\"your_file.csv\")\n",
    "# 用 pandas 读取\n",
    "df = pd.read_csv(\"your_file.csv\", dtype=str)\n",
    "```\n",
    "\n",
    "在大文件或自动化处理场景下，这种方法可以将数据读入时间从几十秒缩短到几秒，极大提升数据处理的效率与稳定性。因此，**推荐优先使用 .csv 格式，作为数据分析的首选文件格式**。\n"
   ]
  },
  {
   "cell_type": "markdown",
   "id": "fbd71502",
   "metadata": {},
   "source": []
  },
  {
   "cell_type": "markdown",
   "id": "4248a8da",
   "metadata": {},
   "source": []
  },
  {
   "cell_type": "markdown",
   "id": "172c4848",
   "metadata": {},
   "source": []
  }
 ],
 "metadata": {
  "language_info": {
   "name": "python"
  }
 },
 "nbformat": 4,
 "nbformat_minor": 5
}
