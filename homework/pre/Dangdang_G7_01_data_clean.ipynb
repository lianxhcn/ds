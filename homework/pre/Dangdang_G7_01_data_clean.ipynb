{
 "cells": [
  {
   "cell_type": "markdown",
   "metadata": {},
   "source": [
    "# 当当网-G7-01"
   ]
  },
  {
   "cell_type": "markdown",
   "metadata": {},
   "source": [
    "## 数据清洗\n",
    "\n",
    "* 用于清洗data_raw中的原始数据\n",
    "  * clean_price(): 处理价格数据，去除¥符号并转换为浮点数** 【让后续更方便分析，本次分析全部默认为人民币】*\n",
    "  * clean_comments(): 处理评论数据，转换为整数\n",
    "  * clean_year(): 处理出版年份，提取年份并转换为整数\n",
    "* 清洗后的数据会自动存放到data_clean中"
   ]
  },
  {
   "cell_type": "code",
   "execution_count": 23,
   "metadata": {},
   "outputs": [],
   "source": [
    "# 第一个单元格\n",
    "import pandas as pd\n",
    "import numpy as np\n",
    "import os"
   ]
  },
  {
   "cell_type": "code",
   "execution_count": 24,
   "metadata": {},
   "outputs": [
    {
     "name": "stdout",
     "output_type": "stream",
     "text": [
      "原始数据形状： (50, 8)\n",
      "\n",
      "原始数据前5行：\n"
     ]
    },
    {
     "data": {
      "text/html": [
       "<div>\n",
       "<style scoped>\n",
       "    .dataframe tbody tr th:only-of-type {\n",
       "        vertical-align: middle;\n",
       "    }\n",
       "\n",
       "    .dataframe tbody tr th {\n",
       "        vertical-align: top;\n",
       "    }\n",
       "\n",
       "    .dataframe thead th {\n",
       "        text-align: right;\n",
       "    }\n",
       "</style>\n",
       "<table border=\"1\" class=\"dataframe\">\n",
       "  <thead>\n",
       "    <tr style=\"text-align: right;\">\n",
       "      <th></th>\n",
       "      <th>title</th>\n",
       "      <th>author</th>\n",
       "      <th>year</th>\n",
       "      <th>publisher</th>\n",
       "      <th>review_count</th>\n",
       "      <th>original_price</th>\n",
       "      <th>discounted_price</th>\n",
       "      <th>页面排名</th>\n",
       "    </tr>\n",
       "  </thead>\n",
       "  <tbody>\n",
       "    <tr>\n",
       "      <th>0</th>\n",
       "      <td>小学生Python创意编程（视频教学版）</td>\n",
       "      <td>刘凤飞</td>\n",
       "      <td>2024-01-01</td>\n",
       "      <td>清华大学出版社</td>\n",
       "      <td>7332条评论</td>\n",
       "      <td>¥89.00</td>\n",
       "      <td>¥84.60</td>\n",
       "      <td>1</td>\n",
       "    </tr>\n",
       "    <tr>\n",
       "      <th>1</th>\n",
       "      <td>Python编程从入门到实践 第3版</td>\n",
       "      <td>埃里克·马瑟斯</td>\n",
       "      <td>2023-05-01</td>\n",
       "      <td>人民邮电出版社</td>\n",
       "      <td>20216条评论</td>\n",
       "      <td>¥109.80</td>\n",
       "      <td>¥69.80</td>\n",
       "      <td>2</td>\n",
       "    </tr>\n",
       "    <tr>\n",
       "      <th>2</th>\n",
       "      <td>Python股票量化交易从入门到实践</td>\n",
       "      <td>袁霄</td>\n",
       "      <td>2021-07-01</td>\n",
       "      <td>人民邮电出版社</td>\n",
       "      <td>4498条评论</td>\n",
       "      <td>¥99.80</td>\n",
       "      <td>¥94.80</td>\n",
       "      <td>3</td>\n",
       "    </tr>\n",
       "    <tr>\n",
       "      <th>3</th>\n",
       "      <td>Python从入门到精通（第3版）</td>\n",
       "      <td>明日科技</td>\n",
       "      <td>2023-06-01</td>\n",
       "      <td>清华大学出版社</td>\n",
       "      <td>2438条评论</td>\n",
       "      <td>¥89.80</td>\n",
       "      <td>¥85.30</td>\n",
       "      <td>4</td>\n",
       "    </tr>\n",
       "    <tr>\n",
       "      <th>4</th>\n",
       "      <td>深度学习入门 基于Python的理论与实现</td>\n",
       "      <td>斋藤康毅</td>\n",
       "      <td>2021-05-01</td>\n",
       "      <td>人民邮电出版社</td>\n",
       "      <td>14356条评论</td>\n",
       "      <td>¥69.80</td>\n",
       "      <td>¥39.80</td>\n",
       "      <td>5</td>\n",
       "    </tr>\n",
       "  </tbody>\n",
       "</table>\n",
       "</div>"
      ],
      "text/plain": [
       "                   title   author        year publisher review_count  \\\n",
       "0   小学生Python创意编程（视频教学版）      刘凤飞  2024-01-01   清华大学出版社      7332条评论   \n",
       "1     Python编程从入门到实践 第3版  埃里克·马瑟斯  2023-05-01   人民邮电出版社     20216条评论   \n",
       "2     Python股票量化交易从入门到实践       袁霄  2021-07-01   人民邮电出版社      4498条评论   \n",
       "3      Python从入门到精通（第3版）     明日科技  2023-06-01   清华大学出版社      2438条评论   \n",
       "4  深度学习入门 基于Python的理论与实现     斋藤康毅  2021-05-01   人民邮电出版社     14356条评论   \n",
       "\n",
       "  original_price discounted_price  页面排名  \n",
       "0         ¥89.00           ¥84.60     1  \n",
       "1        ¥109.80           ¥69.80     2  \n",
       "2         ¥99.80           ¥94.80     3  \n",
       "3         ¥89.80           ¥85.30     4  \n",
       "4         ¥69.80           ¥39.80     5  "
      ]
     },
     "execution_count": 24,
     "metadata": {},
     "output_type": "execute_result"
    }
   ],
   "source": [
    "# 第二个单元格\n",
    "# 读取原始数据\n",
    "df = pd.read_excel('data_raw/当当网Python书籍销量排行_原始数据.xlsx')\n",
    "print(\"原始数据形状：\", df.shape)\n",
    "print(\"\\n原始数据前5行：\")\n",
    "df.head()"
   ]
  },
  {
   "cell_type": "code",
   "execution_count": 25,
   "metadata": {},
   "outputs": [
    {
     "name": "stdout",
     "output_type": "stream",
     "text": [
      "缺失值统计：\n"
     ]
    },
    {
     "data": {
      "text/plain": [
       "title               0\n",
       "author              0\n",
       "year                0\n",
       "publisher           0\n",
       "review_count        0\n",
       "original_price      0\n",
       "discounted_price    0\n",
       "页面排名                0\n",
       "dtype: int64"
      ]
     },
     "execution_count": 25,
     "metadata": {},
     "output_type": "execute_result"
    }
   ],
   "source": [
    "# 第三个单元格\n",
    "# 检查缺失值\n",
    "print(\"缺失值统计：\")\n",
    "df.isnull().sum()"
   ]
  },
  {
   "cell_type": "code",
   "execution_count": 26,
   "metadata": {},
   "outputs": [
    {
     "name": "stdout",
     "output_type": "stream",
     "text": [
      "处理价格数据...\n",
      "处理评论数据...\n",
      "处理出版年份...\n",
      "删除重复数据...\n",
      "\n",
      "数据清洗完成！\n",
      "原始数据条数：50\n"
     ]
    }
   ],
   "source": [
    "# 第四个单元格\n",
    "# 数据清洗\n",
    "\n",
    "# 1. 处理价格数据\n",
    "def clean_price(price):\n",
    "    \"\"\"清洗价格数据，去除¥符号并转换为浮点数\"\"\"\n",
    "    if pd.isna(price) or price == '暂无':\n",
    "        return np.nan\n",
    "    try:\n",
    "        # 移除¥符号和空白字符，转换为浮点数\n",
    "        return float(str(price).replace('¥', '').strip())\n",
    "    except:\n",
    "        return np.nan\n",
    "\n",
    "def clean_comments(comments):\n",
    "    \"\"\"清洗评论数据，转换为整数\"\"\"\n",
    "    if pd.isna(comments) or comments == '暂无':\n",
    "        return 0\n",
    "    try:\n",
    "        # 移除可能的空白字符并转换为整数\n",
    "        return int(str(comments).replace('条评论', '').strip())\n",
    "    except:\n",
    "        return 0\n",
    "\n",
    "def clean_year(year):\n",
    "    \"\"\"清洗出版年份，提取年份并转换为整数\"\"\"\n",
    "    if pd.isna(year) or year == '暂无':\n",
    "        return np.nan\n",
    "    try:\n",
    "        # 假设年份格式为'YYYY-MM-DD'或'YYYY'，提取前4位\n",
    "        return int(str(year)[:4])\n",
    "    except:\n",
    "        return np.nan\n",
    "\n",
    "# 应用清洗函数\n",
    "print(\"处理价格数据...\")\n",
    "df['original_price'] = df['original_price'].apply(clean_price)\n",
    "df['discounted_price'] = df['discounted_price'].apply(clean_price)\n",
    "\n",
    "print(\"处理评论数据...\")\n",
    "df['review_count'] = df['review_count'].apply(clean_comments)\n",
    "\n",
    "print(\"处理出版年份...\")\n",
    "df['year'] = df['year'].apply(clean_year)\n",
    "\n",
    "print(\"删除重复数据...\")\n",
    "df = df.drop_duplicates(subset=['title', 'author', 'publisher'])\n",
    "\n",
    "# 重置索引\n",
    "df = df.reset_index(drop=True)\n",
    "\n",
    "print(\"\\n数据清洗完成！\")\n",
    "print(f\"原始数据条数：{len(df)}\")"
   ]
  },
  {
   "cell_type": "code",
   "execution_count": 27,
   "metadata": {},
   "outputs": [
    {
     "name": "stdout",
     "output_type": "stream",
     "text": [
      "\n",
      "清洗后的数据信息：\n",
      "<class 'pandas.core.frame.DataFrame'>\n",
      "RangeIndex: 50 entries, 0 to 49\n",
      "Data columns (total 8 columns):\n",
      " #   Column            Non-Null Count  Dtype  \n",
      "---  ------            --------------  -----  \n",
      " 0   title             50 non-null     object \n",
      " 1   author            50 non-null     object \n",
      " 2   year              38 non-null     float64\n",
      " 3   publisher         50 non-null     object \n",
      " 4   review_count      50 non-null     int64  \n",
      " 5   original_price    47 non-null     float64\n",
      " 6   discounted_price  49 non-null     float64\n",
      " 7   页面排名              50 non-null     int64  \n",
      "dtypes: float64(3), int64(2), object(3)\n",
      "memory usage: 3.3+ KB\n",
      "\n",
      "清洗后的数据样例：\n",
      "\n",
      "清洗后的数据统计信息：\n"
     ]
    },
    {
     "data": {
      "text/html": [
       "<div>\n",
       "<style scoped>\n",
       "    .dataframe tbody tr th:only-of-type {\n",
       "        vertical-align: middle;\n",
       "    }\n",
       "\n",
       "    .dataframe tbody tr th {\n",
       "        vertical-align: top;\n",
       "    }\n",
       "\n",
       "    .dataframe thead th {\n",
       "        text-align: right;\n",
       "    }\n",
       "</style>\n",
       "<table border=\"1\" class=\"dataframe\">\n",
       "  <thead>\n",
       "    <tr style=\"text-align: right;\">\n",
       "      <th></th>\n",
       "      <th>year</th>\n",
       "      <th>review_count</th>\n",
       "      <th>original_price</th>\n",
       "      <th>discounted_price</th>\n",
       "      <th>页面排名</th>\n",
       "    </tr>\n",
       "  </thead>\n",
       "  <tbody>\n",
       "    <tr>\n",
       "      <th>count</th>\n",
       "      <td>38.000000</td>\n",
       "      <td>50.0</td>\n",
       "      <td>47.000000</td>\n",
       "      <td>49.000000</td>\n",
       "      <td>50.00000</td>\n",
       "    </tr>\n",
       "    <tr>\n",
       "      <th>mean</th>\n",
       "      <td>2020.842105</td>\n",
       "      <td>0.0</td>\n",
       "      <td>96.878723</td>\n",
       "      <td>80.891224</td>\n",
       "      <td>25.50000</td>\n",
       "    </tr>\n",
       "    <tr>\n",
       "      <th>std</th>\n",
       "      <td>1.763386</td>\n",
       "      <td>0.0</td>\n",
       "      <td>39.163514</td>\n",
       "      <td>36.547802</td>\n",
       "      <td>14.57738</td>\n",
       "    </tr>\n",
       "    <tr>\n",
       "      <th>min</th>\n",
       "      <td>2019.000000</td>\n",
       "      <td>0.0</td>\n",
       "      <td>39.800000</td>\n",
       "      <td>37.800000</td>\n",
       "      <td>1.00000</td>\n",
       "    </tr>\n",
       "    <tr>\n",
       "      <th>25%</th>\n",
       "      <td>2019.250000</td>\n",
       "      <td>0.0</td>\n",
       "      <td>69.800000</td>\n",
       "      <td>55.300000</td>\n",
       "      <td>13.25000</td>\n",
       "    </tr>\n",
       "    <tr>\n",
       "      <th>50%</th>\n",
       "      <td>2020.000000</td>\n",
       "      <td>0.0</td>\n",
       "      <td>89.800000</td>\n",
       "      <td>85.300000</td>\n",
       "      <td>25.50000</td>\n",
       "    </tr>\n",
       "    <tr>\n",
       "      <th>75%</th>\n",
       "      <td>2022.000000</td>\n",
       "      <td>0.0</td>\n",
       "      <td>108.000000</td>\n",
       "      <td>94.800000</td>\n",
       "      <td>37.75000</td>\n",
       "    </tr>\n",
       "    <tr>\n",
       "      <th>max</th>\n",
       "      <td>2024.000000</td>\n",
       "      <td>0.0</td>\n",
       "      <td>268.600000</td>\n",
       "      <td>255.200000</td>\n",
       "      <td>50.00000</td>\n",
       "    </tr>\n",
       "  </tbody>\n",
       "</table>\n",
       "</div>"
      ],
      "text/plain": [
       "              year  review_count  original_price  discounted_price      页面排名\n",
       "count    38.000000          50.0       47.000000         49.000000  50.00000\n",
       "mean   2020.842105           0.0       96.878723         80.891224  25.50000\n",
       "std       1.763386           0.0       39.163514         36.547802  14.57738\n",
       "min    2019.000000           0.0       39.800000         37.800000   1.00000\n",
       "25%    2019.250000           0.0       69.800000         55.300000  13.25000\n",
       "50%    2020.000000           0.0       89.800000         85.300000  25.50000\n",
       "75%    2022.000000           0.0      108.000000         94.800000  37.75000\n",
       "max    2024.000000           0.0      268.600000        255.200000  50.00000"
      ]
     },
     "execution_count": 27,
     "metadata": {},
     "output_type": "execute_result"
    }
   ],
   "source": [
    "# 第五个单元格\n",
    "# 查看清洗后的数据信息\n",
    "print(\"\\n清洗后的数据信息：\")\n",
    "df.info()\n",
    "\n",
    "print(\"\\n清洗后的数据样例：\")\n",
    "df.head()\n",
    "\n",
    "print(\"\\n清洗后的数据统计信息：\")\n",
    "df.describe()"
   ]
  },
  {
   "cell_type": "code",
   "execution_count": 28,
   "metadata": {},
   "outputs": [
    {
     "name": "stdout",
     "output_type": "stream",
     "text": [
      "清洗后的缺失值统计：\n"
     ]
    },
    {
     "data": {
      "text/plain": [
       "title                0\n",
       "author               0\n",
       "year                12\n",
       "publisher            0\n",
       "review_count         0\n",
       "original_price       3\n",
       "discounted_price     1\n",
       "页面排名                 0\n",
       "dtype: int64"
      ]
     },
     "execution_count": 28,
     "metadata": {},
     "output_type": "execute_result"
    }
   ],
   "source": [
    "# 第六个单元格\n",
    "# 检查清洗后的缺失值\n",
    "print(\"清洗后的缺失值统计：\")\n",
    "df.isnull().sum()"
   ]
  },
  {
   "cell_type": "code",
   "execution_count": 29,
   "metadata": {},
   "outputs": [
    {
     "name": "stdout",
     "output_type": "stream",
     "text": [
      "清洗后的数据已保存到：data_clean/python_books_clean.xlsx\n"
     ]
    }
   ],
   "source": [
    "# 第七个单元格\n",
    "# 保存清洗后的数据\n",
    "output_path = 'data_clean/python_books_clean.xlsx'\n",
    "df.to_excel(output_path, index=False)\n",
    "print(f\"清洗后的数据已保存到：{output_path}\")"
   ]
  },
  {
   "cell_type": "markdown",
   "metadata": {},
   "source": [
    "这些代码完成了以下数据清洗任务：\n",
    "* 处理价格数据：去除¥符号，转换为浮点数\n",
    "* 处理评论数：转换为整数，处理\"暂无\"等特殊情况\n",
    "* 处理出版年份：提取年份并转换为整数\n",
    "* 删除重复数据：基于书名、作者和出版社\n",
    "* 数据质量检查：查看清洗前后的数据统计和缺失值情况\n",
    "\n",
    "**如果出错**，请注意以下几点：\n",
    "确保您的文件路径正确（data_raw/当当网Python书籍销量排行_原始数据.xlsx）\n",
    "确保已安装所需的库（pandas, numpy）\n",
    "每个单元格都应该单独运行，按顺序执行\n",
    "如果遇到路径错误，请根据实际情况调整文件路径"
   ]
  }
 ],
 "metadata": {
  "kernelspec": {
   "display_name": "base",
   "language": "python",
   "name": "python3"
  },
  "language_info": {
   "codemirror_mode": {
    "name": "ipython",
    "version": 3
   },
   "file_extension": ".py",
   "mimetype": "text/x-python",
   "name": "python",
   "nbconvert_exporter": "python",
   "pygments_lexer": "ipython3",
   "version": "3.12.7"
  }
 },
 "nbformat": 4,
 "nbformat_minor": 2
}
