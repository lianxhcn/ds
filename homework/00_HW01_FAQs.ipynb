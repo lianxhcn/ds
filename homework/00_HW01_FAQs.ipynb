{
 "cells": [
  {
   "cell_type": "markdown",
   "id": "c948a8b3",
   "metadata": {},
   "source": [
    "# HW01 点评 \n",
    "\n",
    "我看了一些同学的作业，发现了一些问题，总结如下：\n",
    "\n",
    "- Python 环境配置问题\n",
    "- 文档的第一个 code cell，用于加载必要的库，设定路径等\n",
    "- Markdown 语法问题\n",
    "  - `##` 开头的文字是标题，通常字号都会很大\n",
    "  - 标题格式：用 `## 1. xxx`，不要写成 `##1. xxx` 或 `## 1.xxx`\n",
    "- 代码中文显示问题\n",
    "- 小数点后有效数字问题\n",
    "- 表格美观度\n",
    "  - `Win+R` >> `cmd` >> `pip install tabulate` \n",
    "- 图形尺寸问题：图形中的字号与正文中字号相当，或略小于正文字号"
   ]
  },
  {
   "cell_type": "markdown",
   "id": "7147ebb0",
   "metadata": {},
   "source": [
    "## Python 环境配置问题\n",
    "\n",
    "我在讲义中提供了 Anaconda 的安装方法，大家可以参考。\n",
    "\n",
    "- [6  Python：安装和环境配置](https://book.lianxh.cn/ds/body/01_1_install-Python-Anocanda.html)\n",
    "- [7  Python 安装常见问题](https://book.lianxh.cn/ds/body/01_2_install_FAQs.html)\n",
    "\n",
    "再分享几个我遇到过的问题，供大家参考（部分由 Lizzie 提供，Copilot 补充）：\n",
    "\n",
    "1. **在 mac 上安装 Anaconda 时遇到 `Permission denied` 问题**：可以在终端输入 `sudo chmod -R 777 /opt/anaconda3`，然后重新运行安装程序。  \n",
    "    **操作方法**：打开“终端” (快捷键 `Ctrl + ~`)，输入上述命令并回车，输入电脑密码后即可更改权限，然后重新运行 Anaconda 安装包。\n",
    "\n",
    "2. **Anaconda 的 silicon 和 intel 版本选择**：silicon 适用于 2020 年以后苹果芯片（M1/M2），intel 适用于老款 Intel 芯片，安装时注意区分。  \n",
    "    **操作方法**：在苹果电脑左上角点击“” > “关于本机”查看芯片类型，然后到 Anaconda 官网选择对应版本下载安装。\n",
    "\n",
    "3. **Anaconda Navigator 无法打开**：可在终端输入 `conda --version` 或 `conda list` 检查 conda 是否安装成功。如果命令可用，说明安装没问题，可以直接用终端管理环境和包。若需要图形界面，尝试更新或重装 Navigator。  \n",
    "    **操作方法**：在终端输入 `conda update anaconda-navigator` 更新，或用 `conda install anaconda-navigator` 重新安装。\n",
    "\n",
    "4. **matplotlib 字体设置问题**：如果用 `SimHei` 报 fontfamily 错误，说明系统缺少该字体。可尝试换成其他中文字体，或在系统中安装黑体。  \n",
    "    **操作方法**：在代码中尝试 `plt.rcParams['font.sans-serif'] = ['Microsoft YaHei']` 或 `['Arial Unicode MS']`，如仍报错，可在网上搜索对应字体下载安装。\n",
    "\n",
    "5. **Copilot 国内访问慢的替代方案**：如果 Copilot 访问速度慢，可以尝试使用豆包等国内 AI 工具，代码生成效果也不错。  \n",
    "    **操作方法**：搜索“豆包 AI”或其他国内 AI 编程助手，注册并使用即可。\n",
    "\n",
    "6. **Jupyter Notebook 中文显示乱码**：建议在代码块中设置合适的字体（如 `SimHei`），并确保系统已安装对应字体，避免中文乱码。  \n",
    "    **操作方法**：在代码块加入 `plt.rcParams['font.sans-serif'] = ['SimHei']`，如无效则安装黑体字体或更换为系统已有的中文字体。\n",
    "\n",
    "7. **包安装失败或网络问题**：遇到 pip 或 conda 安装包失败时，可以尝试更换国内镜像源（如清华、中科大等），提升下载速度和成功率。  \n",
    "    **操作方法**：  \n",
    "    - pip：`pip install 包名 -i https://pypi.tuna.tsinghua.edu.cn/simple`  \n",
    "    - conda：`conda config --add channels https://mirrors.tuna.tsinghua.edu.cn/anaconda/pkgs/free/` 并设置为默认。"
   ]
  },
  {
   "cell_type": "markdown",
   "id": "2b807842",
   "metadata": {},
   "source": [
    "## 第一个代码块：统一做基本设定\n",
    "\n",
    "好处是不用在后面重复多次设定，维护也相对直观。"
   ]
  },
  {
   "cell_type": "code",
   "execution_count": null,
   "id": "3d4b62a1",
   "metadata": {},
   "outputs": [],
   "source": [
    "# 基本设定\n",
    "\n",
    "import numpy as np\n",
    "import pandas as pd\n",
    "import matplotlib.pyplot as plt\n",
    "\n",
    "plt.rcParams['font.sans-serif'] = ['SimHei']  # 设置中文字体为黑体\n",
    "plt.rcParams['axes.unicode_minus'] = False    # 正常显示负号"
   ]
  },
  {
   "cell_type": "markdown",
   "id": "cba52c84",
   "metadata": {},
   "source": [
    "## 有效数字位数\n",
    "\n",
    "- 通常保留两位或三位有效数字即可\n",
    "- 如果数字本身很小，可以放大 100 倍或 1000 倍\n",
    "  - 例如：`0.00123` 可以写成 `0.123%` 或 `1.23e-3`"
   ]
  },
  {
   "cell_type": "code",
   "execution_count": null,
   "id": "3e033596",
   "metadata": {},
   "outputs": [
    {
     "name": "stdout",
     "output_type": "stream",
     "text": [
      "     x1    x2\n",
      "0  0.05  2.68\n",
      "1  0.46  4.22\n",
      "2 -0.47  2.08\n",
      "3  0.60  3.13\n",
      "4 -0.83  3.50\n",
      "--------------------\n",
      "       0     1     2     3     4\n",
      "x1  0.05  0.46 -0.47  0.60 -0.83\n",
      "x2  2.68  4.22  2.08  3.13  3.50\n"
     ]
    }
   ],
   "source": [
    "# 设置随机种子\n",
    "np.random.seed(888)\n",
    "\n",
    "# 参数\n",
    "N = 500\n",
    "mean = [0, 3]\n",
    "std = [1, 1.5]\n",
    "corr = 0.4\n",
    "\n",
    "# 协方差矩阵\n",
    "cov = [[std[0]**2, corr*std[0]*std[1]],\n",
    "       [corr*std[0]*std[1], std[1]**2]]\n",
    "\n",
    "# 生成数据\n",
    "data = np.random.multivariate_normal(mean, cov, N)\n",
    "\n",
    "# 存入数据框\n",
    "df = pd.DataFrame(data, columns=['x1', 'x2'])\n",
    "\n",
    "# 查看前几行\n",
    "print(df.head().round(2))    # 显示两位小数\n",
    "print('-' * 20)\n",
    "print(df.head().T.round(2))  # 转置"
   ]
  },
  {
   "cell_type": "code",
   "execution_count": null,
   "id": "13486004",
   "metadata": {},
   "outputs": [
    {
     "name": "stdout",
     "output_type": "stream",
     "text": [
      "    mean   std  median   min   max  skew  kurtosis\n",
      "x1  0.00  0.97    0.02 -2.81  2.58 -0.02     -0.11\n",
      "x2  3.09  1.48    3.13 -1.42  7.61  0.02      0.11\n"
     ]
    }
   ],
   "source": [
    "# 均值、标准差、中位数、最大值、最小值\n",
    "desc = df.describe().T\n",
    "desc['median'] = df.median()\n",
    "desc['skew'] = df.skew()\n",
    "desc['kurtosis'] = df.kurt()\n",
    "\n",
    "# 单行代码不要太宽，不便于阅读\n",
    "print(desc[['mean', 'std', 'median', \n",
    "            'min', 'max', 'skew', 'kurtosis']].round(2))"
   ]
  },
  {
   "cell_type": "markdown",
   "id": "39f96082",
   "metadata": {},
   "source": [
    "## 图片尺寸\n",
    "\n",
    "如果图片尺寸太大，一方面会占用了过多的空间，另一方面也会显得不精致。\n",
    "\n",
    "建议：图形中的字号与正文中字号相当，或略小于正文字号。"
   ]
  },
  {
   "cell_type": "code",
   "execution_count": null,
   "id": "2d151f09",
   "metadata": {},
   "outputs": [
    {
     "data": {
      "image/png": "[encoded data removed]",
      "text/plain": [
       "<Figure size 400x300 with 1 Axes>"
      ]
     },
     "metadata": {},
     "output_type": "display_data"
    }
   ],
   "source": [
    "plt.figure(figsize=(4, 3))  # 设置图形大小\n",
    "plt.hist(df['x1'], bins=30, color='skyblue', edgecolor='k')\n",
    "plt.title('x1的直方图')\n",
    "plt.xlabel('x1')\n",
    "plt.ylabel('频数')\n",
    "plt.show()"
   ]
  }
 ],
 "metadata": {
  "kernelspec": {
   "display_name": "base",
   "language": "python",
   "name": "python3"
  },
  "language_info": {
   "codemirror_mode": {
    "name": "ipython",
    "version": 3
   },
   "file_extension": ".py",
   "mimetype": "text/x-python",
   "name": "python",
   "nbconvert_exporter": "python",
   "pygments_lexer": "ipython3",
   "version": "3.12.7"
  }
 },
 "nbformat": 4,
 "nbformat_minor": 5
}
