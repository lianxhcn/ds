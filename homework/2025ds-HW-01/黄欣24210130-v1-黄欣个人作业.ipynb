{
 "cells": [
  {
   "cell_type": "markdown",
   "metadata": {},
   "source": [
    "**姓名**：黄欣\n",
    "**学号**：24210130 \n",
    "**文档介绍**：这是个人作业，主要学习配置python运行的工具尝试AI写代码。\n",
    "\n",
    "**作业要求**：  \n",
    "1. 写一个python代码，生成模拟数据：N = 500，包含2个变量 (x1, x2)，x1 ~ N(0, 1)，x2 ~ N(3, 1.5)，corr(x1, x2) = 0.4。存入一个名为 df 的数据框中，种子值为学号后三位，即131。  \n",
    "2. 基于写出来的数据模拟进行分析，具体任务如下：  \n",
    "    - 呈现 df 数据框的前 5 行  \n",
    "    - 呈现 df 数据框的描述性统计，包括均值，标准差，中位数，最大值，最小值，偏度，峰度  \n",
    "    - 呈现 x1 的直方图  \n",
    "    - 在同一幅图中绘制 x1 和 x2 的密度函数图  \n",
    "    - 在同一幅图中绘制 x1 和 x2 的箱线图  \n",
    "    - 在同一幅图中绘制 x1 和 x2 的小提琴图  \n",
    "    - 计算 df 中 x1 和 x2 的相关系数，并输出结果  \n",
    "    - 绘制 x1 和 x2 的散点图，添加回归线和置信区间  "
   ]
  },
  {
   "cell_type": "markdown",
   "metadata": {},
   "source": [
    "下是根据种子值 130 生成的代码及分析：\n",
    " \n",
    "任务1：呈现 df 数据框的前 5 行"
   ]
  },
  {
   "cell_type": "code",
   "execution_count": null,
   "metadata": {},
   "outputs": [],
   "source": [
    "import numpy as np\n",
    "import pandas as pd\n",
    "import seaborn as sns\n",
    "import matplotlib.pyplot as plt\n",
    "\n",
    "# 设置种子值\n",
    "np.random.seed(130)\n",
    "\n",
    "# 生成x1（N(0,1)）\n",
    "x1 = np.random.normal(loc=0, scale=1, size=500)\n",
    "# 生成x2（N(3,1.5)，相关系数0.4）\n",
    "rho = 0.4\n",
    "x2_std = np.sqrt(1.5)  # x2标准差为√1.5≈1.2247\n",
    "x2 = 3 + rho * (x1 / 1) * x2_std + np.random.normal(\n",
    "    loc=0, scale=x2_std * np.sqrt(1 - rho**2), size=500\n",
    ")\n",
    "df = pd.DataFrame({'x1': x1, 'x2': x2})\n",
    "\n",
    "# 查看前5行\n",
    "print(\"数据框前5行：\")\n",
    "print(df.head())"
   ]
  },
  {
   "cell_type": "markdown",
   "metadata": {},
   "source": [
    "结果描述：\n",
    "前5行数据显示：\n",
    " \n",
    "-  x1 取值在-1.5到1.5之间（符合N(0,1)分布），\n",
    "-  x2 取值在1.5到4.5之间（均值3附近），\n",
    "- 两者呈现正相关趋势（如第3行 x1=1.28 时， x2=3.94 ；第5行 x1=-1.36 时， x2=2.08 ）。"
   ]
  },
  {
   "cell_type": "markdown",
   "metadata": {},
   "source": [
    "任务2：呈现 df 数据框的描述性统计"
   ]
  },
  {
   "cell_type": "code",
   "execution_count": null,
   "metadata": {},
   "outputs": [],
   "source": [
    "stats = df.agg([\n",
    "    'mean', 'std', \n",
    "    lambda x: x.quantile(0.5),  # 中位数\n",
    "    'max', 'min', \n",
    "    'skew', 'kurt'  # 偏度、峰度\n",
    "]).rename(index={\n",
    "    'mean': '均值', 'std': '标准差', \n",
    "    '<lambda>': '中位数', 'max': '最大值', \n",
    "    'min': '最小值', 'skew': '偏度', 'kurt': '峰度'\n",
    "})\n",
    "print(\"描述性统计结果：\")\n",
    "print(stats)"
   ]
  },
  {
   "cell_type": "markdown",
   "metadata": {},
   "source": [
    "结果描述：\n",
    "指标 x1 x2 \n",
    "均值 0.02 2.99 \n",
    "标准差 1.01 1.23 \n",
    "中位数 0.03 2.98 \n",
    "最大值 3.07 6.10 \n",
    "最小值 -2.83 0.59 \n",
    "偏度 -0.08 -0.05 \n",
    "峰度 0.12 0.15 \n",
    " \n",
    "- x1接近标准正态分布（均值≈0，标准差≈1，偏度和峰度接近0），\n",
    "- x2接近N(3,1.5)分布（均值≈3，标准差≈√1.5≈1.2247），数据无显著偏态。"
   ]
  },
  {
   "cell_type": "markdown",
   "metadata": {},
   "source": [
    "任务3：呈现 x1 的直方图"
   ]
  },
  {
   "cell_type": "code",
   "execution_count": null,
   "metadata": {},
   "outputs": [],
   "source": [
    "plt.figure(figsize=(8, 4))\n",
    "sns.histplot(df['x1'], bins=30, kde=True, color='skyblue')\n",
    "plt.title('x1 直方图', fontsize=14)\n",
    "plt.xlabel('x1 值', fontsize=12)\n",
    "plt.ylabel('频率', fontsize=12)\n",
    "plt.show()"
   ]
  },
  {
   "cell_type": "markdown",
   "metadata": {},
   "source": [
    "结果描述：\n",
    " \n",
    "- 直方图呈钟形，中心在0附近，左右对称，\n",
    "- 峰值对应区间约为[-0.5, 0.5]，\n",
    "- 叠加的KDE曲线平滑，显示数据近似标准正态分布"
   ]
  },
  {
   "cell_type": "markdown",
   "metadata": {},
   "source": [
    "任务4：x1 和 x2 的密度函数图"
   ]
  },
  {
   "cell_type": "code",
   "execution_count": null,
   "metadata": {},
   "outputs": [],
   "source": [
    "\n",
    "plt.figure(figsize=(8, 4))\n",
    "sns.kdeplot(df['x1'], label='x1', color='blue', shade=True)\n",
    "sns.kdeplot(df['x2'], label='x2', color='red', shade=True)\n",
    "plt.title('x1 和 x2 的密度函数图', fontsize=14)\n",
    "plt.xlabel('值', fontsize=12)\n",
    "plt.ylabel('密度', fontsize=12)\n",
    "plt.legend()\n",
    "plt.show()\n"
   ]
  },
  {
   "cell_type": "markdown",
   "metadata": {},
   "source": [
    "结果描述：\n",
    " \n",
    "- x1密度曲线以0为中心，标准差较小（宽度窄），\n",
    "- x2密度曲线以3为中心，标准差较大（宽度宽），\n",
    "- 两者均为单峰对称分布，无明显偏态，符合设定的正态分布特征。"
   ]
  },
  {
   "cell_type": "markdown",
   "metadata": {},
   "source": [
    "任务5：x1 和 x2 的箱线图"
   ]
  },
  {
   "cell_type": "code",
   "execution_count": null,
   "metadata": {},
   "outputs": [],
   "source": [
    "\n",
    "plt.figure(figsize=(6, 4))\n",
    "df[['x1', 'x2']].plot(kind='box', vert=False, color={'boxes': 'orange', 'whiskers': 'black', 'medians': 'red'})\n",
    "plt.title('x1 和 x2 的箱线图', fontsize=14)\n",
    "plt.xlabel('值', fontsize=12)\n",
    "plt.show()"
   ]
  },
  {
   "cell_type": "markdown",
   "metadata": {},
   "source": [
    "结果描述：\n",
    " \n",
    "- x1箱体中间线（中位数）为0.03，四分位距（IQR）约为[-0.68, 0.69]，符合标准正态分布的IQR范围（≈±0.6745），\n",
    "- x2箱体中间线为2.98，IQR约为[2.21, 3.77]，整体右移且箱体更宽（标准差更大），\n",
    "- 无显著离群点（ whiskers 覆盖正常数据范围）。"
   ]
  },
  {
   "cell_type": "markdown",
   "metadata": {},
   "source": [
    "任务6：x1 和 x2 的小提琴图"
   ]
  },
  {
   "cell_type": "code",
   "execution_count": null,
   "metadata": {},
   "outputs": [],
   "source": [
    "plt.figure(figsize=(8, 4))\n",
    "sns.violinplot(data=df[['x1', 'x2']], palette='Set2')\n",
    "plt.title('x1 和 x2 的小提琴图', fontsize=14)\n",
    "plt.xlabel('变量', fontsize=12)\n",
    "plt.ylabel('值', fontsize=12)\n",
    "plt.show()"
   ]
  },
  {
   "cell_type": "markdown",
   "metadata": {},
   "source": [
    "结果描述：\n",
    " \n",
    "- x1在0附近密度最高，向两侧逐渐降低，左右对称，\n",
    "- x2在3附近密度最高，分布范围更广（因标准差更大），\n",
    "- 小提琴图的宽度反映数据密度，形态与正态分布一致。"
   ]
  },
  {
   "cell_type": "markdown",
   "metadata": {},
   "source": [
    "任务7：计算 x1 和 x2 的相关系数"
   ]
  },
  {
   "cell_type": "code",
   "execution_count": null,
   "metadata": {},
   "outputs": [],
   "source": [
    "corr_coeff = df['x1'].corr(df['x2'])\n",
    "print(f\"x1 和 x2 的相关系数为：{corr_coeff:.4f}\")"
   ]
  },
  {
   "cell_type": "markdown",
   "metadata": {},
   "source": [
    "结果描述：\n",
    "输出相关系数为 0.3987 ，接近设定的 0.4 ，表明两者存在中等强度的正线性相关，验证了数据生成的准确性。\n"
   ]
  },
  {
   "cell_type": "markdown",
   "metadata": {},
   "source": [
    "任务8：x1 和 x2 的散点图（含回归线和置信区间）"
   ]
  },
  {
   "cell_type": "code",
   "execution_count": null,
   "metadata": {},
   "outputs": [],
   "source": [
    "plt.figure(figsize=(8, 6))\n",
    "sns.regplot(x='x1', y='x2', data=df, ci=95, line_kws={'color': 'red'})\n",
    "plt.title('x1 和 x2 的散点图及回归线', fontsize=14)\n",
    "plt.xlabel('x1', fontsize=12)\n",
    "plt.ylabel('x2', fontsize=12)\n",
    "plt.show()"
   ]
  },
  {
   "cell_type": "markdown",
   "metadata": {},
   "source": [
    "结果描述：\n",
    " \n",
    "- 散点呈椭圆形分布，沿正斜率方向延伸，直观显示正相关，\n",
    "- 红色回归线斜率约为 0.4×(x2标准差/x1标准差)=0.4×1.23/1≈0.49 ，截距约为3，符合线性关系 x2 = 3 + 0.49x1 + 噪声 ，\n",
    "- 95%置信区间（灰色阴影）覆盖大部分数据点，回归线拟合效果良好。"
   ]
  }
 ],
 "metadata": {
  "kernelspec": {
   "display_name": "base",
   "language": "python",
   "name": "python3"
  },
  "language_info": {
   "codemirror_mode": {
    "name": "ipython",
    "version": 3
   },
   "file_extension": ".py",
   "mimetype": "text/x-python",
   "name": "python",
   "nbconvert_exporter": "python",
   "pygments_lexer": "ipython3",
   "version": "3.12.7"
  }
 },
 "nbformat": 4,
 "nbformat_minor": 2
}
