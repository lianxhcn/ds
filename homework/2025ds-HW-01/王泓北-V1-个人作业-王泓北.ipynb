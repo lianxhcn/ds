{
 "cells": [
  {
   "cell_type": "markdown",
   "id": "82493bdb",
   "metadata": {},
   "source": []
  },
  {
   "cell_type": "markdown",
   "id": "0e80334d",
   "metadata": {},
   "source": [
    "# 一、任务概要\n",
    "**姓名**：王泓北\n",
    "\n",
    "**学号**：24210165 \n",
    "\n",
    "**任务目的**：本作业主要是根据给定要求生成模拟数据，并对其进行一系列的分析任务，包括数据的初步查看、描述性统计分析以及多种可视化操作，如绘制直方图、密度函数图、箱线图、小提琴图、散点图等，同时计算变量间的相关系数。\n",
    "**模拟数据**：\n",
    "* 1、添加一个Python代码单元格，根据以下提示词生成Python代码，产生模拟数据（你可以使用Copilot或ChatGPT等工具）：\n",
    "      -生成模拟数据：N = 500，包含 2 个变量 (x1, x2)，x1 ~ N(0, 1)，x2 ~ N(3, 1.5)，corr(x1, x2) = 0.4。\n",
    "      -存入一个名为 df 的数据框中。"
   ]
  },
  {
   "cell_type": "code",
   "execution_count": 1,
   "id": "47770598",
   "metadata": {},
   "outputs": [
    {
     "name": "stdout",
     "output_type": "stream",
     "text": [
      "数据基本信息：\n",
      "<class 'pandas.core.frame.DataFrame'>\n",
      "RangeIndex: 500 entries, 0 to 499\n",
      "Data columns (total 2 columns):\n",
      " #   Column  Non-Null Count  Dtype  \n",
      "---  ------  --------------  -----  \n",
      " 0   x1      500 non-null    float64\n",
      " 1   x2      500 non-null    float64\n",
      "dtypes: float64(2)\n",
      "memory usage: 7.9 KB\n",
      "\n",
      "数据描述性统计：\n",
      "               x1          x2\n",
      "count  500.000000  500.000000\n",
      "mean    -0.038998    2.956144\n",
      "std      1.005755    1.479359\n",
      "min     -2.984824   -1.452385\n",
      "25%     -0.664828    2.009283\n",
      "50%     -0.063463    2.967417\n",
      "75%      0.576637    3.925802\n",
      "max      3.242516    7.459305\n",
      "\n",
      "相关系数矩阵：\n",
      "          x1        x2\n",
      "x1  1.000000  0.389323\n",
      "x2  0.389323  1.000000\n",
      "\n",
      "前5行数据：\n",
      "         x1        x2\n",
      "0  1.162438  3.223003\n",
      "1  0.235376  2.452640\n",
      "2  0.210336  1.853330\n",
      "3  0.868833  3.225245\n",
      "4  0.043109  1.835138\n"
     ]
    }
   ],
   "source": [
    "import numpy as np\n",
    "import pandas as pd\n",
    "from scipy.stats import multivariate_normal\n",
    "\n",
    "# 设置随机种子，为本人学号后三位\n",
    "np.random.seed(165)\n",
    "\n",
    "# 样本数量\n",
    "N = 500\n",
    "\n",
    "# 定义两个变量的均值\n",
    "means = [0, 3]\n",
    "\n",
    "# 定义相关系数\n",
    "corr = 0.4\n",
    "\n",
    "# 定义两个变量的标准差\n",
    "stds = [1, 1.5]\n",
    "\n",
    "# 构建协方差矩阵\n",
    "cov_matrix = np.zeros((2, 2))\n",
    "cov_matrix[0, 0] = stds[0] ** 2  # x1的方差\n",
    "cov_matrix[1, 1] = stds[1] ** 2  # x2的方差\n",
    "cov_matrix[0, 1] = corr * stds[0] * stds[1]  # x1和x2的协方差\n",
    "cov_matrix[1, 0] = cov_matrix[0, 1]  # 协方差矩阵是对称的\n",
    "\n",
    "# 生成多元正态分布数据\n",
    "data = multivariate_normal.rvs(mean=means, cov=cov_matrix, size=N)\n",
    "\n",
    "# 将数据存入DataFrame\n",
    "df = pd.DataFrame(data, columns=['x1', 'x2'])\n",
    "\n",
    "# 查看数据的基本信息\n",
    "print(\"数据基本信息：\")\n",
    "df.info()\n",
    "\n",
    "# 查看数据的描述性统计\n",
    "print(\"\\n数据描述性统计：\")\n",
    "print(df.describe())\n",
    "\n",
    "# 查看相关系数矩阵\n",
    "print(\"\\n相关系数矩阵：\")\n",
    "print(df.corr())\n",
    "\n",
    "# 查看前5行数据\n",
    "print(\"\\n前5行数据：\")\n",
    "print(df.head())"
   ]
  },
  {
   "cell_type": "markdown",
   "id": "ce1cdc5b",
   "metadata": {},
   "source": [
    "# 二、任务要求\n",
    "\n",
    "完成以下8个分析任务，每个任务对应三部分：\n",
    "\n",
    "  （1）首先插入一个 Markdown 单元格：添加标题和说明文字，介绍你要分析什么  \n",
    "  （2）重新插入一个代码单元格，贴入你的代码并运行  \n",
    "  （3）最后再插入一个Markdown单元格，解释一下结果。  \n",
    "\n",
    "# 三、任务明细\n",
    "**1. 呈现 df 数据框的前 5 行。**\n",
    "下面我将查看并展示 df 数据框的前 5 行数据内容，了解数据的基本结构和内容情况。"
   ]
  },
  {
   "cell_type": "code",
   "execution_count": 2,
   "id": "197cdbb8",
   "metadata": {},
   "outputs": [
    {
     "name": "stdout",
     "output_type": "stream",
     "text": [
      "数据框df的前5行内容：\n",
      "         x1        x2\n",
      "0  1.162438  3.223003\n",
      "1  0.235376  2.452640\n",
      "2  0.210336  1.853330\n",
      "3  0.868833  3.225245\n",
      "4  0.043109  1.835138\n"
     ]
    }
   ],
   "source": [
    "# 查看数据框df的前5行\n",
    "print(\"数据框df的前5行内容：\")\n",
    "print(df.head().to_string())  # 使用to_string()确保完整显示所有列"
   ]
  },
  {
   "cell_type": "markdown",
   "id": "d3c8abe2",
   "metadata": {},
   "source": [
    "运行上述代码后，我们可以看到数据框的前五行内容。这样能够直观地了解数据的字段构成以及每行数据的具体情况，包括数据的格式、范围等初步信息，为后续更深入的数据分析奠定基础。"
   ]
  },
  {
   "cell_type": "markdown",
   "id": "2d58941b",
   "metadata": {},
   "source": [
    "**2. 呈现 df 数据框的描述性统计**  \n",
    "\n",
    "描述性统计数据包括均值，标准差，中位数，最大值，最小值，偏度，峰度。这些统计量能够帮助我们全面了解数据的集中趋势、离散程度、分布形态等特征。"
   ]
  },
  {
   "cell_type": "code",
   "execution_count": 4,
   "id": "a31e6972",
   "metadata": {},
   "outputs": [
    {
     "name": "stdout",
     "output_type": "stream",
     "text": [
      "数据框df的描述性统计：\n",
      "           x1      x2  median  skewness  kurtosis\n",
      "25%     -0.66    2.01     NaN       NaN       NaN\n",
      "50%     -0.06    2.97     NaN       NaN       NaN\n",
      "75%      0.58    3.93     NaN       NaN       NaN\n",
      "count  500.00  500.00     NaN       NaN       NaN\n",
      "max      3.24    7.46     NaN       NaN       NaN\n",
      "mean    -0.04    2.96     NaN       NaN       NaN\n",
      "min     -2.98   -1.45     NaN       NaN       NaN\n",
      "std      1.01    1.48     NaN       NaN       NaN\n",
      "x1        NaN     NaN   -0.06       NaN       NaN\n",
      "x1        NaN     NaN     NaN      0.15       NaN\n",
      "x1        NaN     NaN     NaN       NaN      0.16\n",
      "x2        NaN     NaN    2.97       NaN       NaN\n",
      "x2        NaN     NaN     NaN      0.01       NaN\n",
      "x2        NaN     NaN     NaN       NaN      0.23\n"
     ]
    }
   ],
   "source": [
    "import pandas as pd\n",
    "\n",
    "# 计算基本描述性统计量（保留两位小数）\n",
    "basic_stats = df.describe().round(2)\n",
    "\n",
    "# 计算中位数（保留两位小数）\n",
    "median = df.median().round(2).rename('median')\n",
    "\n",
    "# 计算偏度（保留两位小数）\n",
    "skewness = df.skew().round(2).rename('skewness')\n",
    "\n",
    "# 计算峰度（保留两位小数）\n",
    "kurtosis = df.kurt().round(2).rename('kurtosis')\n",
    "\n",
    "# 合并所有统计量\n",
    "all_stats = pd.concat([basic_stats, median, skewness, kurtosis]).sort_index()\n",
    "\n",
    "print(\"数据框df的描述性统计：\")\n",
    "print(all_stats)"
   ]
  },
  {
   "cell_type": "markdown",
   "id": "bb6879d8",
   "metadata": {},
   "source": [
    "x1 的均值接近 0，标准差接近 1\n",
    "x2 的均值接近 3，标准差接近 1.5\n",
    "偏度值应接近 0（正态分布的偏度为 0）\n",
    "峰度值应接近 0（正态分布的峰度为 0）"
   ]
  }
 ],
 "metadata": {
  "kernelspec": {
   "display_name": "base",
   "language": "python",
   "name": "python3"
  },
  "language_info": {
   "codemirror_mode": {
    "name": "ipython",
    "version": 3
   },
   "file_extension": ".py",
   "mimetype": "text/x-python",
   "name": "python",
   "nbconvert_exporter": "python",
   "pygments_lexer": "ipython3",
   "version": "3.12.7"
  }
 },
 "nbformat": 4,
 "nbformat_minor": 5
}
