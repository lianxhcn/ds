{
 "cells": [
  {
   "cell_type": "markdown",
   "id": "591180e9",
   "metadata": {},
   "source": [
    "# 探索数据\n",
    "\n",
    "- Data：使用 akshare 库，在线获取宁德时代的股票数据\n",
    "- Range: 2019-01-01 至 today\n",
    "- Variables: \n",
    "  - Date: 日期\n",
    "  - Close: 收盘价\n",
    "  - Open: 开盘价\n",
    "  - High: 最高价\n",
    "  - Low: 最低价\n",
    "  - Adjusted Close: 经调整的收盘价\n",
    "  - Volume: 成交量\n",
    "\n",
    "## 本讲目标\n",
    "\n",
    "学习如何使用 pandas 库对数据进行探索性分析，了解数据的基本特征和分布情况。\n",
    "- 了解数据的基本信息和统计特征\n",
    "  - 交易天数\n",
    "  - 数据的缺失值\n",
    "  - 收益率为正/负的天数\n",
    "- 绘制数据的分布图和趋势图\n",
    "- 识别数据中的异常值和缺失值"
   ]
  },
  {
   "cell_type": "markdown",
   "id": "9ab3bd92",
   "metadata": {},
   "source": [
    "## 常用的 pandas 函数\n",
    "\n",
    "帮助文件：\n",
    "```python\n",
    "import pandas as pd\n",
    "help(pd)\n",
    "```\n"
   ]
  },
  {
   "cell_type": "code",
   "execution_count": null,
   "id": "b8a501d9",
   "metadata": {},
   "outputs": [],
   "source": [
    "import pandas as pd\n",
    "help(pd)"
   ]
  },
  {
   "cell_type": "markdown",
   "id": "08359bb5",
   "metadata": {},
   "source": [
    "\n",
    "### 数据读取和基本信息\n",
    "- `pd.read_csv()`: 读取 CSV 文件\n",
    "- `pd.DataFrame()`: 创建 DataFrame 对象\n",
    "- `df.head()`: 查看 DataFrame 的前几行数据\n",
    "- `df.tail()`: 查看 DataFrame 的后几行数据\n",
    "- `df.info()`: 查看 DataFrame 的基本信息\n",
    "- `df.describe()`: 查看 DataFrame 的统计特征\n",
    "- `df.isnull()`: 检查 DataFrame 中的缺失值\n",
    "\n",
    "### 数据筛选\n",
    "- `df['column']`: 选择某一列数据\n",
    "- `df[['column1', 'column2']]`: 选择多列数据\n",
    "- `df.drop('column', axis=1)`: 删除某一列数据\n",
    "- `df.drop(['column1', 'column2'], axis=1)`: 删除多列数据\n",
    "- `df.loc[]`: 按标签筛选数据\n",
    "- `df.iloc[]`: 按位置筛选数据\n",
    "- `df[df['column'] > value]`: 按条件筛选数据\n",
    "- `df[df['column'].isin([value1, value2])]`: 按条件筛选数据\n",
    "\n",
    "- `df['column'].unique()`: 查看某一列的唯一值，适用于分类变量\n",
    "- `df['column'].value_counts()`: 查看某一列的观察值个数\n",
    "\n",
    "- `df.dropna()`: 删除缺失值\n",
    "- `df.fillna()`: 填充缺失值\n",
    "\n",
    "\n",
    "- "
   ]
  },
  {
   "cell_type": "markdown",
   "id": "5287d223",
   "metadata": {},
   "source": [
    "## 参考讲义\n",
    "\n",
    "- [Exploratory Data Analysis - Intro to Pandas](https://github.com/Samarth4023/Probability-Statistics/blob/master/Exploratory%20Data%20Analysis/Intro-to-Pandas(World-Happiness-Dataset).ipynb)"
   ]
  }
 ],
 "metadata": {
  "kernelspec": {
   "display_name": "base",
   "language": "python",
   "name": "python3"
  },
  "language_info": {
   "codemirror_mode": {
    "name": "ipython",
    "version": 3
   },
   "file_extension": ".py",
   "mimetype": "text/x-python",
   "name": "python",
   "nbconvert_exporter": "python",
   "pygments_lexer": "ipython3",
   "version": "3.12.7"
  }
 },
 "nbformat": 4,
 "nbformat_minor": 5
}
