{
 "cells": [
  {
   "cell_type": "markdown",
   "id": "6c768f0e",
   "metadata": {},
   "source": [
    "https://www.statsmodels.org/dev/examples/index.html"
   ]
  }
 ],
 "metadata": {
  "language_info": {
   "name": "python"
  }
 },
 "nbformat": 4,
 "nbformat_minor": 5
}
