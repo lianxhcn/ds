{
 "cells": [
  {
   "cell_type": "markdown",
   "id": "d03fc778",
   "metadata": {},
   "source": [
    "# 10 mins Pandas\n",
    "\n",
    "https://pandas.pydata.org/pandas-docs/stable/user_guide/10min.html\n",
    "\n",
    "## 数据结构\n",
    "\n",
    "- [pandas: Intro to data structures](https://pandas.pydata.org/pandas-docs/stable/user_guide/dsintro.html#dsintro)"
   ]
  }
 ],
 "metadata": {
  "language_info": {
   "name": "python"
  }
 },
 "nbformat": 4,
 "nbformat_minor": 5
}
