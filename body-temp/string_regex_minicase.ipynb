{
 "cells": [
  {
   "cell_type": "markdown",
   "id": "5e47e988",
   "metadata": {},
   "source": [
    "# 综合案例：政策/公告文本结构化提取"
   ]
  },
  {
   "cell_type": "markdown",
   "id": "9072f258",
   "metadata": {},
   "source": [
    "## 目标任务\n",
    "提取发布日期、发布机构、政策标题、时间段、链接地址、关键词"
   ]
  },
  {
   "cell_type": "code",
   "execution_count": 1,
   "id": "26223368",
   "metadata": {},
   "outputs": [],
   "source": [
    "import re\n",
    "\n",
    "def extract_policy_info(text):\n",
    "    patterns = {\n",
    "        \"date\": r\"\\d{4}年\\d{1,2}月\\d{1,2}日\",\n",
    "        \"org\": r\"(中国人民银行|财政部|证监会|银保监会|国家统计局|工业和信息化部|国家发展改革委)\",\n",
    "        \"title\": r\"《([^《》]{5,50})》\",\n",
    "        \"period\": r\"\\d{4}[-—~～至]\\d{4}年\",\n",
    "        \"url\": r\"https?://[^\\s，。、“”]+\"\n",
    "    }\n",
    "    keywords_list = [\"金融\", \"监管\", \"数据\", \"信息\", \"平台\", \"流通\", \"披露\", \"制度\", \"优化\"]\n",
    "    keyword_pattern = \"|\".join(keywords_list)\n",
    "\n",
    "    results = {\n",
    "        \"date\": re.findall(patterns[\"date\"], text),\n",
    "        \"org\": re.findall(patterns[\"org\"], text),\n",
    "        \"title\": re.findall(patterns[\"title\"], text),\n",
    "        \"period\": re.findall(patterns[\"period\"], text),\n",
    "        \"url\": re.findall(patterns[\"url\"], text),\n",
    "        \"keywords\": re.findall(keyword_pattern, text)\n",
    "    }\n",
    "\n",
    "    return results"
   ]
  },
  {
   "cell_type": "code",
   "execution_count": 2,
   "id": "6856bd57",
   "metadata": {},
   "outputs": [
    {
     "name": "stdout",
     "output_type": "stream",
     "text": [
      "date: ['2024年12月15日']\n",
      "org: ['中国人民银行', '证监会']\n",
      "title: ['金融科技发展规划（2022-2025年）', '关于加强平台金融监管的指导意见']\n",
      "period: ['2022-2025年']\n",
      "url: ['http://www.pbc.gov.cn/gongkaihangzhengbu/4712037/index.html']\n",
      "keywords: ['金融', '金融', '数据', '流通', '信息', '披露', '制度', '平台', '金融', '监管']\n"
     ]
    }
   ],
   "source": [
    "sample_text = \"\"\"\n",
    "2024年12月15日，中国人民银行发布《金融科技发展规划（2022-2025年）》。\n",
    "公告指出，将推动金融数据要素流通，强化信息披露制度建设。\n",
    "中国证监会也在同期发布《关于加强平台金融监管的指导意见》。\n",
    "详情参见：http://www.pbc.gov.cn/gongkaihangzhengbu/4712037/index.html。\n",
    "\"\"\"\n",
    "\n",
    "info = extract_policy_info(sample_text)\n",
    "\n",
    "for key, val in info.items():\n",
    "    print(f\"{key}:\", val)"
   ]
  },
  {
   "cell_type": "markdown",
   "id": "5c7f1bfe",
   "metadata": {},
   "source": [
    "## 可拓展方向\n",
    "- 多格式日期匹配\n",
    "- 批量处理公告集\n",
    "- 区分政策类型\n",
    "- 存储为 DataFrame 或 CSV"
   ]
  }
 ],
 "metadata": {
  "kernelspec": {
   "display_name": "base",
   "language": "python",
   "name": "python3"
  },
  "language_info": {
   "codemirror_mode": {
    "name": "ipython",
    "version": 3
   },
   "file_extension": ".py",
   "mimetype": "text/x-python",
   "name": "python",
   "nbconvert_exporter": "python",
   "pygments_lexer": "ipython3",
   "version": "3.12.7"
  }
 },
 "nbformat": 4,
 "nbformat_minor": 5
}
