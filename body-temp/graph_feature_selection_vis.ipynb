{
 "cells": [
  {
   "cell_type": "markdown",
   "id": "d846e8c3",
   "metadata": {},
   "source": [
    "\n",
    "- [Feature Selection and Data Visualization](https://www.kaggle.com/code/kanncaa1/feature-selection-and-data-visualization/input)\n",
    "  - 在这个例子中，常用的可视化图形基本上都用到了。  "
   ]
  }
 ],
 "metadata": {
  "language_info": {
   "name": "python"
  }
 },
 "nbformat": 4,
 "nbformat_minor": 5
}
