{
 "cells": [
  {
   "cell_type": "markdown",
   "id": "1a2e2a83",
   "metadata": {},
   "source": [
    "# 内置类型\n",
    "\n",
    "> [Python 手册 - 内置类型](https://docs.python.org/zh-cn/3.13/library/stdtypes.html#)"
   ]
  }
 ],
 "metadata": {
  "language_info": {
   "name": "python"
  }
 },
 "nbformat": 4,
 "nbformat_minor": 5
}
