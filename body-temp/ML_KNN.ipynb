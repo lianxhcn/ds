{
 "cells": [
  {
   "cell_type": "markdown",
   "id": "22b78f34",
   "metadata": {},
   "source": [
    "## KNN"
   ]
  },
  {
   "cell_type": "markdown",
   "id": "92a2a492",
   "metadata": {},
   "source": [
    "## 参考资料\n",
    "- [KNN - 02_knn_demo.ipynb](https://github.com/rasbt/stat451-machine-learning-fs20/blob/master/L02/code/02_knn_demo.ipynb)"
   ]
  }
 ],
 "metadata": {
  "language_info": {
   "name": "python"
  }
 },
 "nbformat": 4,
 "nbformat_minor": 5
}
