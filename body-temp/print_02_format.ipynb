{
 "cells": [
  {
   "cell_type": "markdown",
   "id": "107df308",
   "metadata": {},
   "source": [
    "\n",
    "<br>\n",
    "\n",
    "# 格式化字符串：f-string 格式\n",
    "\n",
    "Python 格式化字符串进阶：f-string 格式控制符一览，轻松掌握 `.2f`, `:,`, `>`, `^`, `%` 的使用方法。\n",
    "\n",
    "参见\n",
    "\n",
    "[文本序列类型 --- str](https://docs.python.org/zh-cn/3.13/library/stdtypes.html#textseq)\n",
    "\n",
    "字符串是 *序列类型* ，支持序列类型的各种操作。\n",
    "\n",
    "[字符串的方法](https://docs.python.org/zh-cn/3.13/library/stdtypes.html#string-methods)\n",
    "\n",
    "字符串支持很多变形与查找方法。\n",
    "\n",
    "[f 字符串](https://docs.python.org/zh-cn/3.13/reference/lexical_analysis.html#f-strings)\n",
    "\n",
    "内嵌表达式的字符串字面值。\n",
    "\n",
    "[格式字符串语法](https://docs.python.org/zh-cn/3.13/library/string.html#formatstrings)\n",
    "\n",
    "使用 [`str.format()`](https://docs.python.org/zh-cn/3.13/library/stdtypes.html#str.format \"str.format\") 格式化字符串。\n",
    "\n",
    "[printf 风格的字符串格式化](https://docs.python.org/zh-cn/3.13/library/stdtypes.html#old-string-formatting)\n",
    "\n",
    "这里详述了用 `%` 运算符格式化字符串的操作。\n",
    "\n",
    "\n",
    "## 1. f-string 语法回顾\n",
    "\n",
    "基本语法形式为：\n",
    "\n",
    "```python\n",
    "f\"{变量名:格式说明}\"\n",
    "```\n",
    "\n",
    "其中 `:` 后面的 `格式说明` 部分就是 **格式控制符（Format Specifier）**，用于控制数值的显示样式。\n",
    "\n",
    "\n",
    "## 2. 数值格式控制符对照表\n",
    "\n",
    "| 控制符     | 含义                             | 示例                     | 输出示例          |\n",
    "|------|----------------------------------|--------------------------|-------------------|\n",
    "| `.2f`      | 保留两位小数                    | `{3.1415:.2f}`           | `3.14`            |\n",
    "| `,`        | 添加千位分隔符                   | `{1000000:,}`            | `1,000,000`       |\n",
    "| `%`        | 百分比表示，自动 ×100 并加 %     | `{0.85:%}`               | `85.000000%`      |\n",
    "| `.1%`      | 百分比保留一位小数               | `{0.85:.1%}`             | `85.0%`           |\n",
    "| `>10`      | 右对齐，占 10 个字符宽度         | `\"{'abc':>10}\"`          | `'       abc'`    |\n",
    "| `<10`      | 左对齐，占 10 个字符宽度         | `\"{'abc':<10}\"`          | `'abc       '`    |\n",
    "| `^10`      | 居中对齐，占 10 个字符宽度       | `\"{'abc':^10}\"`          | `'   abc    '`    |\n",
    "| `0>5`      | 用 0 补齐左侧，宽度为 5          | `{42:0>5}`               | `00042`           |\n",
    "\n",
    "\n",
    "\n",
    "## 3. 示例集锦\n",
    "\n",
    "### 3.1 金额 + 小数 + 千分位\n",
    "\n",
    "```python\n",
    "price = 8700.495\n",
    "print(f\"单价为 ￥{price:,.2f} 元\")\n",
    "# 输出：单价为 ￥8,700.50 元\n",
    "```\n",
    "注意：本例中，`:` 后面设定了两种格式控制符，一个是 `,` (添加千分位符)；另一个是 `.2f` (保留两位小数，自动四舍五入)。"
   ]
  },
  {
   "cell_type": "code",
   "execution_count": 3,
   "id": "2157cbf8",
   "metadata": {},
   "outputs": [
    {
     "name": "stdout",
     "output_type": "stream",
     "text": [
      "单价为 ￥8,700.50 元\n"
     ]
    }
   ],
   "source": [
    "price = 8700.495\n",
    "print(f\"单价为 ￥{price:,.2f} 元\")"
   ]
  },
  {
   "cell_type": "markdown",
   "id": "d743b6ab",
   "metadata": {},
   "source": [
    "### 3.2 百分比表达\n",
    "\n",
    "```python\n",
    "rate = 0.0826\n",
    "print(f\"年化收益率为 {rate:.2%}\")\n",
    "# 输出：\n",
    "# 年化收益率为 8.26%\n",
    "```\n",
    "\n",
    "\n",
    "### 3.3 对齐与填充"
   ]
  },
  {
   "cell_type": "code",
   "execution_count": 8,
   "id": "65fe67f9",
   "metadata": {},
   "outputs": [
    {
     "name": "stdout",
     "output_type": "stream",
     "text": [
      "|Tom       |\n",
      "|   Tom    |\n",
      "|       Tom|\n"
     ]
    }
   ],
   "source": [
    "name = \"Tom\"\n",
    "print(f\"|{name:<10}|\")   # 左对齐\n",
    "print(f\"|{name:^10}|\")   # 居中对齐\n",
    "print(f\"|{name:>10}|\")   # 右对齐"
   ]
  },
  {
   "cell_type": "code",
   "execution_count": 10,
   "id": "8230b329",
   "metadata": {},
   "outputs": [
    {
     "name": "stdout",
     "output_type": "stream",
     "text": [
      "|Name      |   Age    |\n",
      "|----------|----------|\n",
      "|Tom       |    25    |\n",
      "|Rebbeca   |    30    |\n"
     ]
    }
   ],
   "source": [
    "# 更复杂的例子\n",
    "\n",
    "names = [\"Tom\", \"Rebbeca\"]\n",
    "ages = [25, 30]\n",
    "print(f\"|{'Name':<10}|{'Age':^10}|\")  # 表头\n",
    "print(f\"|{'-'*10}|{'-'*10}|\")         # 分隔线\n",
    "print(f\"|{names[0]:<10}|{ages[0]:^10}|\")  # 第一个人左对齐\n",
    "print(f\"|{names[1]:<10}|{ages[1]:^10}|\")  # 第二个人右对齐"
   ]
  },
  {
   "cell_type": "code",
   "execution_count": null,
   "id": "32ad20ad",
   "metadata": {},
   "outputs": [
    {
     "name": "stdout",
     "output_type": "stream",
     "text": [
      "|Name           |      Age      |\n",
      "|---------------|---------------|\n",
      "|Tom            |      25       |\n",
      "|Rebbeca        |      30       |\n"
     ]
    }
   ],
   "source": [
    "# 进一步扩展：自定义列宽\n",
    "\n",
    "names = [\"Tom\", \"Rebbeca\"]\n",
    "ages = [25, 30]\n",
    "col_width = 15  # 列宽\n",
    "print(f\"|{'Name':<{col_width}}|{'Age':^{col_width}}|\")  # 表头\n",
    "print(f\"|{'-'*col_width}|{'-'*col_width}|\")             # 分隔线\n",
    "print(f\"|{names[0]:<{col_width}}|{ages[0]:^{col_width}}|\")  # 第一列左对齐\n",
    "print(f\"|{names[1]:<{col_width}}|{ages[1]:^{col_width}}|\")  # 第二列居中对齐"
   ]
  },
  {
   "cell_type": "markdown",
   "id": "1b171114",
   "metadata": {},
   "source": [
    "需要说明的是，`print(f\"|{'-'*{col_width}}|{'-'*{col_width}}|\")` 中的"
   ]
  },
  {
   "cell_type": "code",
   "execution_count": null,
   "id": "19ae8444",
   "metadata": {},
   "outputs": [
    {
     "name": "stdout",
     "output_type": "stream",
     "text": [
      "I have Q apples\n",
      "I have {Q} apples\n",
      "I have 5 apples\n"
     ]
    }
   ],
   "source": [
    "Q = 5\n",
    "print(\"I have Q apples\")\n",
    "print(\"I have {Q} apples\")\n",
    "print(f\"I have {Q} apples\")"
   ]
  },
  {
   "cell_type": "code",
   "execution_count": 5,
   "id": "cd82ef0e",
   "metadata": {},
   "outputs": [
    {
     "name": "stdout",
     "output_type": "stream",
     "text": [
      "~~~~~~~~~~\n",
      "'~'*times\n",
      "'~'*10\n",
      "~~~~~~~~~~\n"
     ]
    }
   ],
   "source": [
    "print('~'*10)     \n",
    "\n",
    "times = 10\n",
    "print(f\"'~'*times\")\n",
    "print(f\"'~'*{times}\")\n",
    "print(f\"{'~'*times}\")\n",
    "\n",
    "# print(f\"{'~'*{times}}\")  # 语法错误"
   ]
  },
  {
   "cell_type": "markdown",
   "id": "65771ba2",
   "metadata": {},
   "source": [
    "\n",
    "### 3.4 数字补零\n",
    "\n",
    "```python\n",
    "order = 42\n",
    "print(f\"订单号：{order:06d}\")  # 总共6位，前面补0\n",
    "# 输出：\n",
    "# 订单号：000042\n",
    "```\n",
    "\n",
    "\n",
    "## 4. 小技巧：组合使用\n",
    "\n",
    "你可以同时使用多个控制符：\n",
    "\n",
    "```python\n",
    "price = 1234567.89\n",
    "print(f\"￥{price:>15,.2f}\")\n",
    "# 输出：\n",
    "# ￥     1,234,567.89 （右对齐，千位分隔，保留两位）\n",
    "```\n",
    "\n",
    "\n",
    "## 5. 字符串格式控制公式（记忆结构）\n",
    "\n",
    "```plaintext\n",
    "[[fill]align][sign][#][0][width][,][.precision][type]\n",
    "```\n",
    "\n",
    "例如：\n",
    "\n",
    "```python\n",
    "f\"{num:0>10,.2f}\"\n",
    "```\n",
    "\n",
    "解释如下：\n",
    "\n",
    "- `0`：填充字符\n",
    "- `>`：右对齐\n",
    "- `10`：宽度为 10\n",
    "- `,`：加千分位\n",
    "- `.2f`：保留两位小数\n",
    "\n",
    "\n",
    "## 6. 小结：常见组合模板\n",
    "\n",
    "| 任务                | 格式说明符              |\n",
    "|---------------------|--------------------------|\n",
    "| 金额显示（带逗号）   | `:,.2f`                  |\n",
    "| 百分比               | `:.1%`                   |\n",
    "| 补零编号             | `:05d` 或 `:06d`         |\n",
    "| 对齐文字输出         | `:>10`, `:<10`, `:^10`   |\n",
    "\n",
    "\n",
    "## 7. 推荐文档阅读\n",
    "\n",
    "- 官方格式说明：[https://docs.python.org/3/library/string.html#format-specification-mini-language](https://docs.python.org/3/library/string.html#format-specification-mini-language)\n",
    "- Python f-string 教程扩展：[https://realpython.com/python-f-strings/](https://realpython.com/python-f-strings/)\n",
    "\n",
    "\n",
    "如果你希望我整理一个 **格式控制速查表 PDF** 或 `.md` 文件版本，我可以帮你制作一份，可随时查阅使用。需要吗？"
   ]
  },
  {
   "cell_type": "code",
   "execution_count": 11,
   "id": "8390fef1",
   "metadata": {},
   "outputs": [
    {
     "data": {
      "image/png": "[encoded data removed]",
      "text/plain": [
       "<Figure size 400x300 with 1 Axes>"
      ]
     },
     "metadata": {},
     "output_type": "display_data"
    }
   ],
   "source": [
    "import matplotlib.pyplot as plt\n",
    "\n",
    "# Generate data\n",
    "t = [1, 2, 3, 4, 5]\n",
    "y = [10, 20, 30, 40, 50]\n",
    "\n",
    "# Plot scatter plot\n",
    "plt.figure(figsize=(4, 3))\n",
    "plt.scatter(t, y)\n",
    "plt.xlabel('t')\n",
    "plt.ylabel('y')\n",
    "plt.title('Scatter Plot of t vs y')\n",
    "plt.show()"
   ]
  },
  {
   "cell_type": "code",
   "execution_count": null,
   "id": "c3b67795",
   "metadata": {},
   "outputs": [],
   "source": []
  }
 ],
 "metadata": {
  "kernelspec": {
   "display_name": "base",
   "language": "python",
   "name": "python3"
  },
  "language_info": {
   "codemirror_mode": {
    "name": "ipython",
    "version": 3
   },
   "file_extension": ".py",
   "mimetype": "text/x-python",
   "name": "python",
   "nbconvert_exporter": "python",
   "pygments_lexer": "ipython3",
   "version": "3.12.7"
  }
 },
 "nbformat": 4,
 "nbformat_minor": 5
}
