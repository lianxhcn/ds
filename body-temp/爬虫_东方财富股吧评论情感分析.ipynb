{
 "cells": [
  {
   "cell_type": "markdown",
   "id": "4d7b8de1",
   "metadata": {},
   "source": [
    "# Python：爬取东方财富股吧评论进行情感分\n",
    "\n",
    "- 梁海, 2020, [Python：爬取东方财富股吧评论进行情感分析](https://www.lianxh.cn/details/440.html), 连享会 No.440."
   ]
  }
 ],
 "metadata": {
  "kernelspec": {
   "display_name": "base",
   "language": "python",
   "name": "python3"
  },
  "language_info": {
   "codemirror_mode": {
    "name": "ipython",
    "version": 3
   },
   "file_extension": ".py",
   "mimetype": "text/x-python",
   "name": "python",
   "nbconvert_exporter": "python",
   "pygments_lexer": "ipython3",
   "version": "3.12.7"
  }
 },
 "nbformat": 4,
 "nbformat_minor": 5
}
