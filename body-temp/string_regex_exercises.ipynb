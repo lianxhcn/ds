{
 "cells": [
  {
   "cell_type": "markdown",
   "id": "68d58b62",
   "metadata": {},
   "source": [
    "# 正则表达式练习题（Python 实现）"
   ]
  },
  {
   "cell_type": "markdown",
   "id": "9bd0bb5e",
   "metadata": {},
   "source": [
    "## Q1：匹配中国大陆手机号\n",
    "**要求**：以 `13-19` 开头，共 11 位数字。\n",
    "\n",
    "```python\n",
    "text = \"张三手机号是13912345678，李四的是17899998888，王五填错成12912345678\"\n",
    "# TODO: 使用 re.findall() 提取手机号\n",
    "```"
   ]
  },
  {
   "cell_type": "markdown",
   "id": "fce944e6",
   "metadata": {},
   "source": [
    "## Q2：提取所有电子邮箱地址\n",
    "```python\n",
    "text = \"请发邮件给 abc@pku.edu.cn 或 tom.zhang@finance.org，谢谢！\"\n",
    "# TODO: 提取邮箱地址\n",
    "```"
   ]
  },
  {
   "cell_type": "markdown",
   "id": "6c7cbeb8",
   "metadata": {},
   "source": [
    "## Q3：提取日期（两种格式）\n",
    "**支持格式**：`2024年4月22日` 和 `2024-04-22`\n",
    "```python\n",
    "text = \"项目启动于2024年4月22日，预计在2024-10-31前完成，最迟不晚于 2024-11-9。\"\n",
    "# TODO: 提取两种日期格式\n",
    "```"
   ]
  },
  {
   "cell_type": "markdown",
   "id": "56b10e99",
   "metadata": {},
   "source": [
    "## Q4：提取网页链接（URL）\n",
    "```python\n",
    "text = \"详情见官网：https://abc.gov.cn/info/2025.html 或 http://news.cn\"\n",
    "# TODO: 提取所有 URL\n",
    "```"
   ]
  },
  {
   "cell_type": "markdown",
   "id": "68dff37f",
   "metadata": {},
   "source": [
    "## Q5：从 HTML 中提取标签内容\n",
    "**目标**：提取 `<title>` 和 `<h1>` 标签中的文本\n",
    "```python\n",
    "html = \"<html><head><title>我的报告</title></head><body><h1>政策摘要</h1></body></html>\"\n",
    "# TODO: 提取 <title> 和 <h1> 内容\n",
    "```"
   ]
  },
  {
   "cell_type": "markdown",
   "id": "0bfbd498",
   "metadata": {},
   "source": [
    "## Q6（进阶）：匹配重复单词\n",
    "**提示**：使用反向引用 `\\1`\n",
    "```python\n",
    "text = \"hello hello world, good good morning\"\n",
    "# TODO: 匹配重复单词\n",
    "```"
   ]
  },
  {
   "cell_type": "markdown",
   "id": "8e56cbee",
   "metadata": {},
   "source": [
    "\n",
    "<br>\n",
    "<br>\n",
    "\n",
    "--- - --\n",
    "\n",
    "## 📝 答案参考"
   ]
  },
  {
   "cell_type": "markdown",
   "id": "9275163b",
   "metadata": {},
   "source": [
    "### Q1 匹配中国大陆手机号\n"
   ]
  },
  {
   "cell_type": "code",
   "execution_count": null,
   "id": "e30e930a",
   "metadata": {},
   "outputs": [
    {
     "data": {
      "text/plain": [
       "['13912345678', '17899998888']"
      ]
     },
     "execution_count": 1,
     "metadata": {},
     "output_type": "execute_result"
    }
   ],
   "source": [
    "import re\n",
    "text = \"张三手机号是13912345678，李四的是17899998888，王五填错成12912345678\"\n",
    "re.findall(r\"1[3-9]\\d{9}\", text)"
   ]
  },
  {
   "cell_type": "markdown",
   "id": "170b7dda",
   "metadata": {},
   "source": [
    "简要解释：\n",
    "- 使用 `re` 模块的 `findall` 方法来提取符合条件的手机号。\n",
    "- 正则表达式中的 `1[3-9]` 表示以 `1` 开头，第二位数字在 `3-9` 之间。\n",
    "- `\\d{9}` 表示后面跟着 9 位数字，其中，`\\d` 表示数字，`{9}` 表示数量。"
   ]
  },
  {
   "cell_type": "markdown",
   "id": "dc4a326c",
   "metadata": {},
   "source": [
    "### Q2 提取所有电子邮箱地址"
   ]
  },
  {
   "cell_type": "code",
   "execution_count": 7,
   "id": "ac0cee81",
   "metadata": {},
   "outputs": [
    {
     "data": {
      "text/plain": [
       "['abc@pku.edu.cn', 'tom.zhang@finance.org', 'Jack@163.cn.com']"
      ]
     },
     "execution_count": 7,
     "metadata": {},
     "output_type": "execute_result"
    }
   ],
   "source": [
    "text = \"请发邮件给 abc@pku.edu.cn，tom.zhang@finance.org，Tom@mailcom，Jack@163.cn.com 谢谢！\"\n",
    "re.findall(r\"[\\w.-]+@[\\w.-]+\\.[a-zA-Z]{2,}\", text)"
   ]
  },
  {
   "cell_type": "markdown",
   "id": "d915e1e8",
   "metadata": {},
   "source": [
    "简要解释：\n",
    "- 电子邮箱地址的特点是包含 `@` 符号，前面是用户名，后面是域名，且域名中会包含 `.`。\n",
    "- 使用 `re` 模块的 `findall` 方法来提取符合条件的邮箱地址。\n",
    "- `[\\w.-]+` 表示可以包含字母、数字、下划线、点和连字符，`+` 表示至少一个字符。\n",
    "- `[a-zA-Z]{2,}` 表示匹配至少两个字母 (大写或小写均可)。"
   ]
  },
  {
   "cell_type": "markdown",
   "id": "222b96bf",
   "metadata": {},
   "source": [
    "### Q3 提取日期（两种格式）\n"
   ]
  },
  {
   "cell_type": "code",
   "execution_count": 17,
   "id": "c4aa046b",
   "metadata": {},
   "outputs": [
    {
     "data": {
      "text/plain": [
       "['2024年4月22日', '2024-10-31']"
      ]
     },
     "execution_count": 17,
     "metadata": {},
     "output_type": "execute_result"
    }
   ],
   "source": [
    "# 方案 1：哪里有问题？\n",
    "import re\n",
    "text = \"项目启动于2024年4月22日，预计在2024-10-31前完成，最迟不晚于 2024-11-9。\"\n",
    "re.findall(r\"\\d{4}年\\d{1,2}月\\d{1,2}日|\\d{4}-\\d{2}-\\d{2}\", text)"
   ]
  },
  {
   "cell_type": "code",
   "execution_count": 18,
   "id": "d6c02bb4",
   "metadata": {},
   "outputs": [
    {
     "name": "stdout",
     "output_type": "stream",
     "text": [
      "['2024年4月22日', '2024-10-31', '2024-11-9']\n"
     ]
    }
   ],
   "source": [
    "# 方案 2\n",
    "\n",
    "text = \"项目启动于2024年4月22日，预计在2024-10-31前完成，最迟不晚于 2024-11-9。\"\n",
    "m1 = r'\\d{4}年\\d{1,2}月\\d{1,2}日' \n",
    "m2 = r'\\d{4}-\\d{1,2}-\\d{1,2}'     # 更宽松的匹配\n",
    "dates = re.findall(m1, text) + re.findall(m2, text)\n",
    "print(dates)"
   ]
  },
  {
   "cell_type": "markdown",
   "id": "3078730f",
   "metadata": {},
   "source": [
    "在方案 2 中，我们首先将用于两种日期格式的正则表达式分别存入 `m1` 和 `m2` 变量中，然后使用 `re.findall()` 方法提取符合条件的日期。最后，我们将两种格式的日期合并到一个列表中。这使得代码更加简洁易读。"
   ]
  },
  {
   "cell_type": "markdown",
   "id": "ccb8ab33",
   "metadata": {},
   "source": [
    "### Q4\n",
    "```python\n",
    "text = \"详情见官网：https://abc.gov.cn/info/2025.html 或 http://news.cn\"\n",
    "re.findall(r\"https?://[^\\s]+\", text)\n",
    "# ['https://abc.gov.cn/info/2025.html', 'http://news.cn']\n",
    "```"
   ]
  },
  {
   "cell_type": "markdown",
   "id": "e87dd264",
   "metadata": {},
   "source": [
    "### Q5\n",
    "```python\n",
    "html = \"<html><head><title>我的报告</title></head><body><h1>政策摘要</h1></body></html>\"\n",
    "title = re.search(r\"<title>(.*?)</title>\", html).group(1)\n",
    "h1 = re.search(r\"<h1>(.*?)</h1>\", html).group(1)\n",
    "# title: '我的报告'; h1: '政策摘要'\n",
    "```"
   ]
  },
  {
   "cell_type": "markdown",
   "id": "8abc7b0e",
   "metadata": {},
   "source": [
    "### Q6\n",
    "```python\n",
    "text = \"hello hello world, good good morning\"\n",
    "re.findall(r\"\\b(\\w+)\\s+\\1\\b\", text)\n",
    "# ['hello', 'good']\n",
    "```"
   ]
  }
 ],
 "metadata": {
  "kernelspec": {
   "display_name": "base",
   "language": "python",
   "name": "python3"
  },
  "language_info": {
   "codemirror_mode": {
    "name": "ipython",
    "version": 3
   },
   "file_extension": ".py",
   "mimetype": "text/x-python",
   "name": "python",
   "nbconvert_exporter": "python",
   "pygments_lexer": "ipython3",
   "version": "3.12.7"
  }
 },
 "nbformat": 4,
 "nbformat_minor": 5
}
