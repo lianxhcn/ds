{
 "cells": [
  {
   "cell_type": "markdown",
   "id": "37b2c813",
   "metadata": {},
   "source": [
    "## 网络爬虫 - 01 简介\n",
    "\n",
    "本节介绍简单的静态网页爬虫。\n",
    "\n"
   ]
  },
  {
   "cell_type": "code",
   "execution_count": null,
   "id": "583186d9",
   "metadata": {},
   "outputs": [
    {
     "name": "stdout",
     "output_type": "stream",
     "text": [
      "PDF 已下载至当前目录：Python_Control_Structures_Cheatsheet.pdf\n"
     ]
    }
   ],
   "source": [
    "import requests\n",
    "import os\n",
    "\n",
    "# 设置文件路径\n",
    "path = \"D:/github/dsfinance/refs\" # 存储 PDF 文件的路径\n",
    "os.chdir(path)   # 切换到指定目录\n",
    "\n",
    "url = \"https://blog.finxter.com/thank-you-for-subscribing/\"\n",
    "filename = \"Python_Control_Structures_Cheatsheet.pdf\"  # 可根据需要修改文件名\n",
    "\n",
    "response = requests.get(url)      # 获取网页内容\n",
    "with open(filename, \"wb\") as file:\n",
    "    file.write(response.content)\n",
    "\n",
    "print(f\"PDF 已下载至当前目录：{filename}\")\n"
   ]
  },
  {
   "cell_type": "markdown",
   "id": "8efe6ff6",
   "metadata": {},
   "source": [
    "## 爬取一个页面中的所有 PDF 链接\n",
    "\n"
   ]
  },
  {
   "cell_type": "code",
   "execution_count": 1,
   "id": "340091a1",
   "metadata": {},
   "outputs": [
    {
     "data": {
      "text/plain": [
       "'\\ndir(response)     # 查看 response 对象的属性和方法\\nresponse.links    # 查看网页中的链接\\nresponse.content  # 获取网页的二进制内容\\n'"
      ]
     },
     "execution_count": 1,
     "metadata": {},
     "output_type": "execute_result"
    }
   ],
   "source": [
    "import requests\n",
    "from bs4 import BeautifulSoup\n",
    "\n",
    "# 网页 URL \n",
    "url = \"https://blog.finxter.com/thank-you-for-subscribing/\"\n",
    "'''Note: 你可以在浏览器中打开这个链接，\n",
    "         [右击网页]，选择 “[查看网页源代码]” (快捷键 Ctrl+U)，\n",
    "         以便查看网页的 HTML 结构。'''\n",
    "# 发起请求，获取网页内容\n",
    "response = requests.get(url)\n",
    "soup = BeautifulSoup(response.content, 'html.parser')\n",
    "\n",
    "\"\"\"\n",
    "dir(response)     # 查看 response 对象的属性和方法\n",
    "response.links    # 查看网页中的链接\n",
    "response.content  # 获取网页的二进制内容\n",
    "\"\"\""
   ]
  },
  {
   "cell_type": "code",
   "execution_count": 2,
   "id": "3f73bb98",
   "metadata": {},
   "outputs": [
    {
     "name": "stdout",
     "output_type": "stream",
     "text": [
      "PDF 文件的 URL 列表:\n",
      "https://blog.finxter.com/wp-content/uploads/2023/03/Finxter_Prompting_OpenAI-1.pdf\n",
      "https://blog.finxter.com/wp-content/uploads/2020/07/Finxter_WorldsMostDensePythonCheatSheet.pdf\n",
      "https://blog.finxter.com/wp-content/uploads/2021/03/Simplicity_TheFinerArtOfCreatingSoftware_CheatSheet_1Page.pdf\n",
      "https://blog.finxter.com/wp-content/uploads/2019/02/CheatSheet-Python-2_-Data-Structures.docx.pdf\n",
      "https://blog.finxter.com/wp-content/uploads/2022/10/Finxter-Python-Cheat-Sheet-Complex-Data-Types.pdf\n",
      "https://blog.finxter.com/wp-content/uploads/2019/02/CheatSheet-Python-4_-Classes.pdf\n",
      "https://blog.finxter.com/wp-content/uploads/2019/02/CheatSheet-Python-1_-Keywords1.pdf\n",
      "https://blog.finxter.com/wp-content/uploads/2019/02/CheatSheet-Python-5_-Functions-and-Tricks.pdf\n",
      "https://blog.finxter.com/wp-content/uploads/2019/02/CheatSheet-Python-6_-Coding-Interview-Questions.pdf\n",
      "https://blog.finxter.com/wp-content/uploads/2023/04/Finxter_OpenAI_Glossary.pdf\n",
      "https://blog.finxter.com/wp-content/uploads/2023/04/Finxter_OpenAI_Python_API.pdf\n",
      "https://blog.finxter.com/wp-content/uploads/2019/04/CheatSheet-Python-7_-NumPy-1.pdf\n"
     ]
    }
   ],
   "source": [
    "\n",
    "# 提取所有 PDF 文件的 URL\n",
    "pdf_urls = []\n",
    "\n",
    "# 查找所有的 <a> 标签，并提取其中的 PDF 文件链接\n",
    "for link in soup.find_all('a', href=True):\n",
    "    href = link['href']\n",
    "    if href.lower().endswith('.pdf'):\n",
    "        pdf_urls.append(href)\n",
    "\n",
    "# 输出所有 PDF 文件的 URL\n",
    "print(\"PDF 文件的 URL 列表:\")\n",
    "for pdf_url in pdf_urls:\n",
    "    print(pdf_url)\n"
   ]
  }
 ],
 "metadata": {
  "kernelspec": {
   "display_name": "base",
   "language": "python",
   "name": "python3"
  },
  "language_info": {
   "codemirror_mode": {
    "name": "ipython",
    "version": 3
   },
   "file_extension": ".py",
   "mimetype": "text/x-python",
   "name": "python",
   "nbconvert_exporter": "python",
   "pygments_lexer": "ipython3",
   "version": "3.12.7"
  }
 },
 "nbformat": 4,
 "nbformat_minor": 5
}
