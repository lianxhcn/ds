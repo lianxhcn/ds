{
 "cells": [
  {
   "cell_type": "markdown",
   "id": "8b6586f3",
   "metadata": {},
   "source": [
    "# 统计基础\n",
    "\n",
    "outline\n",
    "\n",
    "- 分布函数\n",
    "- 抽样\n",
    "- 参数估计\n",
    "- 假设检验\n",
    "- 相关性\n",
    "- 回归分析\n",
    "\n",
    "- 备用资料\n",
    "  - Machine Learning Foundations: Linear Algebra, Calculus, Statistics & Computer Science, [6-statistics.ipynb](https://github.com/jonkrohn/ML-foundations/blob/master/notebooks/6-statistics.ipynb)\n",
    "    - 介绍了 t 检验，分布函数等内容"
   ]
  }
 ],
 "metadata": {
  "language_info": {
   "name": "python"
  }
 },
 "nbformat": 4,
 "nbformat_minor": 5
}
