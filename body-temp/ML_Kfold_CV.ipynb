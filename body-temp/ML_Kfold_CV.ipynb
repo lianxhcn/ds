{
 "cells": [
  {
   "cell_type": "markdown",
   "id": "2ccc8666",
   "metadata": {},
   "source": [
    "\n",
    "\n",
    "- [Tutorial: K Fold Cross Validation](https://www.kaggle.com/code/satishgunjal/tutorial-k-fold-cross-validation)\n",
    "- [-Kaggle-notes](https://www.kaggle.com/search?q=K+Fold+Cross+Validation+in%3Anotebooks)"
   ]
  }
 ],
 "metadata": {
  "language_info": {
   "name": "python"
  }
 },
 "nbformat": 4,
 "nbformat_minor": 5
}
