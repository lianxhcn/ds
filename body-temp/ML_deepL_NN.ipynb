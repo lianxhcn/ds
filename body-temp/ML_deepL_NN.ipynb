{
 "cells": [
  {
   "cell_type": "markdown",
   "id": "b5cdc9bd",
   "metadata": {},
   "source": [
    "\n",
    "- [Getting Started with PyTorch for Deep Learning](https://www.dataquest.io/blog/pytorch-for-deep-learning/)\n",
    "  - 介绍了人工神经网络的基本原理\n",
    "- [Sequence Models in PyTorch](https://www.dataquest.io/blog/sequence-models-in-pytorch/)"
   ]
  }
 ],
 "metadata": {
  "language_info": {
   "name": "python"
  }
 },
 "nbformat": 4,
 "nbformat_minor": 5
}
