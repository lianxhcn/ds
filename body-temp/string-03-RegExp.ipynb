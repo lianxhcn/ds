{
 "cells": [
  {
   "cell_type": "markdown",
   "id": "7ead3abf",
   "metadata": {},
   "source": [
    "# 正则表达式\n",
    "\n",
    "- [Python re document](https://docs.python.org/3/library/re.html)\n",
    "- [Python 官网：正则表达式指南](https://docs.python.org/zh-cn/3.13/howto/regex.html#regular-expression-howto)\n",
    "- [Google - Python Regular Expressions](https://developers.google.com/edu/python/regular-expressions)\n",
    "  - 清晰明了，以这个为基础，替换一些中文的例子"
   ]
  },
  {
   "cell_type": "markdown",
   "id": "ea7c7091",
   "metadata": {},
   "source": [
    "| 语法 | 描述 |\n",
    "| :--- | :--- |\n",
    "| `.` | 通配符，匹配任意字符 |\n",
    "| `\\w \\W` | 匹配任意（非）单词字符（注意，计算机对于单词字符的定义可能和你不同） |\n",
    "| `\\d \\D` | 匹配任意（非）数字字符 |\n",
    "| `\\s \\S` | 匹配任意（非）空白字符 |\n",
    "| `\\p{...}` | 匹配具有指定 Unicode 属性的任意字符 |\n",
    "| `\\P{...}` | 匹配不具有指定 Unicode 属性的任意字符 |\n",
    "| `\\X` | 匹配一个 Unicode 扩展字素簇（详见章节末尾） |\n",
    "| `^abc` | 在字符串开头（若开启多行标志，则为行首）匹配模式 `abc` |\n",
    "| `abc$` | 在字符串结尾（若开启多行标志，则为行尾）匹配模式 `abc` |\n",
    "| `\\babc\\b` | 匹配被单词边界环绕的模式 `abc` |\n",
    "| `\\Babc\\B` | 匹配不被单词边界环绕的模式 `abc` |\n",
    "| `[abc]` | 匹配字符集中的任意一个字符 |\n",
    "| `[^abc]` | 匹配不在字符集中的任意一个字符 |\n",
    "| `[A - Z0 - 9]` | 匹配指定字符范围中的任意一个字符 |\n",
    "| `ed\\|ing\\|s` | 匹配指定字符串中的任意一个（逻辑或） |\n",
    "| `*` | 匹配前一个元素零次或多次，例如 `a*`、`[a - z]*`（也称为 Kleene 闭包）；贪婪匹配（尽可能多地匹配） |\n",
    "| `*?` | 与 `*` 作用相同，但为非贪婪匹配（尽可能少地匹配） |\n",
    "| `+` | 匹配前一个元素一次或多次，例如 `a+`、`[a - z]+`；贪婪匹配 |\n",
    "| `+?` | 与 `+` 作用相同，但为非贪婪匹配 |\n",
    "| `?` | 匹配前一个元素零次或一次（即可选），例如 `a?`、`[a - z]?` |\n",
    "| `{n}` | 精确匹配前一个元素 n 次，其中 n 为非负整数 |\n",
    "| `{n,}` | 至少匹配前一个元素 n 次 |\n",
    "| `{,n}` | 最多匹配前一个元素 n 次 |\n",
    "| `{m,n}` | 至少匹配前一个元素 m 次且最多匹配 n 次 |\n",
    "| `a(b\\|c)+` | 括号表示运算符的作用范围，并捕获相应的字符组，之后可通过 `match.group()` 或 `match.groups()` 方法访问这些字符组，也可使用反向引用：`\\1`、`\\2` 等，具体取决于组的顺序 |\n",
    "| `a(?:b\\|c)+` | 括号的非捕获版本 | "
   ]
  }
 ],
 "metadata": {
  "language_info": {
   "name": "python"
  }
 },
 "nbformat": 4,
 "nbformat_minor": 5
}
