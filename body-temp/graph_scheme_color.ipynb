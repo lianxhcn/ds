{
 "cells": [
  {
   "cell_type": "markdown",
   "id": "7ab08002",
   "metadata": {},
   "source": [
    "# 图形模版和配色方案\n",
    "\n",
    "## 简介\n",
    "\n",
    "## 图形模版\n",
    "\n",
    "\n",
    "### 何谓图形模版？\n",
    "图形模版用于设定图形的整体布局、样式，如背景颜色、字体、线条样式等，功能与我们平时使用的 PowerPoint 模版类似。例如，同样一幅图形，如要插入学术论文，通常会选择黑白模版，而进行会议展示时，则会选择彩色模版；有些时候会采用冷色调的模版，有些时候则会采用暖色调的模版。\n",
    "\n",
    "下图左侧是一幅黑白模版的图形，右侧是同一幅图形的彩色模版。\n",
    "\n",
    "![](figs/graph_scheme_001.png)\n",
    "\n",
    "> Source: [图形模板汇总 - Style sheets reference](https://matplotlib.org/stable/gallery/style_sheets/style_sheets_reference.html#sphx-glr-gallery-style-sheets-style-sheets-reference-py)\n",
    "\n",
    "[custom-matplotlib-theme-with-morethemes.ipynb](https://github.com/holtzy/The-Python-Graph-Gallery/blob/master/src/notebooks/custom-matplotlib-theme-with-morethemes.ipynb)"
   ]
  },
  {
   "cell_type": "code",
   "execution_count": 2,
   "id": "ff7dd207",
   "metadata": {},
   "outputs": [],
   "source": [
    "# 设置工作路径\n",
    "import os\n",
    "path = r'D:\\Github\\dslian\\body' # 酌情修改\n",
    "os.chdir(path)\n",
    "os.getcwd()\n",
    "\n",
    "# 导入必要的库\n",
    "import pandas as pd\n",
    "import matplotlib.pyplot as plt  # 数据可视化库\n",
    "\n",
    "# 屏蔽提示信息\n",
    "import warnings\n",
    "warnings.filterwarnings(\"ignore\")\n",
    "\n",
    "# 设置中文字体支持（如已设置可省略）\n",
    "plt.rcParams['font.sans-serif'] = ['SimHei'] \n",
    "plt.rcParams['axes.unicode_minus'] = False    \n",
    "\n",
    "# 设置全局图形大小\n",
    "plt.rcParams['figure.figsize'] = (2, 2)\n",
    "\n",
    "# 设置图形默认保存路径\n",
    "plt.rcParams['savefig.directory'] = 'figs' # 'D:\\Github\\dslian\\body\\figs'"
   ]
  },
  {
   "cell_type": "code",
   "execution_count": null,
   "id": "af0f100c",
   "metadata": {},
   "outputs": [],
   "source": [
    "#! pip install morethemes"
   ]
  },
  {
   "cell_type": "code",
   "execution_count": null,
   "id": "63876ce4",
   "metadata": {},
   "outputs": [],
   "source": []
  },
  {
   "cell_type": "markdown",
   "id": "cc417d60",
   "metadata": {},
   "source": [
    "\n",
    "\n",
    "\n",
    "### 如何设置图形模版？\n",
    "\n",
    "> [图形模板汇总 - Style sheets reference](https://matplotlib.org/stable/gallery/style_sheets/style_sheets_reference.html#sphx-glr-gallery-style-sheets-style-sheets-reference-py)\n",
    "\n",
    "\n",
    "- **使用图形库**：许多图形库（如Matplotlib、Seaborn等）提供了内置的图形模版，可以直接使用。\n",
    "- **自定义模版**：可以根据自己的需求创建自定义的图形模版。可以设置字体、颜色、线条样式等参数，以确保图形在视觉上具有一致性。\n",
    "- **保存模版**：创建完自定义模版后，可以将其保存为文件，以便在将来的项目中重复使用。\n",
    "- **使用模版**：在创建新图形时，可以加载保存的模版，以确保图形在视觉上具有一致性。\n",
    "\n",
    "### 典型实例\n",
    "  \n",
    "- [104-seaborn-themes.ipynb](https://github.com/holtzy/The-Python-Graph-Gallery/blob/master/src/notebooks/104-seaborn-themes.ipynb \"104-seaborn-themes.ipynb\")\n",
    "\n",
    "\n",
    "\n"
   ]
  },
  {
   "cell_type": "markdown",
   "id": "b4ff1465",
   "metadata": {},
   "source": [
    "## 颜色设置\n",
    "\n",
    "这部分内容是对下文「配色方案」部分的铺垫。 \n",
    "\n",
    "[196-select-one-color-with-matplotlib.ipynb](https://github.com/holtzy/The-Python-Graph-Gallery/blob/master/src/notebooks/196-select-one-color-with-matplotlib.ipynb \"196-select-one-color-with-matplotlib.ipynb\")\n",
    "\n",
    "\n",
    "- [matplotlib 中的颜色设置](https://matplotlib.org/stable/users/explain/colors/colors.html#sphx-glr-users-explain-colors-colors-py)\n",
    "  - 除了基本的颜色代码外，还支持 RGB、RGBA、CMYK、HSV、HLS 等颜色空间的表示方法。\n",
    "- [seaborn 中的调色盘](https://seaborn.pydata.org/tutorial/color_palettes.html) "
   ]
  },
  {
   "cell_type": "markdown",
   "id": "19098c71",
   "metadata": {},
   "source": [
    "## 配色方案\n",
    "\n",
    "### 何谓配色方案？\n",
    "\n",
    "配色方案是指在图形中使用的颜色组合。它们可以帮助传达信息、引导观众的注意力，并增强视觉吸引力。选择合适的配色方案对于图形设计至关重要，因为它们可以影响观众对信息的理解和感知。\n",
    "\n",
    "### 典型的配色方案\n",
    "- **单色配色方案**：使用同一颜色的不同明度和饱和度。它们通常用于创建简约和一致的外观。\n",
    "- **互补配色方案**：使用色轮上相对的颜色。它们可以创建强烈的对比和视觉冲击力。\n",
    "- **类似色配色方案**：使用色轮上相邻的颜色。它们通常用于创建和谐和统一的外观。\n",
    "\n",
    "### 实现方法\n",
    "\n",
    "### 典型实例\n",
    "\n",
    "- [100-calling-a-color-with-seaborn.ipynb](https://github.com/holtzy/The-Python-Graph-Gallery/blob/master/src/notebooks/100-calling-a-color-with-seaborn.ipynb)\n",
    "- [101-make-a-color-palette-with-seaborn.ipynb](https://github.com/holtzy/The-Python-Graph-Gallery/blob/master/src/notebooks/101-make-a-color-palette-with-seaborn.ipynb)\n",
    "- [185-lollipop-plot-with-conditional-color.ipynb](https://github.com/holtzy/The-Python-Graph-Gallery/blob/master/src/notebooks/185-lollipop-plot-with-conditional-color.ipynb \"185-lollipop-plot-with-conditional-color.ipynb\")\n",
    "\n",
    "## 扩展阅读"
   ]
  }
 ],
 "metadata": {
  "kernelspec": {
   "display_name": "base",
   "language": "python",
   "name": "python3"
  },
  "language_info": {
   "codemirror_mode": {
    "name": "ipython",
    "version": 3
   },
   "file_extension": ".py",
   "mimetype": "text/x-python",
   "name": "python",
   "nbconvert_exporter": "python",
   "pygments_lexer": "ipython3",
   "version": "3.12.7"
  }
 },
 "nbformat": 4,
 "nbformat_minor": 5
}
