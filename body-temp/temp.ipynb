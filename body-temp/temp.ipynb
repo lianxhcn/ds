{
 "cells": [
  {
   "cell_type": "code",
   "execution_count": 5,
   "id": "946cacf2",
   "metadata": {},
   "outputs": [
    {
     "name": "stdout",
     "output_type": "stream",
     "text": [
      "<ggplot: (600 x 600)>\n",
      "<ggplot: (600 x 600)>\n"
     ]
    },
    {
     "name": "stderr",
     "output_type": "stream",
     "text": [
      "C:\\Users\\Administrator\\AppData\\Local\\Temp\\ipykernel_28460\\1814444328.py:37: FutureWarning: Setting an item of incompatible dtype is deprecated and will raise an error in a future version of pandas. Value '1.845e-15' has dtype incompatible with float64, please explicitly cast to a compatible dtype first.\n"
     ]
    }
   ],
   "source": [
    "# -*- coding: utf-8 -*-\n",
    "\"\"\"\n",
    "Created on Sun Dec  1 17:04:43 2019\n",
    "\n",
    "@author: Jie Zhang，微信公众号【EasyShu】，本代码源自《Python数据可视化之美》\n",
    "\"\"\"\n",
    "\n",
    "import pandas as pd\n",
    "import numpy as np\n",
    "import seaborn as sns\n",
    "from plotnine import *\n",
    "from scipy import stats\n",
    "import matplotlib.pyplot as plt\n",
    "from plotnine.themes import theme_matplotlib\n",
    "\n",
    "\n",
    "\n",
    "\n",
    "df_iris = sns.load_dataset(\"iris\")\n",
    "df_group=df_iris.groupby(df_iris['species'],as_index =False).median()\n",
    "df_group=df_group.sort_values(by=\"sepal_width\",ascending= False) \n",
    "from pandas.api.types import CategoricalDtype\n",
    "\n",
    "species_dtype = CategoricalDtype(categories=df_group['species'], ordered=True)\n",
    "df_iris['species'] = df_iris['species'].astype(species_dtype)\n",
    "\n",
    "group=df_group['species']\n",
    "N=len(group)\n",
    "df_pvalue=pd.DataFrame(data=np.zeros((N,4)),columns=['species1','species2','pvalue','group'])\n",
    "n=0\n",
    "for i in range(N):\n",
    "    for j in range(i+1,N):\n",
    "        rvs1=df_iris.loc[df_iris['species'].eq(group[i]),'sepal_width'] \n",
    "        rvs2=df_iris.loc[df_iris['species'].eq(group[j]),'sepal_width']\n",
    "        #t,p=stats.wilcoxon(rvs1,rvs2,zero_method='wilcox', correction=False)  # wilcox.test()\n",
    "        t,p=stats.ttest_ind(rvs1,rvs2)   # t.test()\n",
    "        df_pvalue.loc[n,:]=[i,j,format(p,'.3e'),n]\n",
    "        n=n+1\n",
    "df_pvalue['y']=[4.5,5.,5.4]\n",
    "\n",
    "\n",
    "#--------------------------------------(b)带显著性标注的箱型图------------------------------------------------\n",
    "base_plot=(ggplot() +\n",
    "    geom_boxplot(df_iris, aes('species', 'sepal_width', fill = 'species'),width=0.65) +\n",
    "\n",
    "    #geom_violin(df_iris, aes('species', 'sepal_width', fill = 'species'),width=0.65)+\n",
    "    geom_jitter(df_iris, aes('species', 'sepal_width', fill = 'species'),width=0.15)+\n",
    "    scale_fill_hue(s = 0.99, l = 0.65, h=0.0417,color_space='husl')+\n",
    "\n",
    "    geom_segment(df_pvalue,aes(x ='species1+1', y = 'y', xend = 'species2+1', yend='y',group='group'))+\n",
    "    geom_segment(df_pvalue,aes(x ='species1+1', y = 'y-0.1', xend = 'species1+1', yend='y',group='group'))+\n",
    "    geom_segment(df_pvalue,aes(x ='species2+1', y = 'y-0.1', xend = 'species2+1', yend='y',group='group'))+\n",
    "    geom_text(df_pvalue,aes(x ='(species1+species2)/2+1', y = 'y+0.1', label = 'pvalue',group='group'),ha='center')+\n",
    "    ylim(2, 5.5)+\n",
    "    theme_matplotlib()+\n",
    "    theme(figure_size=(6,6),\n",
    "          legend_position='none',\n",
    "          text=element_text(size=14,colour = \"black\")))\n",
    "print(base_plot)\n",
    "\n",
    "#-------------------------------------(c)带显著性标注的小提琴图-------------------------------------------------\n",
    "base_plot=(ggplot() +\n",
    "    #geom_boxplot(df_iris, aes('species', 'sepal_width', fill = 'species'),width=0.65) +\n",
    "\n",
    "    geom_violin(df_iris, aes('species', 'sepal_width', fill = 'species'),width=0.65)+\n",
    "    geom_jitter(df_iris, aes('species', 'sepal_width', fill = 'species'),width=0.15)+\n",
    "    scale_fill_hue(s = 0.99, l = 0.65, h=0.0417,color_space='husl')+\n",
    "\n",
    "    geom_segment(df_pvalue,aes(x ='species1+1', y = 'y', xend = 'species2+1', yend='y',group='group'))+\n",
    "    geom_segment(df_pvalue,aes(x ='species1+1', y = 'y-0.1', xend = 'species1+1', yend='y',group='group'))+\n",
    "    geom_segment(df_pvalue,aes(x ='species2+1', y = 'y-0.1', xend = 'species2+1', yend='y',group='group'))+\n",
    "    geom_text(df_pvalue,aes(x ='(species1+species2)/2+1', y = 'y+0.1', label = 'pvalue',group='group'),ha='center')+\n",
    "    ylim(2, 5.5)+\n",
    "    theme_matplotlib()+\n",
    "    theme(figure_size=(6,6),\n",
    "          legend_position='none',\n",
    "          text=element_text(size=14,colour = \"black\")))\n",
    "print(base_plot)\n"
   ]
  }
 ],
 "metadata": {
  "kernelspec": {
   "display_name": "base",
   "language": "python",
   "name": "python3"
  },
  "language_info": {
   "codemirror_mode": {
    "name": "ipython",
    "version": 3
   },
   "file_extension": ".py",
   "mimetype": "text/x-python",
   "name": "python",
   "nbconvert_exporter": "python",
   "pygments_lexer": "ipython3",
   "version": "3.12.7"
  }
 },
 "nbformat": 4,
 "nbformat_minor": 5
}
