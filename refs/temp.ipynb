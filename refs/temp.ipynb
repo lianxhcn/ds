{
 "cells": [
  {
   "cell_type": "code",
   "execution_count": 6,
   "id": "96b90597",
   "metadata": {},
   "outputs": [
    {
     "name": "stdout",
     "output_type": "stream",
     "text": [
      "贵州茅台 (600519) 过去 100 天交易量数据：\n",
      "          交易日期  交易量(手)\n",
      "0   2025-02-14   27100\n",
      "1   2025-02-17   32471\n",
      "2   2025-02-18   27800\n",
      "3   2025-02-19   32393\n",
      "4   2025-02-20   23750\n",
      "..         ...     ...\n",
      "62  2025-05-19   38063\n",
      "63  2025-05-20   19522\n",
      "64  2025-05-21   19795\n",
      "65  2025-05-22   15090\n",
      "66  2025-05-23   21537\n",
      "\n",
      "[67 rows x 2 columns]\n"
     ]
    }
   ],
   "source": [
    "import akshare as ak\n",
    "import pandas as pd\n",
    "from datetime import datetime, timedelta\n",
    "\n",
    "# 股票代码：贵州茅台（600519）\n",
    "stock_code = '600519'\n",
    "\n",
    "# 计算过去 100 天的日期范围\n",
    "end_date = datetime.now().strftime('%Y%m%d')\n",
    "start_date = (datetime.now() - timedelta(days=99)).strftime('%Y%m%d')\n",
    "\n",
    "# 获取股票历史行情数据（包含交易量信息）\n",
    "stock_df = ak.stock_zh_a_hist(symbol=stock_code, period=\"daily\", \n",
    "                             start_date=start_date, end_date=end_date, \n",
    "                             adjust=\"qfq\")  # 可选择 \"qfq\"（前复权）或 \"hfq\"（后复权）\n",
    "\n",
    "# 提取日期和交易量列，并调整列名\n",
    "result_df = stock_df[[\"日期\", \"成交量\"]].copy()\n",
    "result_df.columns = [\"交易日期\", \"交易量(手)\"]\n",
    "\n",
    "# 输出结果\n",
    "print(f\"贵州茅台 ({stock_code}) 过去 100 天交易量数据：\")\n",
    "print(result_df)\n",
    "\n",
    "# 保存为 CSV 文件（可选）\n",
    "result_df.to_csv(f\"{stock_code}_交易量_{start_date}_{end_date}.csv\", index=False, encoding=\"utf-8-sig\")"
   ]
  }
 ],
 "metadata": {
  "kernelspec": {
   "display_name": "base",
   "language": "python",
   "name": "python3"
  },
  "language_info": {
   "codemirror_mode": {
    "name": "ipython",
    "version": 3
   },
   "file_extension": ".py",
   "mimetype": "text/x-python",
   "name": "python",
   "nbconvert_exporter": "python",
   "pygments_lexer": "ipython3",
   "version": "3.12.7"
  }
 },
 "nbformat": 4,
 "nbformat_minor": 5
}
